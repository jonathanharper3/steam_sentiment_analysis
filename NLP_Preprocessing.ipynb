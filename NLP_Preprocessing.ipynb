{
 "cells": [
  {
   "cell_type": "markdown",
   "id": "06c7e00f",
   "metadata": {},
   "source": [
    "# Preprocessing Using spaCy\n",
    "### Overview\n",
    "After previously cleaning the review text using AWS Glue, this notebook will complete the preprocessing by using spaCy to tokenize the text so that the data can be used for model training and analysis."
   ]
  },
  {
   "cell_type": "markdown",
   "id": "7ecd98b9",
   "metadata": {},
   "source": [
    "## Import libraries"
   ]
  },
  {
   "cell_type": "code",
   "execution_count": 56,
   "id": "51b558e4",
   "metadata": {},
   "outputs": [],
   "source": [
    "import pandas as pd\n",
    "import matplotlib.pyplot as plt\n",
    "import seaborn as sns\n",
    "import altair as alt\n",
    "import re\n",
    "import spacy\n",
    "from spacy import displacy\n",
    "import awswrangler as wr\n",
    "import warnings\n",
    "warnings.simplefilter(action='ignore', category=FutureWarning)"
   ]
  },
  {
   "cell_type": "markdown",
   "id": "26a79910",
   "metadata": {},
   "source": [
    "Verify installed version of spaCy."
   ]
  },
  {
   "cell_type": "code",
   "execution_count": 3,
   "id": "00c5bee4",
   "metadata": {},
   "outputs": [
    {
     "data": {
      "text/plain": [
       "'3.5.0'"
      ]
     },
     "execution_count": 3,
     "metadata": {},
     "output_type": "execute_result"
    }
   ],
   "source": [
    "spacy.__version__"
   ]
  },
  {
   "cell_type": "markdown",
   "id": "2683acc9",
   "metadata": {},
   "source": [
    "## 1. Import data from S3\n",
    "Data will be imported from S3 which has been previously cleaned in AWS Glue. Prior cleaning involved removing whitespace, lowercasing the text, and removing early access reviews since these reviews provided very little information."
   ]
  },
  {
   "cell_type": "code",
   "execution_count": 4,
   "id": "92889f92",
   "metadata": {},
   "outputs": [],
   "source": [
    "df = wr.s3.read_csv(path='s3://siads696-wi23-steam-data/write_down_dyf_to_s3/')"
   ]
  },
  {
   "cell_type": "code",
   "execution_count": 5,
   "id": "36f91420",
   "metadata": {},
   "outputs": [
    {
     "data": {
      "text/html": [
       "<div>\n",
       "<style scoped>\n",
       "    .dataframe tbody tr th:only-of-type {\n",
       "        vertical-align: middle;\n",
       "    }\n",
       "\n",
       "    .dataframe tbody tr th {\n",
       "        vertical-align: top;\n",
       "    }\n",
       "\n",
       "    .dataframe thead th {\n",
       "        text-align: right;\n",
       "    }\n",
       "</style>\n",
       "<table border=\"1\" class=\"dataframe\">\n",
       "  <thead>\n",
       "    <tr style=\"text-align: right;\">\n",
       "      <th></th>\n",
       "      <th>app_id</th>\n",
       "      <th>app_name</th>\n",
       "      <th>review_text</th>\n",
       "      <th>review_score</th>\n",
       "      <th>review_votes</th>\n",
       "    </tr>\n",
       "  </thead>\n",
       "  <tbody>\n",
       "    <tr>\n",
       "      <th>0</th>\n",
       "      <td>107410</td>\n",
       "      <td>Arma 3</td>\n",
       "      <td>this is not a game for people who want fast ac...</td>\n",
       "      <td>1</td>\n",
       "      <td>1</td>\n",
       "    </tr>\n",
       "    <tr>\n",
       "      <th>1</th>\n",
       "      <td>107410</td>\n",
       "      <td>Arma 3</td>\n",
       "      <td>oh man. where to even begin with this one. it ...</td>\n",
       "      <td>1</td>\n",
       "      <td>1</td>\n",
       "    </tr>\n",
       "    <tr>\n",
       "      <th>2</th>\n",
       "      <td>107410</td>\n",
       "      <td>Arma 3</td>\n",
       "      <td>my first game on a3 brought me the most horrif...</td>\n",
       "      <td>1</td>\n",
       "      <td>0</td>\n",
       "    </tr>\n",
       "    <tr>\n",
       "      <th>3</th>\n",
       "      <td>107410</td>\n",
       "      <td>Arma 3</td>\n",
       "      <td>i spent several years in the army and i gotta ...</td>\n",
       "      <td>1</td>\n",
       "      <td>1</td>\n",
       "    </tr>\n",
       "    <tr>\n",
       "      <th>4</th>\n",
       "      <td>107410</td>\n",
       "      <td>Arma 3</td>\n",
       "      <td>having accumulated over 13400 hours in-game wi...</td>\n",
       "      <td>1</td>\n",
       "      <td>1</td>\n",
       "    </tr>\n",
       "  </tbody>\n",
       "</table>\n",
       "</div>"
      ],
      "text/plain": [
       "   app_id app_name                                        review_text  \\\n",
       "0  107410   Arma 3  this is not a game for people who want fast ac...   \n",
       "1  107410   Arma 3  oh man. where to even begin with this one. it ...   \n",
       "2  107410   Arma 3  my first game on a3 brought me the most horrif...   \n",
       "3  107410   Arma 3  i spent several years in the army and i gotta ...   \n",
       "4  107410   Arma 3  having accumulated over 13400 hours in-game wi...   \n",
       "\n",
       "   review_score  review_votes  \n",
       "0             1             1  \n",
       "1             1             1  \n",
       "2             1             0  \n",
       "3             1             1  \n",
       "4             1             1  "
      ]
     },
     "execution_count": 5,
     "metadata": {},
     "output_type": "execute_result"
    }
   ],
   "source": [
    "df.head()"
   ]
  },
  {
   "cell_type": "code",
   "execution_count": 6,
   "id": "af9fd198",
   "metadata": {},
   "outputs": [
    {
     "data": {
      "text/plain": [
       "(846712, 5)"
      ]
     },
     "execution_count": 6,
     "metadata": {},
     "output_type": "execute_result"
    }
   ],
   "source": [
    "df.shape"
   ]
  },
  {
   "cell_type": "code",
   "execution_count": 7,
   "id": "bc7e0444",
   "metadata": {},
   "outputs": [
    {
     "data": {
      "text/plain": [
       "app_id           int64\n",
       "app_name        object\n",
       "review_text     object\n",
       "review_score     int64\n",
       "review_votes     int64\n",
       "dtype: object"
      ]
     },
     "execution_count": 7,
     "metadata": {},
     "output_type": "execute_result"
    }
   ],
   "source": [
    "df.dtypes"
   ]
  },
  {
   "cell_type": "markdown",
   "id": "326063aa",
   "metadata": {},
   "source": [
    "## 2. Preprocessing and Data Exploration\n",
    "### Check for missing values\n",
    "As part of the preprocessing done in AWS Glue we dropped records with missing text but as a sanity check we will check once more if there are any records that have a missing review."
   ]
  },
  {
   "cell_type": "code",
   "execution_count": 8,
   "id": "fa0b88cf",
   "metadata": {},
   "outputs": [
    {
     "data": {
      "text/plain": [
       "app_id           0\n",
       "app_name         0\n",
       "review_text     16\n",
       "review_score     0\n",
       "review_votes     0\n",
       "dtype: int64"
      ]
     },
     "execution_count": 8,
     "metadata": {},
     "output_type": "execute_result"
    }
   ],
   "source": [
    "df.isnull().sum()"
   ]
  },
  {
   "cell_type": "code",
   "execution_count": 9,
   "id": "03646ff3",
   "metadata": {},
   "outputs": [],
   "source": [
    "df.dropna(inplace=True)"
   ]
  },
  {
   "cell_type": "code",
   "execution_count": 10,
   "id": "2b66bdc6",
   "metadata": {},
   "outputs": [
    {
     "data": {
      "text/plain": [
       "app_id          0\n",
       "app_name        0\n",
       "review_text     0\n",
       "review_score    0\n",
       "review_votes    0\n",
       "dtype: int64"
      ]
     },
     "execution_count": 10,
     "metadata": {},
     "output_type": "execute_result"
    }
   ],
   "source": [
    "df.isnull().sum()"
   ]
  },
  {
   "cell_type": "markdown",
   "id": "eee6b8c2",
   "metadata": {},
   "source": [
    "### 2.2 Clean text using ReGex\n",
    "Here we create a function that removes puncuation and only keep words."
   ]
  },
  {
   "cell_type": "code",
   "execution_count": 11,
   "id": "2abcf69f",
   "metadata": {},
   "outputs": [],
   "source": [
    "def cleaner(df):\n",
    "    \"\"\"\n",
    "        Applies regex to review_text column to clean text\n",
    "        \n",
    "        Input:\n",
    "            dataframe\n",
    "        \n",
    "        Returns:\n",
    "            dataframe with clean_text column\n",
    "    \"\"\"\n",
    "\n",
    "    pattern = re.compile(r\"\\b\\w*[']\\w*\\b|[a-zA-Z]+\")\n",
    "    \n",
    "    df['clean_text'] = df['review_text'].str.findall(pattern).str.join(' ')\n",
    "    \n",
    "    return df"
   ]
  },
  {
   "cell_type": "markdown",
   "id": "ef83215e",
   "metadata": {},
   "source": [
    "Produce a new dataframe after removing punctuation and retaining only words for each review."
   ]
  },
  {
   "cell_type": "code",
   "execution_count": 12,
   "id": "d0ebd80e",
   "metadata": {
    "scrolled": true
   },
   "outputs": [
    {
     "name": "stdout",
     "output_type": "stream",
     "text": [
      "CPU times: user 18.2 s, sys: 318 ms, total: 18.5 s\n",
      "Wall time: 18.4 s\n"
     ]
    }
   ],
   "source": [
    "%%time\n",
    "df_clean = cleaner(df)"
   ]
  },
  {
   "cell_type": "markdown",
   "id": "fd9569ec",
   "metadata": {},
   "source": [
    "### 2.3 Drop rows with empty text after applying regex\n",
    "After using the regex to clean the text, we will now identify if there are any rows with empty text and drop them."
   ]
  },
  {
   "cell_type": "code",
   "execution_count": 13,
   "id": "29a8896b",
   "metadata": {},
   "outputs": [
    {
     "name": "stdout",
     "output_type": "stream",
     "text": [
      "Rows to drop: 10422\n"
     ]
    }
   ],
   "source": [
    "print('Rows to drop:', len(df_clean[df_clean['clean_text'] == '']))"
   ]
  },
  {
   "cell_type": "code",
   "execution_count": 14,
   "id": "624a9c4b",
   "metadata": {},
   "outputs": [],
   "source": [
    "df_clean = df_clean[df_clean['clean_text'] != '']"
   ]
  },
  {
   "cell_type": "code",
   "execution_count": 15,
   "id": "7afb0cbc",
   "metadata": {},
   "outputs": [
    {
     "data": {
      "text/plain": [
       "(836274, 6)"
      ]
     },
     "execution_count": 15,
     "metadata": {},
     "output_type": "execute_result"
    }
   ],
   "source": [
    "df_clean.shape"
   ]
  },
  {
   "cell_type": "markdown",
   "id": "5a3874cf",
   "metadata": {},
   "source": [
    "### 2.4 Check for duplicate reviews and drop\n",
    "Let's see if any reviews are duplicates and spot check the reviews."
   ]
  },
  {
   "cell_type": "code",
   "execution_count": 16,
   "id": "5ac8dcfb",
   "metadata": {},
   "outputs": [
    {
     "data": {
      "text/plain": [
       "183821"
      ]
     },
     "execution_count": 16,
     "metadata": {},
     "output_type": "execute_result"
    }
   ],
   "source": [
    "len(df_clean[df_clean.duplicated(subset=['app_name', 'clean_text'])].sort_values(['app_name','clean_text']))"
   ]
  },
  {
   "cell_type": "code",
   "execution_count": 17,
   "id": "79f5b083",
   "metadata": {
    "scrolled": true
   },
   "outputs": [
    {
     "data": {
      "text/html": [
       "<div>\n",
       "<style scoped>\n",
       "    .dataframe tbody tr th:only-of-type {\n",
       "        vertical-align: middle;\n",
       "    }\n",
       "\n",
       "    .dataframe tbody tr th {\n",
       "        vertical-align: top;\n",
       "    }\n",
       "\n",
       "    .dataframe thead th {\n",
       "        text-align: right;\n",
       "    }\n",
       "</style>\n",
       "<table border=\"1\" class=\"dataframe\">\n",
       "  <thead>\n",
       "    <tr style=\"text-align: right;\">\n",
       "      <th></th>\n",
       "      <th>app_id</th>\n",
       "      <th>app_name</th>\n",
       "      <th>review_text</th>\n",
       "      <th>review_score</th>\n",
       "      <th>review_votes</th>\n",
       "      <th>clean_text</th>\n",
       "    </tr>\n",
       "  </thead>\n",
       "  <tbody>\n",
       "    <tr>\n",
       "      <th>817414</th>\n",
       "      <td>230410</td>\n",
       "      <td>Warframe</td>\n",
       "      <td>you wanna know how good i think this game is? ...</td>\n",
       "      <td>1</td>\n",
       "      <td>0</td>\n",
       "      <td>you wanna know how good i think this game is i...</td>\n",
       "    </tr>\n",
       "    <tr>\n",
       "      <th>817425</th>\n",
       "      <td>230410</td>\n",
       "      <td>Warframe</td>\n",
       "      <td>you wanna know how good i think this game is? ...</td>\n",
       "      <td>1</td>\n",
       "      <td>0</td>\n",
       "      <td>you wanna know how good i think this game is i...</td>\n",
       "    </tr>\n",
       "    <tr>\n",
       "      <th>817426</th>\n",
       "      <td>230410</td>\n",
       "      <td>Warframe</td>\n",
       "      <td>you wanna know how good i think this game is? ...</td>\n",
       "      <td>1</td>\n",
       "      <td>0</td>\n",
       "      <td>you wanna know how good i think this game is i...</td>\n",
       "    </tr>\n",
       "  </tbody>\n",
       "</table>\n",
       "</div>"
      ],
      "text/plain": [
       "        app_id  app_name                                        review_text  \\\n",
       "817414  230410  Warframe  you wanna know how good i think this game is? ...   \n",
       "817425  230410  Warframe  you wanna know how good i think this game is? ...   \n",
       "817426  230410  Warframe  you wanna know how good i think this game is? ...   \n",
       "\n",
       "        review_score  review_votes  \\\n",
       "817414             1             0   \n",
       "817425             1             0   \n",
       "817426             1             0   \n",
       "\n",
       "                                               clean_text  \n",
       "817414  you wanna know how good i think this game is i...  \n",
       "817425  you wanna know how good i think this game is i...  \n",
       "817426  you wanna know how good i think this game is i...  "
      ]
     },
     "execution_count": 17,
     "metadata": {},
     "output_type": "execute_result"
    }
   ],
   "source": [
    "df_clean[(df_clean['app_name'] == 'Warframe') &  (df_clean['clean_text'].str.startswith('you wanna know how good i think'))]"
   ]
  },
  {
   "cell_type": "markdown",
   "id": "64c5ce3e",
   "metadata": {},
   "source": [
    "We can see that for the game Warframe there are 3 reviews that start with the text 'you wanna know how good i think'. Let's see if they are identical to each other."
   ]
  },
  {
   "cell_type": "code",
   "execution_count": 18,
   "id": "80a77c01",
   "metadata": {},
   "outputs": [
    {
     "name": "stdout",
     "output_type": "stream",
     "text": [
      "you wanna know how good i think this game is it's free to play and i spend money on it v\n",
      "you wanna know how good i think this game is it's free to play and i spend money on it v\n",
      "you wanna know how good i think this game is it's free to play and i spend money on it v\n"
     ]
    }
   ],
   "source": [
    "print(df_clean.loc[817414]['clean_text'])\n",
    "print(df_clean.loc[817425]['clean_text'])\n",
    "print(df_clean.loc[817426]['clean_text'])"
   ]
  },
  {
   "cell_type": "code",
   "execution_count": 19,
   "id": "81d44eb4",
   "metadata": {},
   "outputs": [
    {
     "data": {
      "text/plain": [
       "True"
      ]
     },
     "execution_count": 19,
     "metadata": {},
     "output_type": "execute_result"
    }
   ],
   "source": [
    "# check for string match\n",
    "df_clean.loc[817414]['clean_text'] == df_clean.loc[817425]['clean_text'] == df_clean.loc[817426]['clean_text']"
   ]
  },
  {
   "cell_type": "markdown",
   "id": "b9adf993",
   "metadata": {},
   "source": [
    "The 3 reviews are an exact match and we are going to drop all duplicated reviews except for the first occurrence."
   ]
  },
  {
   "cell_type": "code",
   "execution_count": 20,
   "id": "200e76fe",
   "metadata": {},
   "outputs": [],
   "source": [
    "df_clean = df_clean.drop_duplicates(subset=['app_name', 'clean_text'], keep='first')"
   ]
  },
  {
   "cell_type": "code",
   "execution_count": 21,
   "id": "5ace7614",
   "metadata": {},
   "outputs": [
    {
     "data": {
      "text/plain": [
       "(652453, 6)"
      ]
     },
     "execution_count": 21,
     "metadata": {},
     "output_type": "execute_result"
    }
   ],
   "source": [
    "df_clean.shape"
   ]
  },
  {
   "cell_type": "markdown",
   "id": "033aecaa",
   "metadata": {},
   "source": [
    "### 2.4 Data exploration\n",
    "### Plot histogram of number of words per review\n",
    "The dataset currently sits at 651K reviews.  Before moving forward, let's get the length of words in each review and the distribution."
   ]
  },
  {
   "cell_type": "code",
   "execution_count": 22,
   "id": "95fe07c1",
   "metadata": {},
   "outputs": [],
   "source": [
    "df_clean['num_words'] = df_clean['clean_text'].apply(lambda x: len(str(x).split()))"
   ]
  },
  {
   "cell_type": "code",
   "execution_count": 23,
   "id": "29118919",
   "metadata": {},
   "outputs": [
    {
     "data": {
      "text/html": [
       "<div>\n",
       "<style scoped>\n",
       "    .dataframe tbody tr th:only-of-type {\n",
       "        vertical-align: middle;\n",
       "    }\n",
       "\n",
       "    .dataframe tbody tr th {\n",
       "        vertical-align: top;\n",
       "    }\n",
       "\n",
       "    .dataframe thead th {\n",
       "        text-align: right;\n",
       "    }\n",
       "</style>\n",
       "<table border=\"1\" class=\"dataframe\">\n",
       "  <thead>\n",
       "    <tr style=\"text-align: right;\">\n",
       "      <th></th>\n",
       "      <th>app_id</th>\n",
       "      <th>app_name</th>\n",
       "      <th>review_text</th>\n",
       "      <th>review_score</th>\n",
       "      <th>review_votes</th>\n",
       "      <th>clean_text</th>\n",
       "      <th>num_words</th>\n",
       "    </tr>\n",
       "  </thead>\n",
       "  <tbody>\n",
       "    <tr>\n",
       "      <th>0</th>\n",
       "      <td>107410</td>\n",
       "      <td>Arma 3</td>\n",
       "      <td>this is not a game for people who want fast ac...</td>\n",
       "      <td>1</td>\n",
       "      <td>1</td>\n",
       "      <td>this is not a game for people who want fast ac...</td>\n",
       "      <td>457</td>\n",
       "    </tr>\n",
       "    <tr>\n",
       "      <th>1</th>\n",
       "      <td>107410</td>\n",
       "      <td>Arma 3</td>\n",
       "      <td>oh man. where to even begin with this one. it ...</td>\n",
       "      <td>1</td>\n",
       "      <td>1</td>\n",
       "      <td>oh man where to even begin with this one it wo...</td>\n",
       "      <td>674</td>\n",
       "    </tr>\n",
       "    <tr>\n",
       "      <th>2</th>\n",
       "      <td>107410</td>\n",
       "      <td>Arma 3</td>\n",
       "      <td>my first game on a3 brought me the most horrif...</td>\n",
       "      <td>1</td>\n",
       "      <td>0</td>\n",
       "      <td>my first game on a brought me the most horrifi...</td>\n",
       "      <td>198</td>\n",
       "    </tr>\n",
       "    <tr>\n",
       "      <th>3</th>\n",
       "      <td>107410</td>\n",
       "      <td>Arma 3</td>\n",
       "      <td>i spent several years in the army and i gotta ...</td>\n",
       "      <td>1</td>\n",
       "      <td>1</td>\n",
       "      <td>i spent several years in the army and i gotta ...</td>\n",
       "      <td>179</td>\n",
       "    </tr>\n",
       "    <tr>\n",
       "      <th>4</th>\n",
       "      <td>107410</td>\n",
       "      <td>Arma 3</td>\n",
       "      <td>having accumulated over 13400 hours in-game wi...</td>\n",
       "      <td>1</td>\n",
       "      <td>1</td>\n",
       "      <td>having accumulated over hours in game with arm...</td>\n",
       "      <td>40</td>\n",
       "    </tr>\n",
       "  </tbody>\n",
       "</table>\n",
       "</div>"
      ],
      "text/plain": [
       "   app_id app_name                                        review_text  \\\n",
       "0  107410   Arma 3  this is not a game for people who want fast ac...   \n",
       "1  107410   Arma 3  oh man. where to even begin with this one. it ...   \n",
       "2  107410   Arma 3  my first game on a3 brought me the most horrif...   \n",
       "3  107410   Arma 3  i spent several years in the army and i gotta ...   \n",
       "4  107410   Arma 3  having accumulated over 13400 hours in-game wi...   \n",
       "\n",
       "   review_score  review_votes  \\\n",
       "0             1             1   \n",
       "1             1             1   \n",
       "2             1             0   \n",
       "3             1             1   \n",
       "4             1             1   \n",
       "\n",
       "                                          clean_text  num_words  \n",
       "0  this is not a game for people who want fast ac...        457  \n",
       "1  oh man where to even begin with this one it wo...        674  \n",
       "2  my first game on a brought me the most horrifi...        198  \n",
       "3  i spent several years in the army and i gotta ...        179  \n",
       "4  having accumulated over hours in game with arm...         40  "
      ]
     },
     "execution_count": 23,
     "metadata": {},
     "output_type": "execute_result"
    }
   ],
   "source": [
    "df_clean.head()"
   ]
  },
  {
   "cell_type": "markdown",
   "id": "47f8903e",
   "metadata": {},
   "source": [
    "Plot a histram of bins containing 25 words."
   ]
  },
  {
   "cell_type": "code",
   "execution_count": 24,
   "id": "383aab72",
   "metadata": {},
   "outputs": [
    {
     "data": {
      "image/png": "[encoded data removed]",
      "text/plain": [
       "<Figure size 640x480 with 1 Axes>"
      ]
     },
     "metadata": {},
     "output_type": "display_data"
    }
   ],
   "source": [
    "sns.histplot(data = df_clean, x = 'num_words', binwidth = 25)\n",
    "plt.title('Number of words per review')\n",
    "plt.show()"
   ]
  },
  {
   "cell_type": "markdown",
   "id": "346df664",
   "metadata": {},
   "source": [
    "### Calculate quantiles for number of words in a review"
   ]
  },
  {
   "cell_type": "code",
   "execution_count": 25,
   "id": "446c0c70",
   "metadata": {},
   "outputs": [
    {
     "name": "stdout",
     "output_type": "stream",
     "text": [
      "1\n",
      "4.0\n",
      "10.0\n",
      "21.0\n",
      "197.0\n",
      "478.0\n",
      "2665\n"
     ]
    }
   ],
   "source": [
    "print(df_clean['num_words'].min())\n",
    "print(df_clean['num_words'].quantile(0.05))\n",
    "print(df_clean['num_words'].quantile(0.25))\n",
    "print(df_clean['num_words'].median())\n",
    "print(df_clean['num_words'].quantile(0.95))\n",
    "print(df_clean['num_words'].quantile(0.99))\n",
    "print(df_clean['num_words'].max())"
   ]
  },
  {
   "cell_type": "code",
   "execution_count": 27,
   "id": "92287e25",
   "metadata": {},
   "outputs": [
    {
     "data": {
      "text/html": [
       "\n",
       "<div id=\"altair-viz-81d16b396ace463b8b4b42229802d29e\"></div>\n",
       "<script type=\"text/javascript\">\n",
       "  var VEGA_DEBUG = (typeof VEGA_DEBUG == \"undefined\") ? {} : VEGA_DEBUG;\n",
       "  (function(spec, embedOpt){\n",
       "    let outputDiv = document.currentScript.previousElementSibling;\n",
       "    if (outputDiv.id !== \"altair-viz-81d16b396ace463b8b4b42229802d29e\") {\n",
       "      outputDiv = document.getElementById(\"altair-viz-81d16b396ace463b8b4b42229802d29e\");\n",
       "    }\n",
       "    const paths = {\n",
       "      \"vega\": \"https://cdn.jsdelivr.net/npm//vega@5?noext\",\n",
       "      \"vega-lib\": \"https://cdn.jsdelivr.net/npm//vega-lib?noext\",\n",
       "      \"vega-lite\": \"https://cdn.jsdelivr.net/npm//vega-lite@4.17.0?noext\",\n",
       "      \"vega-embed\": \"https://cdn.jsdelivr.net/npm//vega-embed@6?noext\",\n",
       "    };\n",
       "\n",
       "    function maybeLoadScript(lib, version) {\n",
       "      var key = `${lib.replace(\"-\", \"\")}_version`;\n",
       "      return (VEGA_DEBUG[key] == version) ?\n",
       "        Promise.resolve(paths[lib]) :\n",
       "        new Promise(function(resolve, reject) {\n",
       "          var s = document.createElement('script');\n",
       "          document.getElementsByTagName(\"head\")[0].appendChild(s);\n",
       "          s.async = true;\n",
       "          s.onload = () => {\n",
       "            VEGA_DEBUG[key] = version;\n",
       "            return resolve(paths[lib]);\n",
       "          };\n",
       "          s.onerror = () => reject(`Error loading script: ${paths[lib]}`);\n",
       "          s.src = paths[lib];\n",
       "        });\n",
       "    }\n",
       "\n",
       "    function showError(err) {\n",
       "      outputDiv.innerHTML = `<div class=\"error\" style=\"color:red;\">${err}</div>`;\n",
       "      throw err;\n",
       "    }\n",
       "\n",
       "    function displayChart(vegaEmbed) {\n",
       "      vegaEmbed(outputDiv, spec, embedOpt)\n",
       "        .catch(err => showError(`Javascript Error: ${err.message}<br>This usually means there's a typo in your chart specification. See the javascript console for the full traceback.`));\n",
       "    }\n",
       "\n",
       "    if(typeof define === \"function\" && define.amd) {\n",
       "      requirejs.config({paths});\n",
       "      require([\"vega-embed\"], displayChart, err => showError(`Error loading script: ${err.message}`));\n",
       "    } else {\n",
       "      maybeLoadScript(\"vega\", \"5\")\n",
       "        .then(() => maybeLoadScript(\"vega-lite\", \"4.17.0\"))\n",
       "        .then(() => maybeLoadScript(\"vega-embed\", \"6\"))\n",
       "        .catch(showError)\n",
       "        .then(() => displayChart(vegaEmbed));\n",
       "    }\n",
       "  })({\"config\": {\"view\": {\"continuousWidth\": 400, \"continuousHeight\": 300}, \"axis\": {\"grid\": false}}, \"layer\": [{\"mark\": \"bar\", \"encoding\": {\"x\": {\"axis\": {\"labelAngle\": 0}, \"field\": \"Quantile\", \"type\": \"nominal\"}, \"y\": {\"field\": \"Count of Words\", \"scale\": {\"domain\": [0, 600]}, \"type\": \"quantitative\"}}}, {\"mark\": {\"type\": \"text\", \"align\": \"center\", \"baseline\": \"middle\", \"dy\": -10}, \"encoding\": {\"text\": {\"field\": \"Count of Words\", \"type\": \"quantitative\"}, \"x\": {\"axis\": {\"labelAngle\": 0}, \"field\": \"Quantile\", \"type\": \"nominal\"}, \"y\": {\"field\": \"Count of Words\", \"scale\": {\"domain\": [0, 600]}, \"type\": \"quantitative\"}}}], \"data\": {\"name\": \"data-557e19b436127791c70c6814ea255aff\"}, \"height\": 400, \"title\": \"Number of Words per Quantitle\", \"width\": 600, \"$schema\": \"https://vega.github.io/schema/vega-lite/v4.17.0.json\", \"datasets\": {\"data-557e19b436127791c70c6814ea255aff\": [{\"Quantile\": \".05\", \"Count of Words\": 4.0}, {\"Quantile\": \".25\", \"Count of Words\": 10.0}, {\"Quantile\": \".95\", \"Count of Words\": 197.0}, {\"Quantile\": \".99\", \"Count of Words\": 478.0}]}}, {\"mode\": \"vega-lite\"});\n",
       "</script>"
      ],
      "text/plain": [
       "alt.LayerChart(...)"
      ]
     },
     "execution_count": 27,
     "metadata": {},
     "output_type": "execute_result"
    }
   ],
   "source": [
    "my_dict = {'.05':df_clean['num_words'].quantile(0.05),\n",
    "           '.25': df_clean['num_words'].quantile(0.25),\n",
    "           '.95': df_clean['num_words'].quantile(0.95),\n",
    "           '.99': df_clean['num_words'].quantile(0.99)}\n",
    "\n",
    "df_quantile = pd.DataFrame(my_dict.items(), columns=['Quantile','Count of Words'])\n",
    "\n",
    "\n",
    "bars= alt.Chart(df_quantile).mark_bar().encode(\n",
    "    x = alt.X(\"Quantile\", axis = alt.Axis(labelAngle = 0)),\n",
    "    y = alt.Y(\"Count of Words\", scale = alt.Scale(domain=[0,600]))\n",
    ")\n",
    "\n",
    "text = bars.mark_text(\n",
    "    align='center',\n",
    "    baseline='middle',\n",
    "    dy = -10    \n",
    ").encode(\n",
    "    text='Count of Words:Q'\n",
    ")\n",
    "\n",
    "(bars + text).properties(\n",
    "    width = 600,\n",
    "    height = 400,\n",
    "    title = \"Number of Words per Quantitle\"\n",
    ").configure_axis(grid=False)\n"
   ]
  },
  {
   "cell_type": "markdown",
   "id": "6b9ee278",
   "metadata": {},
   "source": [
    "### Plot boxenplot"
   ]
  },
  {
   "cell_type": "code",
   "execution_count": 28,
   "id": "0165a78a",
   "metadata": {},
   "outputs": [
    {
     "data": {
      "image/png": "[encoded data removed]",
      "text/plain": [
       "<Figure size 1500x1200 with 1 Axes>"
      ]
     },
     "metadata": {},
     "output_type": "display_data"
    }
   ],
   "source": [
    "plt.figure(figsize=(15,12))\n",
    "sns.boxenplot(x = \"num_words\", y = \"app_name\", \n",
    "              data = df_clean)\n",
    "plt.show()"
   ]
  },
  {
   "cell_type": "markdown",
   "id": "ef7365b6",
   "metadata": {},
   "source": [
    "### 2.5 Reduce the dataset\n",
    "Since 5% of the reviews have 4 words or less and 95% of reviews have 197 words or less, we will reduce the dataset to only keep reviews than have more than 4 words and at most 197 words. This will also help to remove some of the noise within our reviews."
   ]
  },
  {
   "cell_type": "code",
   "execution_count": 29,
   "id": "f374bc7f",
   "metadata": {},
   "outputs": [
    {
     "data": {
      "text/plain": [
       "(575223, 7)"
      ]
     },
     "execution_count": 29,
     "metadata": {},
     "output_type": "execute_result"
    }
   ],
   "source": [
    "df_clean = df_clean[(df_clean['num_words'] >= 5) & (df_clean['num_words'] <= 197)]\n",
    "df_clean.shape"
   ]
  },
  {
   "cell_type": "markdown",
   "id": "13d28332",
   "metadata": {},
   "source": [
    "Let's review the distribution of the number of words in each review after reducing the dataset."
   ]
  },
  {
   "cell_type": "code",
   "execution_count": 30,
   "id": "c2a8e93a",
   "metadata": {},
   "outputs": [
    {
     "data": {
      "image/png": "[encoded data removed]",
      "text/plain": [
       "<Figure size 640x480 with 1 Axes>"
      ]
     },
     "metadata": {},
     "output_type": "display_data"
    }
   ],
   "source": [
    "sns.histplot(data = df_clean, x = 'num_words', binwidth = 25)\n",
    "plt.title('Number of words per review')\n",
    "plt.show()"
   ]
  },
  {
   "cell_type": "markdown",
   "id": "5038677e",
   "metadata": {},
   "source": [
    "## 3. Setup the language processing pipeline\n",
    "Load the small language library `'en_core_web_sm'` into spaCy."
   ]
  },
  {
   "cell_type": "code",
   "execution_count": 32,
   "id": "e064a1d5",
   "metadata": {},
   "outputs": [],
   "source": [
    "nlp = spacy.load('en_core_web_sm')"
   ]
  },
  {
   "cell_type": "markdown",
   "id": "b8609998",
   "metadata": {},
   "source": [
    "spaCy takes in raw text and returns back a Doc object which is a sequence of token objects:\n",
    "- Doc - A container for accessing linguistic annotations.\n",
    "- Token - An individual token, i.e., a word, punctuation symbol, whitespace, etc."
   ]
  },
  {
   "cell_type": "markdown",
   "id": "0c8acbf0",
   "metadata": {},
   "source": [
    "<img src=\"pipeline.svg\" width=600 />"
   ]
  },
  {
   "cell_type": "markdown",
   "id": "d4fdc919",
   "metadata": {},
   "source": [
    "### Visualizing the dependency parse\n",
    "Depenency parsing is a language processing technique that allows us to better determine the meaning of a sentence by analyzing how it’s constructed to determine how the individual words relate to each other. Here we will visualize the syntactic structure of a sentence using spaCy's syntactic dependency visualizer. Let's start by converting a review into a spaCy document."
   ]
  },
  {
   "cell_type": "code",
   "execution_count": 33,
   "id": "1cfa41eb",
   "metadata": {},
   "outputs": [
    {
     "data": {
      "text/plain": [
       "\"it's not a good 'game' for newbies. no, it's not...  i use to sit at a place and watch the sunset. i have no idea how to actually shoot, drive and complete missions.  it's like my personal sunset simulator. and it's damn beautiful.  10/10\""
      ]
     },
     "execution_count": 33,
     "metadata": {},
     "output_type": "execute_result"
    }
   ],
   "source": [
    "df_clean['review_text'].iloc[8]"
   ]
  },
  {
   "cell_type": "code",
   "execution_count": 34,
   "id": "87b7fb7a",
   "metadata": {},
   "outputs": [
    {
     "data": {
      "text/html": [
       "<span class=\"tex2jax_ignore\"><svg xmlns=\"http://www.w3.org/2000/svg\" xmlns:xlink=\"http://www.w3.org/1999/xlink\" xml:lang=\"en\" id=\"7e6d4bc8db8b4488b2ae4f8aa6af4b4f-0\" class=\"displacy\" width=\"1010\" height=\"257.0\" direction=\"ltr\" style=\"max-width: none; height: 257.0px; color: #000000; background: #ffffff; font-family: Arial; direction: ltr\">\n",
       "<text class=\"displacy-token\" fill=\"currentColor\" text-anchor=\"middle\" y=\"167.0\">\n",
       "    <tspan class=\"displacy-word\" fill=\"currentColor\" x=\"50\">children</tspan>\n",
       "    <tspan class=\"displacy-tag\" dy=\"2em\" fill=\"currentColor\" x=\"50\">NOUN</tspan>\n",
       "</text>\n",
       "\n",
       "<text class=\"displacy-token\" fill=\"currentColor\" text-anchor=\"middle\" y=\"167.0\">\n",
       "    <tspan class=\"displacy-word\" fill=\"currentColor\" x=\"130\">play</tspan>\n",
       "    <tspan class=\"displacy-tag\" dy=\"2em\" fill=\"currentColor\" x=\"130\">VERB</tspan>\n",
       "</text>\n",
       "\n",
       "<text class=\"displacy-token\" fill=\"currentColor\" text-anchor=\"middle\" y=\"167.0\">\n",
       "    <tspan class=\"displacy-word\" fill=\"currentColor\" x=\"210\">call</tspan>\n",
       "    <tspan class=\"displacy-tag\" dy=\"2em\" fill=\"currentColor\" x=\"210\">NOUN</tspan>\n",
       "</text>\n",
       "\n",
       "<text class=\"displacy-token\" fill=\"currentColor\" text-anchor=\"middle\" y=\"167.0\">\n",
       "    <tspan class=\"displacy-word\" fill=\"currentColor\" x=\"290\">of</tspan>\n",
       "    <tspan class=\"displacy-tag\" dy=\"2em\" fill=\"currentColor\" x=\"290\">ADP</tspan>\n",
       "</text>\n",
       "\n",
       "<text class=\"displacy-token\" fill=\"currentColor\" text-anchor=\"middle\" y=\"167.0\">\n",
       "    <tspan class=\"displacy-word\" fill=\"currentColor\" x=\"370\">duty</tspan>\n",
       "    <tspan class=\"displacy-tag\" dy=\"2em\" fill=\"currentColor\" x=\"370\">NOUN</tspan>\n",
       "</text>\n",
       "\n",
       "<text class=\"displacy-token\" fill=\"currentColor\" text-anchor=\"middle\" y=\"167.0\">\n",
       "    <tspan class=\"displacy-word\" fill=\"currentColor\" x=\"450\">boys</tspan>\n",
       "    <tspan class=\"displacy-tag\" dy=\"2em\" fill=\"currentColor\" x=\"450\">NOUN</tspan>\n",
       "</text>\n",
       "\n",
       "<text class=\"displacy-token\" fill=\"currentColor\" text-anchor=\"middle\" y=\"167.0\">\n",
       "    <tspan class=\"displacy-word\" fill=\"currentColor\" x=\"530\">play</tspan>\n",
       "    <tspan class=\"displacy-tag\" dy=\"2em\" fill=\"currentColor\" x=\"530\">VERB</tspan>\n",
       "</text>\n",
       "\n",
       "<text class=\"displacy-token\" fill=\"currentColor\" text-anchor=\"middle\" y=\"167.0\">\n",
       "    <tspan class=\"displacy-word\" fill=\"currentColor\" x=\"610\">battlefield</tspan>\n",
       "    <tspan class=\"displacy-tag\" dy=\"2em\" fill=\"currentColor\" x=\"610\">NOUN</tspan>\n",
       "</text>\n",
       "\n",
       "<text class=\"displacy-token\" fill=\"currentColor\" text-anchor=\"middle\" y=\"167.0\">\n",
       "    <tspan class=\"displacy-word\" fill=\"currentColor\" x=\"690\"> </tspan>\n",
       "    <tspan class=\"displacy-tag\" dy=\"2em\" fill=\"currentColor\" x=\"690\">SPACE</tspan>\n",
       "</text>\n",
       "\n",
       "<text class=\"displacy-token\" fill=\"currentColor\" text-anchor=\"middle\" y=\"167.0\">\n",
       "    <tspan class=\"displacy-word\" fill=\"currentColor\" x=\"770\">men</tspan>\n",
       "    <tspan class=\"displacy-tag\" dy=\"2em\" fill=\"currentColor\" x=\"770\">NOUN</tspan>\n",
       "</text>\n",
       "\n",
       "<text class=\"displacy-token\" fill=\"currentColor\" text-anchor=\"middle\" y=\"167.0\">\n",
       "    <tspan class=\"displacy-word\" fill=\"currentColor\" x=\"850\">play</tspan>\n",
       "    <tspan class=\"displacy-tag\" dy=\"2em\" fill=\"currentColor\" x=\"850\">VERB</tspan>\n",
       "</text>\n",
       "\n",
       "<text class=\"displacy-token\" fill=\"currentColor\" text-anchor=\"middle\" y=\"167.0\">\n",
       "    <tspan class=\"displacy-word\" fill=\"currentColor\" x=\"930\">arma</tspan>\n",
       "    <tspan class=\"displacy-tag\" dy=\"2em\" fill=\"currentColor\" x=\"930\">PROPN</tspan>\n",
       "</text>\n",
       "\n",
       "<g class=\"displacy-arrow\">\n",
       "    <path class=\"displacy-arc\" id=\"arrow-7e6d4bc8db8b4488b2ae4f8aa6af4b4f-0-0\" stroke-width=\"2px\" d=\"M70,122.0 C70,82.0 120.0,82.0 120.0,122.0\" fill=\"none\" stroke=\"currentColor\"/>\n",
       "    <text dy=\"1.25em\" style=\"font-size: 0.8em; letter-spacing: 1px\">\n",
       "        <textPath xlink:href=\"#arrow-7e6d4bc8db8b4488b2ae4f8aa6af4b4f-0-0\" class=\"displacy-label\" startOffset=\"50%\" side=\"left\" fill=\"currentColor\" text-anchor=\"middle\">nsubj</textPath>\n",
       "    </text>\n",
       "    <path class=\"displacy-arrowhead\" d=\"M70,124.0 L62,112.0 78,112.0\" fill=\"currentColor\"/>\n",
       "</g>\n",
       "\n",
       "<g class=\"displacy-arrow\">\n",
       "    <path class=\"displacy-arc\" id=\"arrow-7e6d4bc8db8b4488b2ae4f8aa6af4b4f-0-1\" stroke-width=\"2px\" d=\"M150,122.0 C150,82.0 200.0,82.0 200.0,122.0\" fill=\"none\" stroke=\"currentColor\"/>\n",
       "    <text dy=\"1.25em\" style=\"font-size: 0.8em; letter-spacing: 1px\">\n",
       "        <textPath xlink:href=\"#arrow-7e6d4bc8db8b4488b2ae4f8aa6af4b4f-0-1\" class=\"displacy-label\" startOffset=\"50%\" side=\"left\" fill=\"currentColor\" text-anchor=\"middle\">dobj</textPath>\n",
       "    </text>\n",
       "    <path class=\"displacy-arrowhead\" d=\"M200.0,124.0 L208.0,112.0 192.0,112.0\" fill=\"currentColor\"/>\n",
       "</g>\n",
       "\n",
       "<g class=\"displacy-arrow\">\n",
       "    <path class=\"displacy-arc\" id=\"arrow-7e6d4bc8db8b4488b2ae4f8aa6af4b4f-0-2\" stroke-width=\"2px\" d=\"M230,122.0 C230,82.0 280.0,82.0 280.0,122.0\" fill=\"none\" stroke=\"currentColor\"/>\n",
       "    <text dy=\"1.25em\" style=\"font-size: 0.8em; letter-spacing: 1px\">\n",
       "        <textPath xlink:href=\"#arrow-7e6d4bc8db8b4488b2ae4f8aa6af4b4f-0-2\" class=\"displacy-label\" startOffset=\"50%\" side=\"left\" fill=\"currentColor\" text-anchor=\"middle\">prep</textPath>\n",
       "    </text>\n",
       "    <path class=\"displacy-arrowhead\" d=\"M280.0,124.0 L288.0,112.0 272.0,112.0\" fill=\"currentColor\"/>\n",
       "</g>\n",
       "\n",
       "<g class=\"displacy-arrow\">\n",
       "    <path class=\"displacy-arc\" id=\"arrow-7e6d4bc8db8b4488b2ae4f8aa6af4b4f-0-3\" stroke-width=\"2px\" d=\"M390,122.0 C390,82.0 440.0,82.0 440.0,122.0\" fill=\"none\" stroke=\"currentColor\"/>\n",
       "    <text dy=\"1.25em\" style=\"font-size: 0.8em; letter-spacing: 1px\">\n",
       "        <textPath xlink:href=\"#arrow-7e6d4bc8db8b4488b2ae4f8aa6af4b4f-0-3\" class=\"displacy-label\" startOffset=\"50%\" side=\"left\" fill=\"currentColor\" text-anchor=\"middle\">compound</textPath>\n",
       "    </text>\n",
       "    <path class=\"displacy-arrowhead\" d=\"M390,124.0 L382,112.0 398,112.0\" fill=\"currentColor\"/>\n",
       "</g>\n",
       "\n",
       "<g class=\"displacy-arrow\">\n",
       "    <path class=\"displacy-arc\" id=\"arrow-7e6d4bc8db8b4488b2ae4f8aa6af4b4f-0-4\" stroke-width=\"2px\" d=\"M310,122.0 C310,42.0 445.0,42.0 445.0,122.0\" fill=\"none\" stroke=\"currentColor\"/>\n",
       "    <text dy=\"1.25em\" style=\"font-size: 0.8em; letter-spacing: 1px\">\n",
       "        <textPath xlink:href=\"#arrow-7e6d4bc8db8b4488b2ae4f8aa6af4b4f-0-4\" class=\"displacy-label\" startOffset=\"50%\" side=\"left\" fill=\"currentColor\" text-anchor=\"middle\">pobj</textPath>\n",
       "    </text>\n",
       "    <path class=\"displacy-arrowhead\" d=\"M445.0,124.0 L453.0,112.0 437.0,112.0\" fill=\"currentColor\"/>\n",
       "</g>\n",
       "\n",
       "<g class=\"displacy-arrow\">\n",
       "    <path class=\"displacy-arc\" id=\"arrow-7e6d4bc8db8b4488b2ae4f8aa6af4b4f-0-5\" stroke-width=\"2px\" d=\"M150,122.0 C150,2.0 530.0,2.0 530.0,122.0\" fill=\"none\" stroke=\"currentColor\"/>\n",
       "    <text dy=\"1.25em\" style=\"font-size: 0.8em; letter-spacing: 1px\">\n",
       "        <textPath xlink:href=\"#arrow-7e6d4bc8db8b4488b2ae4f8aa6af4b4f-0-5\" class=\"displacy-label\" startOffset=\"50%\" side=\"left\" fill=\"currentColor\" text-anchor=\"middle\">advcl</textPath>\n",
       "    </text>\n",
       "    <path class=\"displacy-arrowhead\" d=\"M530.0,124.0 L538.0,112.0 522.0,112.0\" fill=\"currentColor\"/>\n",
       "</g>\n",
       "\n",
       "<g class=\"displacy-arrow\">\n",
       "    <path class=\"displacy-arc\" id=\"arrow-7e6d4bc8db8b4488b2ae4f8aa6af4b4f-0-6\" stroke-width=\"2px\" d=\"M630,122.0 C630,42.0 765.0,42.0 765.0,122.0\" fill=\"none\" stroke=\"currentColor\"/>\n",
       "    <text dy=\"1.25em\" style=\"font-size: 0.8em; letter-spacing: 1px\">\n",
       "        <textPath xlink:href=\"#arrow-7e6d4bc8db8b4488b2ae4f8aa6af4b4f-0-6\" class=\"displacy-label\" startOffset=\"50%\" side=\"left\" fill=\"currentColor\" text-anchor=\"middle\">compound</textPath>\n",
       "    </text>\n",
       "    <path class=\"displacy-arrowhead\" d=\"M630,124.0 L622,112.0 638,112.0\" fill=\"currentColor\"/>\n",
       "</g>\n",
       "\n",
       "<g class=\"displacy-arrow\">\n",
       "    <path class=\"displacy-arc\" id=\"arrow-7e6d4bc8db8b4488b2ae4f8aa6af4b4f-0-7\" stroke-width=\"2px\" d=\"M630,122.0 C630,82.0 680.0,82.0 680.0,122.0\" fill=\"none\" stroke=\"currentColor\"/>\n",
       "    <text dy=\"1.25em\" style=\"font-size: 0.8em; letter-spacing: 1px\">\n",
       "        <textPath xlink:href=\"#arrow-7e6d4bc8db8b4488b2ae4f8aa6af4b4f-0-7\" class=\"displacy-label\" startOffset=\"50%\" side=\"left\" fill=\"currentColor\" text-anchor=\"middle\">dep</textPath>\n",
       "    </text>\n",
       "    <path class=\"displacy-arrowhead\" d=\"M680.0,124.0 L688.0,112.0 672.0,112.0\" fill=\"currentColor\"/>\n",
       "</g>\n",
       "\n",
       "<g class=\"displacy-arrow\">\n",
       "    <path class=\"displacy-arc\" id=\"arrow-7e6d4bc8db8b4488b2ae4f8aa6af4b4f-0-8\" stroke-width=\"2px\" d=\"M790,122.0 C790,82.0 840.0,82.0 840.0,122.0\" fill=\"none\" stroke=\"currentColor\"/>\n",
       "    <text dy=\"1.25em\" style=\"font-size: 0.8em; letter-spacing: 1px\">\n",
       "        <textPath xlink:href=\"#arrow-7e6d4bc8db8b4488b2ae4f8aa6af4b4f-0-8\" class=\"displacy-label\" startOffset=\"50%\" side=\"left\" fill=\"currentColor\" text-anchor=\"middle\">nsubj</textPath>\n",
       "    </text>\n",
       "    <path class=\"displacy-arrowhead\" d=\"M790,124.0 L782,112.0 798,112.0\" fill=\"currentColor\"/>\n",
       "</g>\n",
       "\n",
       "<g class=\"displacy-arrow\">\n",
       "    <path class=\"displacy-arc\" id=\"arrow-7e6d4bc8db8b4488b2ae4f8aa6af4b4f-0-9\" stroke-width=\"2px\" d=\"M550,122.0 C550,2.0 850.0,2.0 850.0,122.0\" fill=\"none\" stroke=\"currentColor\"/>\n",
       "    <text dy=\"1.25em\" style=\"font-size: 0.8em; letter-spacing: 1px\">\n",
       "        <textPath xlink:href=\"#arrow-7e6d4bc8db8b4488b2ae4f8aa6af4b4f-0-9\" class=\"displacy-label\" startOffset=\"50%\" side=\"left\" fill=\"currentColor\" text-anchor=\"middle\">ccomp</textPath>\n",
       "    </text>\n",
       "    <path class=\"displacy-arrowhead\" d=\"M850.0,124.0 L858.0,112.0 842.0,112.0\" fill=\"currentColor\"/>\n",
       "</g>\n",
       "\n",
       "<g class=\"displacy-arrow\">\n",
       "    <path class=\"displacy-arc\" id=\"arrow-7e6d4bc8db8b4488b2ae4f8aa6af4b4f-0-10\" stroke-width=\"2px\" d=\"M870,122.0 C870,82.0 920.0,82.0 920.0,122.0\" fill=\"none\" stroke=\"currentColor\"/>\n",
       "    <text dy=\"1.25em\" style=\"font-size: 0.8em; letter-spacing: 1px\">\n",
       "        <textPath xlink:href=\"#arrow-7e6d4bc8db8b4488b2ae4f8aa6af4b4f-0-10\" class=\"displacy-label\" startOffset=\"50%\" side=\"left\" fill=\"currentColor\" text-anchor=\"middle\">dobj</textPath>\n",
       "    </text>\n",
       "    <path class=\"displacy-arrowhead\" d=\"M920.0,124.0 L928.0,112.0 912.0,112.0\" fill=\"currentColor\"/>\n",
       "</g>\n",
       "</svg></span>"
      ],
      "text/plain": [
       "<IPython.core.display.HTML object>"
      ]
     },
     "metadata": {},
     "output_type": "display_data"
    }
   ],
   "source": [
    "doc = nlp(df_clean['review_text'].iloc[7])\n",
    "displacy.render(doc, style = 'dep', jupyter = True, options = {'distance':80})"
   ]
  },
  {
   "cell_type": "markdown",
   "id": "24c3082c",
   "metadata": {},
   "source": [
    "### Visualizing the entity recognizer\n",
    "Visualize entities in the text of the first review."
   ]
  },
  {
   "cell_type": "code",
   "execution_count": 35,
   "id": "8126c510",
   "metadata": {},
   "outputs": [
    {
     "data": {
      "text/html": [
       "<span class=\"tex2jax_ignore\"><div class=\"entities\" style=\"line-height: 2.5; direction: ltr\">drive in a tempest truck at \n",
       "<mark class=\"entity\" style=\"background: #e4e7d2; padding: 0.45em 0.6em; margin: 0 0.25em; line-height: 1; border-radius: 0.35em;\">\n",
       "    100 km/h. friend desyncs\n",
       "    <span style=\"font-size: 0.8em; font-weight: bold; line-height: 1; border-radius: 0.35em; vertical-align: middle; margin-left: 0.5rem\">QUANTITY</span>\n",
       "</mark>\n",
       ". slam into back of his truck. flip... sit there for a \n",
       "<mark class=\"entity\" style=\"background: #e4e7d2; padding: 0.45em 0.6em; margin: 0 0.25em; line-height: 1; border-radius: 0.35em;\">\n",
       "    second\n",
       "    <span style=\"font-size: 0.8em; font-weight: bold; line-height: 1; border-radius: 0.35em; vertical-align: middle; margin-left: 0.5rem\">ORDINAL</span>\n",
       "</mark>\n",
       "... 'you're still ok' a friend says... ...and bam! i blow up with a \n",
       "<mark class=\"entity\" style=\"background: #bfeeb7; padding: 0.45em 0.6em; margin: 0 0.25em; line-height: 1; border-radius: 0.35em;\">\n",
       "    300k\n",
       "    <span style=\"font-size: 0.8em; font-weight: bold; line-height: 1; border-radius: 0.35em; vertical-align: middle; margin-left: 0.5rem\">PRODUCT</span>\n",
       "</mark>\n",
       " truck with \n",
       "<mark class=\"entity\" style=\"background: #bfeeb7; padding: 0.45em 0.6em; margin: 0 0.25em; line-height: 1; border-radius: 0.35em;\">\n",
       "    300k\n",
       "    <span style=\"font-size: 0.8em; font-weight: bold; line-height: 1; border-radius: 0.35em; vertical-align: middle; margin-left: 0.5rem\">PRODUCT</span>\n",
       "</mark>\n",
       " worth of oil. scream alt+f4 while mashing keyboard. launch \n",
       "<mark class=\"entity\" style=\"background: #aa9cfc; padding: 0.45em 0.6em; margin: 0 0.25em; line-height: 1; border-radius: 0.35em;\">\n",
       "    arma spawn\n",
       "    <span style=\"font-size: 0.8em; font-weight: bold; line-height: 1; border-radius: 0.35em; vertical-align: middle; margin-left: 0.5rem\">PERSON</span>\n",
       "</mark>\n",
       " with all my gear and oil in truck. 10/10 would play again</div></span>"
      ],
      "text/plain": [
       "<IPython.core.display.HTML object>"
      ]
     },
     "metadata": {},
     "output_type": "display_data"
    }
   ],
   "source": [
    "doc = nlp(df_clean['review_text'].iloc[100])\n",
    "displacy.render(doc, style = 'ent', jupyter = True)"
   ]
  },
  {
   "cell_type": "markdown",
   "id": "52f134c1",
   "metadata": {},
   "source": [
    "## 4. Tokenize the text using processing pipeline\n",
    "The `nlp.pipe` object will be used to tokenize the clean text, lemmatize each token, and return the token if it's not stopword. "
   ]
  },
  {
   "cell_type": "code",
   "execution_count": 36,
   "id": "d7a908ea",
   "metadata": {},
   "outputs": [
    {
     "data": {
      "text/plain": [
       "(575223, 7)"
      ]
     },
     "execution_count": 36,
     "metadata": {},
     "output_type": "execute_result"
    }
   ],
   "source": [
    "df_clean.shape"
   ]
  },
  {
   "cell_type": "code",
   "execution_count": 37,
   "id": "79894c58",
   "metadata": {},
   "outputs": [
    {
     "data": {
      "text/html": [
       "<div>\n",
       "<style scoped>\n",
       "    .dataframe tbody tr th:only-of-type {\n",
       "        vertical-align: middle;\n",
       "    }\n",
       "\n",
       "    .dataframe tbody tr th {\n",
       "        vertical-align: top;\n",
       "    }\n",
       "\n",
       "    .dataframe thead th {\n",
       "        text-align: right;\n",
       "    }\n",
       "</style>\n",
       "<table border=\"1\" class=\"dataframe\">\n",
       "  <thead>\n",
       "    <tr style=\"text-align: right;\">\n",
       "      <th></th>\n",
       "      <th>app_id</th>\n",
       "      <th>app_name</th>\n",
       "      <th>review_text</th>\n",
       "      <th>review_score</th>\n",
       "      <th>review_votes</th>\n",
       "      <th>clean_text</th>\n",
       "      <th>num_words</th>\n",
       "    </tr>\n",
       "  </thead>\n",
       "  <tbody>\n",
       "    <tr>\n",
       "      <th>3</th>\n",
       "      <td>107410</td>\n",
       "      <td>Arma 3</td>\n",
       "      <td>i spent several years in the army and i gotta ...</td>\n",
       "      <td>1</td>\n",
       "      <td>1</td>\n",
       "      <td>i spent several years in the army and i gotta ...</td>\n",
       "      <td>179</td>\n",
       "    </tr>\n",
       "    <tr>\n",
       "      <th>4</th>\n",
       "      <td>107410</td>\n",
       "      <td>Arma 3</td>\n",
       "      <td>having accumulated over 13400 hours in-game wi...</td>\n",
       "      <td>1</td>\n",
       "      <td>1</td>\n",
       "      <td>having accumulated over hours in game with arm...</td>\n",
       "      <td>40</td>\n",
       "    </tr>\n",
       "    <tr>\n",
       "      <th>6</th>\n",
       "      <td>107410</td>\n",
       "      <td>Arma 3</td>\n",
       "      <td>joined exile sever. found a 8 year old kid. ki...</td>\n",
       "      <td>1</td>\n",
       "      <td>0</td>\n",
       "      <td>joined exile sever found a year old kid kid sa...</td>\n",
       "      <td>59</td>\n",
       "    </tr>\n",
       "    <tr>\n",
       "      <th>7</th>\n",
       "      <td>107410</td>\n",
       "      <td>Arma 3</td>\n",
       "      <td>after some 1,400 hours on the game, i can say ...</td>\n",
       "      <td>1</td>\n",
       "      <td>1</td>\n",
       "      <td>after some hours on the game i can say with fu...</td>\n",
       "      <td>34</td>\n",
       "    </tr>\n",
       "    <tr>\n",
       "      <th>8</th>\n",
       "      <td>107410</td>\n",
       "      <td>Arma 3</td>\n",
       "      <td>this game made me realize that 15fps is playable.</td>\n",
       "      <td>1</td>\n",
       "      <td>0</td>\n",
       "      <td>this game made me realize that fps is playable</td>\n",
       "      <td>9</td>\n",
       "    </tr>\n",
       "  </tbody>\n",
       "</table>\n",
       "</div>"
      ],
      "text/plain": [
       "   app_id app_name                                        review_text  \\\n",
       "3  107410   Arma 3  i spent several years in the army and i gotta ...   \n",
       "4  107410   Arma 3  having accumulated over 13400 hours in-game wi...   \n",
       "6  107410   Arma 3  joined exile sever. found a 8 year old kid. ki...   \n",
       "7  107410   Arma 3  after some 1,400 hours on the game, i can say ...   \n",
       "8  107410   Arma 3  this game made me realize that 15fps is playable.   \n",
       "\n",
       "   review_score  review_votes  \\\n",
       "3             1             1   \n",
       "4             1             1   \n",
       "6             1             0   \n",
       "7             1             1   \n",
       "8             1             0   \n",
       "\n",
       "                                          clean_text  num_words  \n",
       "3  i spent several years in the army and i gotta ...        179  \n",
       "4  having accumulated over hours in game with arm...         40  \n",
       "6  joined exile sever found a year old kid kid sa...         59  \n",
       "7  after some hours on the game i can say with fu...         34  \n",
       "8     this game made me realize that fps is playable          9  "
      ]
     },
     "execution_count": 37,
     "metadata": {},
     "output_type": "execute_result"
    }
   ],
   "source": [
    "df_clean.head()"
   ]
  },
  {
   "cell_type": "code",
   "execution_count": 38,
   "id": "0cf10d6a",
   "metadata": {},
   "outputs": [
    {
     "data": {
      "text/plain": [
       "['tok2vec', 'tagger', 'parser', 'attribute_ruler', 'lemmatizer', 'ner']"
      ]
     },
     "execution_count": 38,
     "metadata": {},
     "output_type": "execute_result"
    }
   ],
   "source": [
    "nlp.pipe_names"
   ]
  },
  {
   "cell_type": "markdown",
   "id": "091945c4",
   "metadata": {},
   "source": [
    "### 4.1 Use parallelization job to preprocess the reviews\n",
    "We create a function to lemmatize each token in each doc and remove the token if it's a stopword.  Each doc is a review so we will be creating approximately 575K documents and generating tokens for each document since we have 575K reviews.\n",
    "\n",
    "When creating the `nlp.pip` object we are going to disable the parser and ner (named entity recognition) because they are computationally expensive and not necessary for our task."
   ]
  },
  {
   "cell_type": "code",
   "execution_count": 39,
   "id": "943d6585",
   "metadata": {},
   "outputs": [],
   "source": [
    "# get a set of stop words from spaCy nlp object\n",
    "stopwords = nlp.Defaults.stop_words\n",
    "\n",
    "def lemmatization(texts, allowed_postags=['NOUN','ADJ','VERB','ADV']):\n",
    "    '''\n",
    "        Returns a list of lemmatized texts\n",
    "        \n",
    "        Parameters:\n",
    "            texts: a list of strings\n",
    "        \n",
    "        Returns:\n",
    "            texts_out: a list of tokenized strings\n",
    "    '''\n",
    "    \n",
    "    texts_out = []\n",
    "    for doc in nlp.pipe(texts, disable=[\"parser\", \"ner\"], batch_size=1000, n_process=4):\n",
    "        new_text = []\n",
    "        for token in doc:\n",
    "            if token.pos_ in allowed_postags and token not in stopwords:\n",
    "                new_text.append(token.lemma_)\n",
    "        final = \" \".join(new_text)\n",
    "        texts_out.append(final)\n",
    "    return texts_out"
   ]
  },
  {
   "cell_type": "markdown",
   "id": "7621eb47",
   "metadata": {},
   "source": [
    "Test the lemmatization function."
   ]
  },
  {
   "cell_type": "code",
   "execution_count": 59,
   "id": "03df1e18",
   "metadata": {},
   "outputs": [
    {
     "data": {
      "text/plain": [
       "['spend several year army get say game spot training atmosphere military provide love difficult game love different feature game provide easy hit target assault rifle yard real life game seem match same difficulty fatigue real thing seriously hinder accuracy real life make stop catch breath run too far carry too much gear hard time hit target enemy stupid great vision engage enemy yard away use bush cover as well second rush move ai more advanced average taliban real life haha p give love military videogame one definitely favorite time']"
      ]
     },
     "execution_count": 59,
     "metadata": {},
     "output_type": "execute_result"
    }
   ],
   "source": [
    "lemmatization(df_clean.iloc[:1]['clean_text'])"
   ]
  },
  {
   "cell_type": "markdown",
   "id": "8a14938c",
   "metadata": {},
   "source": [
    "Create a small dataset to test out parallelization job."
   ]
  },
  {
   "cell_type": "code",
   "execution_count": 49,
   "id": "177a78ee",
   "metadata": {},
   "outputs": [],
   "source": [
    "# create a copy to avoid SettingWithCopyWarning\n",
    "df_clean_small = df_clean.iloc[:8000].copy()"
   ]
  },
  {
   "cell_type": "code",
   "execution_count": 50,
   "id": "dbd28483",
   "metadata": {},
   "outputs": [
    {
     "data": {
      "text/html": [
       "<div>\n",
       "<style scoped>\n",
       "    .dataframe tbody tr th:only-of-type {\n",
       "        vertical-align: middle;\n",
       "    }\n",
       "\n",
       "    .dataframe tbody tr th {\n",
       "        vertical-align: top;\n",
       "    }\n",
       "\n",
       "    .dataframe thead th {\n",
       "        text-align: right;\n",
       "    }\n",
       "</style>\n",
       "<table border=\"1\" class=\"dataframe\">\n",
       "  <thead>\n",
       "    <tr style=\"text-align: right;\">\n",
       "      <th></th>\n",
       "      <th>app_id</th>\n",
       "      <th>app_name</th>\n",
       "      <th>review_text</th>\n",
       "      <th>review_score</th>\n",
       "      <th>review_votes</th>\n",
       "      <th>clean_text</th>\n",
       "      <th>num_words</th>\n",
       "    </tr>\n",
       "  </thead>\n",
       "  <tbody>\n",
       "    <tr>\n",
       "      <th>3</th>\n",
       "      <td>107410</td>\n",
       "      <td>Arma 3</td>\n",
       "      <td>i spent several years in the army and i gotta ...</td>\n",
       "      <td>1</td>\n",
       "      <td>1</td>\n",
       "      <td>i spent several years in the army and i gotta ...</td>\n",
       "      <td>179</td>\n",
       "    </tr>\n",
       "    <tr>\n",
       "      <th>4</th>\n",
       "      <td>107410</td>\n",
       "      <td>Arma 3</td>\n",
       "      <td>having accumulated over 13400 hours in-game wi...</td>\n",
       "      <td>1</td>\n",
       "      <td>1</td>\n",
       "      <td>having accumulated over hours in game with arm...</td>\n",
       "      <td>40</td>\n",
       "    </tr>\n",
       "    <tr>\n",
       "      <th>6</th>\n",
       "      <td>107410</td>\n",
       "      <td>Arma 3</td>\n",
       "      <td>joined exile sever. found a 8 year old kid. ki...</td>\n",
       "      <td>1</td>\n",
       "      <td>0</td>\n",
       "      <td>joined exile sever found a year old kid kid sa...</td>\n",
       "      <td>59</td>\n",
       "    </tr>\n",
       "    <tr>\n",
       "      <th>7</th>\n",
       "      <td>107410</td>\n",
       "      <td>Arma 3</td>\n",
       "      <td>after some 1,400 hours on the game, i can say ...</td>\n",
       "      <td>1</td>\n",
       "      <td>1</td>\n",
       "      <td>after some hours on the game i can say with fu...</td>\n",
       "      <td>34</td>\n",
       "    </tr>\n",
       "    <tr>\n",
       "      <th>8</th>\n",
       "      <td>107410</td>\n",
       "      <td>Arma 3</td>\n",
       "      <td>this game made me realize that 15fps is playable.</td>\n",
       "      <td>1</td>\n",
       "      <td>0</td>\n",
       "      <td>this game made me realize that fps is playable</td>\n",
       "      <td>9</td>\n",
       "    </tr>\n",
       "  </tbody>\n",
       "</table>\n",
       "</div>"
      ],
      "text/plain": [
       "   app_id app_name                                        review_text  \\\n",
       "3  107410   Arma 3  i spent several years in the army and i gotta ...   \n",
       "4  107410   Arma 3  having accumulated over 13400 hours in-game wi...   \n",
       "6  107410   Arma 3  joined exile sever. found a 8 year old kid. ki...   \n",
       "7  107410   Arma 3  after some 1,400 hours on the game, i can say ...   \n",
       "8  107410   Arma 3  this game made me realize that 15fps is playable.   \n",
       "\n",
       "   review_score  review_votes  \\\n",
       "3             1             1   \n",
       "4             1             1   \n",
       "6             1             0   \n",
       "7             1             1   \n",
       "8             1             0   \n",
       "\n",
       "                                          clean_text  num_words  \n",
       "3  i spent several years in the army and i gotta ...        179  \n",
       "4  having accumulated over hours in game with arm...         40  \n",
       "6  joined exile sever found a year old kid kid sa...         59  \n",
       "7  after some hours on the game i can say with fu...         34  \n",
       "8     this game made me realize that fps is playable          9  "
      ]
     },
     "execution_count": 50,
     "metadata": {},
     "output_type": "execute_result"
    }
   ],
   "source": [
    "df_clean_small.head()"
   ]
  },
  {
   "cell_type": "markdown",
   "id": "00ebf70f",
   "metadata": {},
   "source": [
    "The script below used to create a parallelization job can be attributed to Prashanth Rao who posted a blog on how to speed up nlp pipeline processing using spaCy.  The blog can be found at:  https://prrao87.github.io/blog/spacy/nlp/performance/2020/05/02/spacy-multiprocess.html"
   ]
  },
  {
   "cell_type": "code",
   "execution_count": 51,
   "id": "1c92b981",
   "metadata": {},
   "outputs": [],
   "source": [
    "from joblib import Parallel, delayed\n",
    "\n",
    "def lemmatize_pipe(doc, allowed_postags=['NOUN','ADJ','VERB','ADV']):\n",
    "    lemma_list = [token.lemma_ for token in doc\n",
    "                  if token.pos_ in allowed_postags and token not in stopwords] \n",
    "    return lemma_list\n",
    "\n",
    "def chunker(iterable, total_length, chunksize):\n",
    "    return (iterable[pos: pos + chunksize] for pos in range(0, total_length, chunksize))\n",
    "\n",
    "def flatten(list_of_lists):\n",
    "    \"Flatten a list of lists to a combined list\"\n",
    "    return [item for sublist in list_of_lists for item in sublist]\n",
    "\n",
    "def process_chunk(texts):\n",
    "    preproc_pipe = []\n",
    "    for doc in nlp.pipe(texts, disable=[\"parser\", \"ner\"], batch_size=20):\n",
    "        lemma_string = ' '.join(lemmatize_pipe(doc))\n",
    "        preproc_pipe.append(lemma_string)\n",
    "    return preproc_pipe\n",
    "\n",
    "def parallel_lemmatization_pipeline(texts, chunksize=100):\n",
    "    executor = Parallel(n_jobs=7, backend='multiprocessing', prefer=\"processes\")\n",
    "    do = delayed(process_chunk)\n",
    "    tasks = (do(chunk) for chunk in chunker(texts, len(df_clean), chunksize=chunksize))\n",
    "    result = executor(tasks)\n",
    "    return flatten(result)"
   ]
  },
  {
   "cell_type": "code",
   "execution_count": 52,
   "id": "15c1e771",
   "metadata": {},
   "outputs": [
    {
     "name": "stdout",
     "output_type": "stream",
     "text": [
      "CPU times: user 4.37 s, sys: 146 ms, total: 4.52 s\n",
      "Wall time: 8.04 s\n"
     ]
    }
   ],
   "source": [
    "%%time\n",
    "df_clean_small['lemmatization'] = lemmatization(df_clean_small['clean_text'])"
   ]
  },
  {
   "cell_type": "code",
   "execution_count": 57,
   "id": "00bb44db",
   "metadata": {},
   "outputs": [
    {
     "name": "stdout",
     "output_type": "stream",
     "text": [
      "CPU times: user 305 ms, sys: 202 ms, total: 507 ms\n",
      "Wall time: 4.61 s\n"
     ]
    }
   ],
   "source": [
    "%%time\n",
    "df_clean_small['preproc_parallel'] = parallel_lemmatization_pipeline(df_clean_small['clean_text'], chunksize=1000)"
   ]
  },
  {
   "cell_type": "code",
   "execution_count": 58,
   "id": "7eb49ac7",
   "metadata": {},
   "outputs": [
    {
     "data": {
      "text/plain": [
       "'spend several year army get say game spot training atmosphere military provide love difficult game love different feature game provide easy hit target assault rifle yard real life game seem match same difficulty fatigue real thing seriously hinder accuracy real life make stop catch breath run too far carry too much gear hard time hit target enemy stupid great vision engage enemy yard away use bush cover as well second rush move ai more advanced average taliban real life haha p give love military videogame one definitely favorite time'"
      ]
     },
     "execution_count": 58,
     "metadata": {},
     "output_type": "execute_result"
    }
   ],
   "source": [
    "df_clean_small['preproc_parallel'].iloc[0]"
   ]
  },
  {
   "cell_type": "markdown",
   "id": "5c90cd71",
   "metadata": {},
   "source": [
    "### 4.2 Apply lemmatization function to clean text\n",
    "Apply the preprocessing nlp pipeline on the `clean_text` column and generate a new column of lemmatized tokens as a string."
   ]
  },
  {
   "cell_type": "code",
   "execution_count": 60,
   "id": "fef1a9f6",
   "metadata": {
    "scrolled": true
   },
   "outputs": [],
   "source": [
    "# create a new column called clean_tokens and apply preprocess_pipe function to clean_text\n",
    "df_clean['clean_tokens'] = parallel_lemmatization_pipeline(df_clean['clean_text'], chunksize=1000)"
   ]
  },
  {
   "cell_type": "markdown",
   "id": "802f3dc9",
   "metadata": {},
   "source": [
    "Review processed token strings."
   ]
  },
  {
   "cell_type": "code",
   "execution_count": 61,
   "id": "73a87f1c",
   "metadata": {},
   "outputs": [
    {
     "data": {
      "text/html": [
       "<div>\n",
       "<style scoped>\n",
       "    .dataframe tbody tr th:only-of-type {\n",
       "        vertical-align: middle;\n",
       "    }\n",
       "\n",
       "    .dataframe tbody tr th {\n",
       "        vertical-align: top;\n",
       "    }\n",
       "\n",
       "    .dataframe thead th {\n",
       "        text-align: right;\n",
       "    }\n",
       "</style>\n",
       "<table border=\"1\" class=\"dataframe\">\n",
       "  <thead>\n",
       "    <tr style=\"text-align: right;\">\n",
       "      <th></th>\n",
       "      <th>app_id</th>\n",
       "      <th>app_name</th>\n",
       "      <th>review_text</th>\n",
       "      <th>review_score</th>\n",
       "      <th>review_votes</th>\n",
       "      <th>clean_text</th>\n",
       "      <th>num_words</th>\n",
       "      <th>clean_tokens</th>\n",
       "    </tr>\n",
       "  </thead>\n",
       "  <tbody>\n",
       "    <tr>\n",
       "      <th>3</th>\n",
       "      <td>107410</td>\n",
       "      <td>Arma 3</td>\n",
       "      <td>i spent several years in the army and i gotta ...</td>\n",
       "      <td>1</td>\n",
       "      <td>1</td>\n",
       "      <td>i spent several years in the army and i gotta ...</td>\n",
       "      <td>179</td>\n",
       "      <td>spend several year army get say game spot trai...</td>\n",
       "    </tr>\n",
       "    <tr>\n",
       "      <th>4</th>\n",
       "      <td>107410</td>\n",
       "      <td>Arma 3</td>\n",
       "      <td>having accumulated over 13400 hours in-game wi...</td>\n",
       "      <td>1</td>\n",
       "      <td>1</td>\n",
       "      <td>having accumulated over hours in game with arm...</td>\n",
       "      <td>40</td>\n",
       "      <td>have accumulate hour game certainly recommend ...</td>\n",
       "    </tr>\n",
       "    <tr>\n",
       "      <th>6</th>\n",
       "      <td>107410</td>\n",
       "      <td>Arma 3</td>\n",
       "      <td>joined exile sever. found a 8 year old kid. ki...</td>\n",
       "      <td>1</td>\n",
       "      <td>0</td>\n",
       "      <td>joined exile sever found a year old kid kid sa...</td>\n",
       "      <td>59</td>\n",
       "      <td>join exile sever find year old kid kid say m l...</td>\n",
       "    </tr>\n",
       "    <tr>\n",
       "      <th>7</th>\n",
       "      <td>107410</td>\n",
       "      <td>Arma 3</td>\n",
       "      <td>after some 1,400 hours on the game, i can say ...</td>\n",
       "      <td>1</td>\n",
       "      <td>1</td>\n",
       "      <td>after some hours on the game i can say with fu...</td>\n",
       "      <td>34</td>\n",
       "      <td>hour game say full validity game ruin life lik...</td>\n",
       "    </tr>\n",
       "    <tr>\n",
       "      <th>8</th>\n",
       "      <td>107410</td>\n",
       "      <td>Arma 3</td>\n",
       "      <td>this game made me realize that 15fps is playable.</td>\n",
       "      <td>1</td>\n",
       "      <td>0</td>\n",
       "      <td>this game made me realize that fps is playable</td>\n",
       "      <td>9</td>\n",
       "      <td>game make realize fps playable</td>\n",
       "    </tr>\n",
       "  </tbody>\n",
       "</table>\n",
       "</div>"
      ],
      "text/plain": [
       "   app_id app_name                                        review_text  \\\n",
       "3  107410   Arma 3  i spent several years in the army and i gotta ...   \n",
       "4  107410   Arma 3  having accumulated over 13400 hours in-game wi...   \n",
       "6  107410   Arma 3  joined exile sever. found a 8 year old kid. ki...   \n",
       "7  107410   Arma 3  after some 1,400 hours on the game, i can say ...   \n",
       "8  107410   Arma 3  this game made me realize that 15fps is playable.   \n",
       "\n",
       "   review_score  review_votes  \\\n",
       "3             1             1   \n",
       "4             1             1   \n",
       "6             1             0   \n",
       "7             1             1   \n",
       "8             1             0   \n",
       "\n",
       "                                          clean_text  num_words  \\\n",
       "3  i spent several years in the army and i gotta ...        179   \n",
       "4  having accumulated over hours in game with arm...         40   \n",
       "6  joined exile sever found a year old kid kid sa...         59   \n",
       "7  after some hours on the game i can say with fu...         34   \n",
       "8     this game made me realize that fps is playable          9   \n",
       "\n",
       "                                        clean_tokens  \n",
       "3  spend several year army get say game spot trai...  \n",
       "4  have accumulate hour game certainly recommend ...  \n",
       "6  join exile sever find year old kid kid say m l...  \n",
       "7  hour game say full validity game ruin life lik...  \n",
       "8                     game make realize fps playable  "
      ]
     },
     "execution_count": 61,
     "metadata": {},
     "output_type": "execute_result"
    }
   ],
   "source": [
    "df_clean.head()"
   ]
  },
  {
   "cell_type": "markdown",
   "id": "b63dbe11",
   "metadata": {},
   "source": [
    "## 5. Upload data to S3 bucket"
   ]
  },
  {
   "cell_type": "markdown",
   "id": "3f41dabe",
   "metadata": {},
   "source": [
    "Write to csv and include original review text."
   ]
  },
  {
   "cell_type": "code",
   "execution_count": 62,
   "id": "4158bb7f",
   "metadata": {},
   "outputs": [
    {
     "data": {
      "text/plain": [
       "{'paths': ['s3://siads696-wi23-steam-data/clean_data/reviews_clean_new_full.csv'],\n",
       " 'partitions_values': {}}"
      ]
     },
     "execution_count": 62,
     "metadata": {},
     "output_type": "execute_result"
    }
   ],
   "source": [
    "cols = ['app_id','app_name','review_score','review_votes','num_words','clean_tokens','review_text']\n",
    "\n",
    "wr.s3.to_csv(\n",
    "    df=df_clean[cols],\n",
    "    path='s3://siads696-wi23-steam-data/clean_data/reviews_clean_new_full.csv',\n",
    "    index=False\n",
    ")"
   ]
  },
  {
   "cell_type": "markdown",
   "id": "283ac680",
   "metadata": {},
   "source": [
    "Write to csv that will be used for Redshift database."
   ]
  },
  {
   "cell_type": "code",
   "execution_count": 63,
   "id": "f674e526",
   "metadata": {},
   "outputs": [
    {
     "data": {
      "text/plain": [
       "{'paths': ['s3://siads696-wi23-steam-data/clean_data/reviews_clean_new.csv'],\n",
       " 'partitions_values': {}}"
      ]
     },
     "execution_count": 63,
     "metadata": {},
     "output_type": "execute_result"
    }
   ],
   "source": [
    "cols = ['app_id','app_name','review_score','review_votes','num_words','clean_tokens']\n",
    "\n",
    "wr.s3.to_csv(\n",
    "    df=df_clean[cols],\n",
    "    path='s3://siads696-wi23-steam-data/clean_data/reviews_clean_new.csv',\n",
    "    index=False\n",
    ")"
   ]
  },
  {
   "cell_type": "code",
   "execution_count": null,
   "id": "e8fa6fe9",
   "metadata": {},
   "outputs": [],
   "source": []
  }
 ],
 "metadata": {
  "kernelspec": {
   "display_name": "Python 3 (ipykernel)",
   "language": "python",
   "name": "python3"
  },
  "language_info": {
   "codemirror_mode": {
    "name": "ipython",
    "version": 3
   },
   "file_extension": ".py",
   "mimetype": "text/x-python",
   "name": "python",
   "nbconvert_exporter": "python",
   "pygments_lexer": "ipython3",
   "version": "3.10.6"
  }
 },
 "nbformat": 4,
 "nbformat_minor": 5
}
