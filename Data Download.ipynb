{
 "cells": [
  {
   "cell_type": "markdown",
   "id": "69ea6850-f6a6-42e0-81be-6369efd91236",
   "metadata": {},
   "source": [
    "# Download Steam Reviews Data\n",
    "\n",
    "## Setup Kaggle API\n",
    "Go to Kaggle and create an API token which will provide you with your Kaggle credentials in a .json file. Upload the .json file into your directory.\n",
    "\n",
    "Install the Kaggle API client."
   ]
  },
  {
   "cell_type": "code",
   "execution_count": 2,
   "id": "d946533c-3470-4362-8cc4-db71b7edd081",
   "metadata": {
    "tags": []
   },
   "outputs": [
    {
     "name": "stdout",
     "output_type": "stream",
     "text": [
      "Keyring is skipped due to an exception: 'keyring.backends'\n",
      "Collecting kaggle\n",
      "  Downloading kaggle-1.5.12.tar.gz (58 kB)\n",
      "\u001b[2K     \u001b[90m━━━━━━━━━━━━━━━━━━━━━━━━━━━━━━━━━━━━━━━\u001b[0m \u001b[32m59.0/59.0 kB\u001b[0m \u001b[31m934.6 kB/s\u001b[0m eta \u001b[36m0:00:00\u001b[0ma \u001b[36m0:00:01\u001b[0m\n",
      "\u001b[?25h  Preparing metadata (setup.py) ... \u001b[?25ldone\n",
      "\u001b[?25hRequirement already satisfied: six>=1.10 in /opt/conda/lib/python3.7/site-packages (from kaggle) (1.14.0)\n",
      "Requirement already satisfied: certifi in /opt/conda/lib/python3.7/site-packages (from kaggle) (2022.9.24)\n",
      "Requirement already satisfied: python-dateutil in /opt/conda/lib/python3.7/site-packages (from kaggle) (2.8.2)\n",
      "Requirement already satisfied: requests in /opt/conda/lib/python3.7/site-packages (from kaggle) (2.28.1)\n",
      "Requirement already satisfied: tqdm in /opt/conda/lib/python3.7/site-packages (from kaggle) (4.42.1)\n",
      "Collecting python-slugify\n",
      "  Downloading python_slugify-7.0.0-py2.py3-none-any.whl (9.4 kB)\n",
      "Requirement already satisfied: urllib3 in /opt/conda/lib/python3.7/site-packages (from kaggle) (1.26.13)\n",
      "Collecting text-unidecode>=1.3\n",
      "  Downloading text_unidecode-1.3-py2.py3-none-any.whl (78 kB)\n",
      "\u001b[2K     \u001b[90m━━━━━━━━━━━━━━━━━━━━━━━━━━━━━━━━━━━━━━━━\u001b[0m \u001b[32m78.2/78.2 kB\u001b[0m \u001b[31m1.4 MB/s\u001b[0m eta \u001b[36m0:00:00\u001b[0mta \u001b[36m0:00:01\u001b[0m\n",
      "\u001b[?25hRequirement already satisfied: idna<4,>=2.5 in /opt/conda/lib/python3.7/site-packages (from requests->kaggle) (2.8)\n",
      "Requirement already satisfied: charset-normalizer<3,>=2 in /opt/conda/lib/python3.7/site-packages (from requests->kaggle) (2.0.4)\n",
      "Building wheels for collected packages: kaggle\n",
      "  Building wheel for kaggle (setup.py) ... \u001b[?25ldone\n",
      "\u001b[?25h  Created wheel for kaggle: filename=kaggle-1.5.12-py3-none-any.whl size=73052 sha256=334ccda7097753488095c5396b735a17c69ae461e094f70b413ce9f7acac163a\n",
      "  Stored in directory: /root/.cache/pip/wheels/11/ec/8f/80c32ff2501f7b1a76f4df651a0242314d229a5d3e5130bd01\n",
      "Successfully built kaggle\n",
      "Installing collected packages: text-unidecode, python-slugify, kaggle\n",
      "Successfully installed kaggle-1.5.12 python-slugify-7.0.0 text-unidecode-1.3\n",
      "\u001b[33mWARNING: Running pip as the 'root' user can result in broken permissions and conflicting behaviour with the system package manager. It is recommended to use a virtual environment instead: https://pip.pypa.io/warnings/venv\u001b[0m\u001b[33m\n",
      "\u001b[0m"
     ]
    }
   ],
   "source": [
    "!pip install kaggle"
   ]
  },
  {
   "cell_type": "markdown",
   "id": "546f9a45-0382-497f-be4e-fa8a365ec676",
   "metadata": {},
   "source": [
    "Verify that kaggle.json file is present."
   ]
  },
  {
   "cell_type": "code",
   "execution_count": 29,
   "id": "be5606d9-0b64-409c-9302-4de36a10211a",
   "metadata": {
    "tags": []
   },
   "outputs": [
    {
     "name": "stdout",
     "output_type": "stream",
     "text": [
      "-rw-r--r-- 1 root root 72 Jan 22 01:40 kaggle.json\n"
     ]
    }
   ],
   "source": [
    "!ls -lha kaggle.json"
   ]
  },
  {
   "cell_type": "markdown",
   "id": "8d34c466-b647-434a-a008-e31de4ba47dc",
   "metadata": {},
   "source": [
    "The Kaggle API client expects the file to be in ~/.kaggle so we need to copy the file over."
   ]
  },
  {
   "cell_type": "code",
   "execution_count": 11,
   "id": "87a4c5f3-3565-4cee-b6b2-c9dfbf6660a0",
   "metadata": {
    "tags": []
   },
   "outputs": [],
   "source": [
    "!mkdir -p ~/.kaggle\n",
    "!cp kaggle.json ~/.kaggle/"
   ]
  },
  {
   "cell_type": "markdown",
   "id": "c9bfa86d-a1ec-40b3-a7f7-e76eac25cdbd",
   "metadata": {},
   "source": [
    "Next we set permissions."
   ]
  },
  {
   "cell_type": "code",
   "execution_count": 12,
   "id": "3232576e-4f4a-4590-8d55-0ad92165a6dc",
   "metadata": {
    "tags": []
   },
   "outputs": [],
   "source": [
    "!chmod 600 /root/.kaggle/kaggle.json"
   ]
  },
  {
   "cell_type": "markdown",
   "id": "b1e81771-15e5-4e87-8127-f9692dbd5eae",
   "metadata": {
    "tags": []
   },
   "source": [
    "Check the current directory before downloading the datasets."
   ]
  },
  {
   "cell_type": "code",
   "execution_count": 13,
   "id": "ac6cade5-9de4-416c-8594-09e676539800",
   "metadata": {
    "tags": []
   },
   "outputs": [
    {
     "name": "stdout",
     "output_type": "stream",
     "text": [
      "/root\n"
     ]
    }
   ],
   "source": [
    "!pwd"
   ]
  },
  {
   "cell_type": "markdown",
   "id": "a26f13c5-84a6-46fc-8e7e-c211ecc4625a",
   "metadata": {},
   "source": [
    "## Download data from Kaggle and upload to S3 bucket"
   ]
  },
  {
   "cell_type": "code",
   "execution_count": 15,
   "id": "150663be-7af6-4636-9084-062b642a774f",
   "metadata": {
    "tags": []
   },
   "outputs": [],
   "source": [
    "# uncomment to view available datasets from Kaggle\n",
    "# !kaggle datasets list"
   ]
  },
  {
   "cell_type": "markdown",
   "id": "0bedff90-0e0c-4a1f-b6df-0ae045a98355",
   "metadata": {},
   "source": [
    "We will start by downloading a steam reviews dataset which ontains 6.4 million game reviews.  Information for the dataset can be found at https://www.kaggle.com/datasets/andrewmvd/steam-reviews"
   ]
  },
  {
   "cell_type": "code",
   "execution_count": 30,
   "id": "85eaa809-b258-4b0d-85f1-de688dc07691",
   "metadata": {
    "tags": []
   },
   "outputs": [
    {
     "name": "stdout",
     "output_type": "stream",
     "text": [
      "Downloading steam-reviews.zip to /root\n",
      " 96%|███████████████████████████████████████▌ | 661M/685M [00:05<00:00, 129MB/s]\n",
      "100%|████████████████████████████████████████| 685M/685M [00:08<00:00, 87.2MB/s]\n"
     ]
    }
   ],
   "source": [
    "!kaggle datasets download -d andrewmvd/steam-reviews"
   ]
  },
  {
   "cell_type": "markdown",
   "id": "a37fcf4f-c92b-4b8d-84b9-c86ee576d1dd",
   "metadata": {
    "tags": []
   },
   "source": [
    "Next we unzip the file."
   ]
  },
  {
   "cell_type": "code",
   "execution_count": 17,
   "id": "1e66be53-e61a-4ed4-8f28-1279571692d3",
   "metadata": {
    "tags": []
   },
   "outputs": [
    {
     "name": "stdout",
     "output_type": "stream",
     "text": [
      "Archive:  steam-reviews.zip\n",
      "  inflating: dataset.csv             \n"
     ]
    }
   ],
   "source": [
    "!unzip steam-reviews.zip"
   ]
  },
  {
   "cell_type": "markdown",
   "id": "fc4975cf-9d9a-4dfa-87bd-0be6fd83fdf9",
   "metadata": {},
   "source": [
    "Upload a copy of the unzipped csv file to the S3 bucket."
   ]
  },
  {
   "cell_type": "code",
   "execution_count": 26,
   "id": "69102a4e-2ce7-4a29-8133-3ad5334876dd",
   "metadata": {
    "tags": []
   },
   "outputs": [
    {
     "name": "stdout",
     "output_type": "stream",
     "text": [
      "upload: ./dataset.csv to s3://siads696-wi23-steam-data/raw_data/dataset.csv\n"
     ]
    }
   ],
   "source": [
    "!aws s3 cp dataset.csv s3://siads696-wi23-steam-data/raw_data/"
   ]
  },
  {
   "cell_type": "markdown",
   "id": "3f7fd2de-b3a4-4578-ba1b-5812f0a6f5ed",
   "metadata": {},
   "source": [
    "Delete the downloaded Kaggle set from the directory."
   ]
  },
  {
   "cell_type": "code",
   "execution_count": 28,
   "id": "70d1fdb2-8694-4fdf-83e8-abd23d1e080d",
   "metadata": {
    "tags": []
   },
   "outputs": [],
   "source": [
    "!rm steam-reviews.zip dataset.csv"
   ]
  },
  {
   "cell_type": "code",
   "execution_count": null,
   "id": "a51b4bae-1202-4209-85bb-7df49ff96ecb",
   "metadata": {},
   "outputs": [],
   "source": []
  }
 ],
 "metadata": {
  "instance_type": "ml.t3.medium",
  "kernelspec": {
   "display_name": "Python 3 (ipykernel)",
   "language": "python",
   "name": "python3"
  },
  "language_info": {
   "codemirror_mode": {
    "name": "ipython",
    "version": 3
   },
   "file_extension": ".py",
   "mimetype": "text/x-python",
   "name": "python",
   "nbconvert_exporter": "python",
   "pygments_lexer": "ipython3",
   "version": "3.9.12"
  }
 },
 "nbformat": 4,
 "nbformat_minor": 5
}
