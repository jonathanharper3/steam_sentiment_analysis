{
 "cells": [
  {
   "cell_type": "markdown",
   "id": "81d4bc76",
   "metadata": {},
   "source": [
    "# Topic modeling Using Bigrams and Trigrams"
   ]
  },
  {
   "cell_type": "code",
   "execution_count": 1,
   "id": "17f38296",
   "metadata": {},
   "outputs": [
    {
     "name": "stderr",
     "output_type": "stream",
     "text": [
      "/home/ubuntu/.local/lib/python3.10/site-packages/tqdm/auto.py:22: TqdmWarning: IProgress not found. Please update jupyter and ipywidgets. See https://ipywidgets.readthedocs.io/en/stable/user_install.html\n",
      "  from .autonotebook import tqdm as notebook_tqdm\n",
      "/home/ubuntu/.local/lib/python3.10/site-packages/joblib/backports.py:22: DeprecationWarning: The distutils package is deprecated and slated for removal in Python 3.12. Use setuptools or check PEP 632 for potential alternatives\n",
      "  import distutils  # noqa\n"
     ]
    }
   ],
   "source": [
    "import awswrangler as wr\n",
    "\n",
    "import pandas as pd\n",
    "import matplotlib.pyplot as plt\n",
    "import seaborn as sns\n",
    "sns.set()\n",
    "import spacy\n",
    "import pyLDAvis.gensim_models\n",
    "import en_core_web_md\n",
    "import gensim\n",
    "import gensim.corpora as corpora\n",
    "from gensim.models import LdaMulticore\n",
    "from gensim.models import CoherenceModel\n",
    "\n",
    "import warnings\n",
    "warnings.filterwarnings(\"ignore\", category=DeprecationWarning)\n",
    "warnings.simplefilter('ignore', category=FutureWarning)"
   ]
  },
  {
   "cell_type": "code",
   "execution_count": 2,
   "id": "a13ea3c6",
   "metadata": {},
   "outputs": [],
   "source": [
    "df = wr.s3.read_csv('s3://siads696-wi23-steam-data/clean_data/reviews_clean_new.csv')"
   ]
  },
  {
   "cell_type": "code",
   "execution_count": 3,
   "id": "a8ccf5ed",
   "metadata": {},
   "outputs": [
    {
     "data": {
      "text/html": [
       "<div>\n",
       "<style scoped>\n",
       "    .dataframe tbody tr th:only-of-type {\n",
       "        vertical-align: middle;\n",
       "    }\n",
       "\n",
       "    .dataframe tbody tr th {\n",
       "        vertical-align: top;\n",
       "    }\n",
       "\n",
       "    .dataframe thead th {\n",
       "        text-align: right;\n",
       "    }\n",
       "</style>\n",
       "<table border=\"1\" class=\"dataframe\">\n",
       "  <thead>\n",
       "    <tr style=\"text-align: right;\">\n",
       "      <th></th>\n",
       "      <th>app_id</th>\n",
       "      <th>app_name</th>\n",
       "      <th>review_score</th>\n",
       "      <th>review_votes</th>\n",
       "      <th>num_words</th>\n",
       "      <th>clean_tokens</th>\n",
       "    </tr>\n",
       "  </thead>\n",
       "  <tbody>\n",
       "    <tr>\n",
       "      <th>0</th>\n",
       "      <td>107410</td>\n",
       "      <td>Arma 3</td>\n",
       "      <td>1</td>\n",
       "      <td>1</td>\n",
       "      <td>179</td>\n",
       "      <td>spend several year army get say game spot trai...</td>\n",
       "    </tr>\n",
       "    <tr>\n",
       "      <th>1</th>\n",
       "      <td>107410</td>\n",
       "      <td>Arma 3</td>\n",
       "      <td>1</td>\n",
       "      <td>1</td>\n",
       "      <td>40</td>\n",
       "      <td>have accumulate hour game certainly recommend ...</td>\n",
       "    </tr>\n",
       "    <tr>\n",
       "      <th>2</th>\n",
       "      <td>107410</td>\n",
       "      <td>Arma 3</td>\n",
       "      <td>1</td>\n",
       "      <td>0</td>\n",
       "      <td>59</td>\n",
       "      <td>join exile sever find year old kid kid say m l...</td>\n",
       "    </tr>\n",
       "    <tr>\n",
       "      <th>3</th>\n",
       "      <td>107410</td>\n",
       "      <td>Arma 3</td>\n",
       "      <td>1</td>\n",
       "      <td>1</td>\n",
       "      <td>34</td>\n",
       "      <td>hour game say full validity game ruin life lik...</td>\n",
       "    </tr>\n",
       "    <tr>\n",
       "      <th>4</th>\n",
       "      <td>107410</td>\n",
       "      <td>Arma 3</td>\n",
       "      <td>1</td>\n",
       "      <td>0</td>\n",
       "      <td>9</td>\n",
       "      <td>game make realize fps playable</td>\n",
       "    </tr>\n",
       "  </tbody>\n",
       "</table>\n",
       "</div>"
      ],
      "text/plain": [
       "   app_id app_name  review_score  review_votes  num_words  \\\n",
       "0  107410   Arma 3             1             1        179   \n",
       "1  107410   Arma 3             1             1         40   \n",
       "2  107410   Arma 3             1             0         59   \n",
       "3  107410   Arma 3             1             1         34   \n",
       "4  107410   Arma 3             1             0          9   \n",
       "\n",
       "                                        clean_tokens  \n",
       "0  spend several year army get say game spot trai...  \n",
       "1  have accumulate hour game certainly recommend ...  \n",
       "2  join exile sever find year old kid kid say m l...  \n",
       "3  hour game say full validity game ruin life lik...  \n",
       "4                     game make realize fps playable  "
      ]
     },
     "execution_count": 3,
     "metadata": {},
     "output_type": "execute_result"
    }
   ],
   "source": [
    "df.head()"
   ]
  },
  {
   "cell_type": "code",
   "execution_count": 4,
   "id": "a272f3ed",
   "metadata": {},
   "outputs": [
    {
     "data": {
      "text/plain": [
       "app_id            0\n",
       "app_name          0\n",
       "review_score      0\n",
       "review_votes      0\n",
       "num_words         0\n",
       "clean_tokens    150\n",
       "dtype: int64"
      ]
     },
     "execution_count": 4,
     "metadata": {},
     "output_type": "execute_result"
    }
   ],
   "source": [
    "df.isna().sum()"
   ]
  },
  {
   "cell_type": "code",
   "execution_count": 5,
   "id": "f59463c2",
   "metadata": {},
   "outputs": [
    {
     "data": {
      "text/plain": [
       "(575223, 6)"
      ]
     },
     "execution_count": 5,
     "metadata": {},
     "output_type": "execute_result"
    }
   ],
   "source": [
    "df.shape"
   ]
  },
  {
   "cell_type": "code",
   "execution_count": 6,
   "id": "94a584af",
   "metadata": {},
   "outputs": [],
   "source": [
    "df.dropna(inplace=True)"
   ]
  },
  {
   "cell_type": "markdown",
   "id": "e7c4b8b8",
   "metadata": {},
   "source": [
    "## 1. Train on small dataset\n",
    "### Start with 100K dataset for testing and tuning"
   ]
  },
  {
   "cell_type": "code",
   "execution_count": 7,
   "id": "6bc1d0dc",
   "metadata": {},
   "outputs": [],
   "source": [
    "df_small = df.sample(100000, random_state=42)"
   ]
  },
  {
   "cell_type": "markdown",
   "id": "709e5665",
   "metadata": {},
   "source": [
    "### Form a list of words for each review\n",
    "From the tokenization and lemmatization that was done, some words resulted in a length of one character such as \"s\" or \"m\" so we are only going to keep words with a length of 2 characters or more."
   ]
  },
  {
   "cell_type": "code",
   "execution_count": 8,
   "id": "826ef18f",
   "metadata": {},
   "outputs": [],
   "source": [
    "data_words = df_small['clean_tokens'].map(lambda x: [word for word in x.split() if len(word) >=2])"
   ]
  },
  {
   "cell_type": "markdown",
   "id": "37ac51b4",
   "metadata": {},
   "source": [
    "## Bigrams and Trigrams\n",
    "The next thing we're going to do is create bigrams and trigrams using gensim Phraser. We first start by creating bigrams and afterwards, we take the bigram phrases and we're going to index `data_words` and find where there's overlap between bigrams and other words to figure out when three words are used as a phrase.\n",
    "\n",
    "The parameters used to create bigram and trigram phrases are:\n",
    "- `min_count:` the number of times two words need to be used collectively.\n",
    "- `threshold:` determines the number of phrases that are found and a higher threshold leads to fewer phrases."
   ]
  },
  {
   "cell_type": "code",
   "execution_count": 9,
   "id": "177e015e",
   "metadata": {},
   "outputs": [],
   "source": [
    "bigram = gensim.models.Phrases(data_words, min_count=10, threshold=20) # higher threshold fewer phrases.\n",
    "trigram = gensim.models.Phrases(bigram[data_words], threshold=20) \n",
    "\n",
    "# Faster way to get a sentence clubbed as a trigram/bigram\n",
    "bigram_mod = gensim.models.phrases.Phraser(bigram)\n",
    "trigram_mod = gensim.models.phrases.Phraser(trigram)"
   ]
  },
  {
   "cell_type": "markdown",
   "id": "7ec79b46",
   "metadata": {},
   "source": [
    "Next we create a function to make bigrams from the text in each review and a function to make trigrams from the bigrams that were created."
   ]
  },
  {
   "cell_type": "code",
   "execution_count": 10,
   "id": "37254b39",
   "metadata": {},
   "outputs": [],
   "source": [
    "def make_bigrams(texts):\n",
    "    return [bigram_mod[doc] for doc in texts]\n",
    "\n",
    "def make_trigrams(texts):\n",
    "    return [trigram_mod[bigram_mod[doc]] for doc in texts]\n",
    "\n",
    "# Form Bigrams\n",
    "data_words_bigrams = make_bigrams(data_words)\n",
    "# Form Trigrams using data_words_bigrams\n",
    "data_words_bigrams_trigrams = make_trigrams(data_words_bigrams)"
   ]
  },
  {
   "cell_type": "code",
   "execution_count": 11,
   "id": "856ff673",
   "metadata": {},
   "outputs": [
    {
     "name": "stdout",
     "output_type": "stream",
     "text": [
      "['use', 'play', 'too', 'much']\n",
      "['really', 'cool', 'play', 'friend', 'forget', 'free', 'game']\n",
      "['good', 'game', 'worth', 'wait', 'worth', 'play']\n",
      "['only', 'play', 'bank', 'ct', 'get', 'load', 'more', 'slot', 'unbalanced', 'also', 'play', 'competitive']\n",
      "['time', 'review', 'millionaire', 'yet', 'afford', 'deffect', 'free', 'drill']\n",
      "['start', 'say', 'game', 'good', 'game', 'ever', 'play', 'recommend', 'steam', 'friend', 'kick_butt', 'together', 'unique', 'game', 'past', 'few', 'hotfixe', 'game', 'quality', 'drop', 'dramatically', 'new', 'change', 'mad', 'celephon', 'update', 'exact', 'so', 'many', 'bug', 'random', 'glitch', 'slow', 'acurence', 'accompany', 'weapon', 'stat', 'change', 'other', 'drive', 'love', 'game', 'existence', 'seem', 'user', 'game', 'awhile', 'change', 'so', 'much', 'even', 'close', 'same', 'game', 'anymore', 'all', 'fun', 'play', 'anymore', 'wish', 'choose', 'make', 'next', 'update', 'more', 'closely', 'relate', 'regard']\n",
      "['click', 'close', 'program', 'textbox', 'say', 'launcher', 'crash', 'again']\n",
      "['play', 'potato', 'joke', 'get', 'so', 'much', 'more', 'potato', 'joke', 'play', 'lemon', 'joke', 'get', 'more', 'too', 'rd', 'favorite', 'game', 'right', 'undertale', 'starve', 'glado', 'mother', 'xd']\n",
      "['beautiful', 'game', 'first', 'only', 'play', 'good', 'friend', 'like', 'so', 'much', 'glad', 'honestly', 'make', 'cry', 'character', 'magnificent', 'meaningful', 'soundtrack', 'amazing', 'especially', 'waterfall', 'very', 'soothe', 'fall_love', 'especially', 'honest', 'deffinately', 'worth', 'purchase', 'lt']\n"
     ]
    }
   ],
   "source": [
    "# review the first few reviews for bigrams and trigrams\n",
    "for i in range(1,10):\n",
    "    print(data_words_bigrams_trigrams[i])"
   ]
  },
  {
   "cell_type": "markdown",
   "id": "42b799c6",
   "metadata": {},
   "source": [
    "### TF-IDF Model for Term Removal\n",
    "In order to remove noise from our LDA model, we will use frequently occurring words since we are looking for words that have higher importance. There's no perfect solution and the removal of frequently used words requires a trial and error approach. TF-IDF is calculated by multiplying the term frequency with inverse document frequency and normalizing the results across the documents. The TF-IDF helps keep document specifid frequent words weight high and ensures that the most common words don't show up as key words."
   ]
  },
  {
   "cell_type": "code",
   "execution_count": 12,
   "id": "d5cb92fe",
   "metadata": {},
   "outputs": [
    {
     "name": "stdout",
     "output_type": "stream",
     "text": [
      "[(0, 1), (1, 1), (2, 1), (3, 1), (4, 1), (5, 1), (6, 2)]\n"
     ]
    }
   ],
   "source": [
    "# TF-IDF Removal\n",
    "from gensim.models import TfidfModel\n",
    "\n",
    "id2word = corpora.Dictionary(data_words_bigrams_trigrams)\n",
    "\n",
    "texts = data_words_bigrams_trigrams\n",
    "\n",
    "corpus = [id2word.doc2bow(text) for text in texts]\n",
    "print(corpus[0][:20])\n",
    "\n",
    "# create TF-IDF model using the corpus and id2word dictionary\n",
    "tfidf = TfidfModel(corpus, id2word = id2word)"
   ]
  },
  {
   "cell_type": "markdown",
   "id": "d544c114",
   "metadata": {},
   "source": [
    "The threshold for the TF-IDF model will be 0.03 and we are going to look for words that occur within this threshold and if a word occurs with this frequency across the corpus then it's going to assume that the word does not provide much value since it occurs at such a high frequency.  There is a caveat, which is that some words that are important to the corpus may end up being dropped.\n",
    "\n",
    "A new corpus will be returned that has all the high frequency words removed."
   ]
  },
  {
   "cell_type": "code",
   "execution_count": 13,
   "id": "f8fb884e",
   "metadata": {},
   "outputs": [],
   "source": [
    "low_value = 0.03\n",
    "words = []\n",
    "words_missing_in_tfidf = []\n",
    "\n",
    "for i in range(0, len(corpus)):\n",
    "    bow = corpus[i]\n",
    "    low_value_words = []\n",
    "    tfidf_ids = [id for id, value in tfidf[bow]]\n",
    "    bow_ids = [id for id, value in bow]\n",
    "    low_value_words = [id for id, value in tfidf[bow] if value < low_value]\n",
    "    drops = low_value_words + words_missing_in_tfidf\n",
    "    \n",
    "    for item in drops:\n",
    "        words.append(id2word[item])\n",
    "    words_missing_in_tfidf = [id for id in bow_ids if id not in tfidf_ids]\n",
    "    \n",
    "    new_bow = [b for b in bow if b[0] not in low_value_words and b[0] not in words_missing_in_tfidf]\n",
    "    corpus[i] = new_bow"
   ]
  },
  {
   "cell_type": "code",
   "execution_count": 14,
   "id": "b2a45d35",
   "metadata": {},
   "outputs": [
    {
     "data": {
      "text/plain": [
       "42492"
      ]
     },
     "execution_count": 14,
     "metadata": {},
     "output_type": "execute_result"
    }
   ],
   "source": [
    "# review length of dictionary\n",
    "len(id2word)"
   ]
  },
  {
   "cell_type": "markdown",
   "id": "a60d701b",
   "metadata": {},
   "source": [
    "### Finding the optimal number of topics\n",
    "One of the most popular coherence metrics is called cv. It creates content vectors of words using their co-occurrences and, after that, calculates the score using normalized pointwise mutual information (NPMI) and the cosine similarity. Another popular coherence score is umass which calculates how often two words appear together in the corpus and the greater the number the better its cohernece score. This measure isn't symmetric, which allows us to calculate the global coherence of the topic as the average pairwise coherence scores on the top N words which describe the topic.\n",
    "\n",
    "For our model we are going to be using the cv coherence metric.\n",
    "\n",
    "#### Use parallelized Latent Dirichlet Allocation\n",
    "Given the large dataset, we will use `LdaMulticore` to parallelize the training job. The EC2 instance that's being used for training is a c5a.4xlarge which has 16 CPU cores and 32GB of memory. More information on the ldamulticore can be found at: https://radimrehurek.com/gensim/models/ldamulticore.html"
   ]
  },
  {
   "cell_type": "code",
   "execution_count": 15,
   "id": "eed87d8a",
   "metadata": {},
   "outputs": [
    {
     "name": "stdout",
     "output_type": "stream",
     "text": [
      "Round: 5\n",
      "Round: 6\n",
      "Round: 7\n",
      "Round: 8\n",
      "Round: 9\n",
      "Round: 10\n",
      "Round: 11\n",
      "Round: 12\n",
      "Round: 13\n",
      "Round: 14\n"
     ]
    }
   ],
   "source": [
    "num_vcpu = 16\n",
    "\n",
    "coherence = []\n",
    "for k in range(5,15):\n",
    "    print('Round: '+str(k))\n",
    "    Lda = gensim.models.ldamulticore.LdaMulticore\n",
    "    ldamodel = Lda(corpus=corpus, num_topics=k,\n",
    "                   id2word = id2word, passes=10,\n",
    "                   iterations=200, chunksize = 50000,\n",
    "                   eval_every = None,\n",
    "                   workers=num_vcpu-1)\n",
    "    \n",
    "    cm = gensim.models.coherencemodel.CoherenceModel(\\\n",
    "         model=ldamodel, texts=texts,\\\n",
    "         dictionary=id2word, coherence='c_v')   \n",
    "                                                \n",
    "    coherence.append((k,cm.get_coherence()))"
   ]
  },
  {
   "cell_type": "code",
   "execution_count": 16,
   "id": "a48ad26c",
   "metadata": {},
   "outputs": [],
   "source": [
    "x_val = [x[0] for x in coherence]\n",
    "y_val = [x[1] for x in coherence]"
   ]
  },
  {
   "cell_type": "code",
   "execution_count": 17,
   "id": "99be0729",
   "metadata": {},
   "outputs": [
    {
     "data": {
      "image/png": "[encoded data removed]",
      "text/plain": [
       "<Figure size 640x480 with 1 Axes>"
      ]
     },
     "metadata": {},
     "output_type": "display_data"
    }
   ],
   "source": [
    "plt.plot(x_val,y_val)\n",
    "plt.scatter(x_val,y_val)\n",
    "plt.title('Number of Topics vs. Coherence')\n",
    "plt.xlabel('Number of Topics')\n",
    "plt.ylabel('Coherence')\n",
    "plt.xticks(x_val)\n",
    "plt.show()"
   ]
  },
  {
   "cell_type": "markdown",
   "id": "1375c9dd",
   "metadata": {},
   "source": [
    "## Vizualizing the Data\n",
    "The LDA model is now going to be built using 7 topics. Below is information on the model parameters.\n",
    "- Passes: The number of times model iterates through the whole corpus\n",
    "- Iterations: The number of iterations the model trains on each pass\n",
    "- Chunk size: Number of rows that are taken to train the model each"
   ]
  },
  {
   "cell_type": "code",
   "execution_count": 20,
   "id": "1b35c994",
   "metadata": {},
   "outputs": [],
   "source": [
    "lda_model = gensim.models.ldamodel.LdaModel(corpus = corpus, \n",
    "                                            id2word = id2word,\n",
    "                                            num_topics = 7,\n",
    "                                            random_state = 42,\n",
    "                                            update_every = 1,\n",
    "                                            iterations=200,\n",
    "                                            eval_every = None,\n",
    "                                            chunksize = 5000,\n",
    "                                            passes = 40,\n",
    "                                            alpha = 'auto')"
   ]
  },
  {
   "cell_type": "code",
   "execution_count": 21,
   "id": "4ad00d67",
   "metadata": {},
   "outputs": [
    {
     "name": "stderr",
     "output_type": "stream",
     "text": [
      "/home/ubuntu/.local/lib/python3.10/site-packages/pyLDAvis/_prepare.py:244: FutureWarning: In a future version of pandas all arguments of DataFrame.drop except for the argument 'labels' will be keyword-only.\n",
      "  by='saliency', ascending=False).head(R).drop('saliency', 1)\n",
      "/home/ubuntu/.local/lib/python3.10/site-packages/sklearn/manifold/_mds.py:299: FutureWarning: The default value of `normalized_stress` will change to `'auto'` in version 1.4. To suppress this warning, manually set the value of `normalized_stress`.\n",
      "  warnings.warn(\n"
     ]
    }
   ],
   "source": [
    "pyLDAvis.enable_notebook()\n",
    "vis = pyLDAvis.gensim_models.prepare(lda_model, corpus, id2word, mds = 'mmds', R = 30)"
   ]
  },
  {
   "cell_type": "code",
   "execution_count": 22,
   "id": "0aa9dbd3",
   "metadata": {},
   "outputs": [
    {
     "data": {
      "text/html": [
       "\n",
       "<link rel=\"stylesheet\" type=\"text/css\" href=\"https://cdn.jsdelivr.net/gh/bmabey/pyLDAvis@3.4.0/pyLDAvis/js/ldavis.v1.0.0.css\">\n",
       "\n",
       "\n",
       "<div id=\"ldavis_el132851403843404141287763706301\" style=\"background-color:white;\"></div>\n",
       "<script type=\"text/javascript\">\n",
       "\n",
       "var ldavis_el132851403843404141287763706301_data = {\"mdsDat\": {\"x\": [-0.0017887122454785115, -0.4130838870397307, 0.3073388900171188, 0.4122817944013187, 0.09478434547574434, -0.301341697593006, -0.09819073301596676], \"y\": [-0.4661849743559684, 0.13501944211048492, 0.319174215947489, -0.15736109983955832, -0.015327492531904883, -0.20644080303351278, 0.3911207117029705], \"topics\": [1, 2, 3, 4, 5, 6, 7], \"cluster\": [1, 1, 1, 1, 1, 1, 1], \"Freq\": [64.92105799386677, 12.482430513906108, 6.341119486791944, 4.986033142986346, 4.477895340904784, 3.579990381959991, 3.211473139584055]}, \"tinfo\": {\"Term\": [\"game\", \"play\", \"again\", \"story\", \"kill\", \"good\", \"dlc\", \"gameplay\", \"get\", \"mod\", \"run\", \"money\", \"feel\", \"weapon\", \"graphic\", \"minecraft\", \"amazing\", \"multiplayer\", \"fun\", \"terraria\", \"character\", \"zombie\", \"fps\", \"pc\", \"experience\", \"work\", \"die\", \"online\", \"just\", \"so\", \"game\", \"play\", \"good\", \"get\", \"fun\", \"just\", \"so\", \"time\", \"buy\", \"very\", \"really\", \"well\", \"love\", \"ever\", \"go\", \"hour\", \"friend\", \"even\", \"much\", \"like\", \"want\", \"say\", \"only\", \"still\", \"lot\", \"thing\", \"now\", \"new\", \"other\", \"think\", \"make\", \"more\", \"great\", \"then\", \"story\", \"gameplay\", \"character\", \"rpg\", \"portal\", \"combat\", \"fantastic\", \"interesting\", \"challenge\", \"shooter\", \"mechanic\", \"beautiful\", \"puzzle\", \"music\", \"action\", \"soundtrack\", \"undertale\", \"pro\", \"con\", \"excellent\", \"choice\", \"storyline\", \"difficult\", \"truly\", \"bioshock\", \"series\", \"short\", \"ending\", \"original\", \"quest\", \"graphic\", \"experience\", \"unique\", \"feel\", \"simple\", \"style\", \"world\", \"finish\", \"amazing\", \"definitely\", \"fan\", \"end\", \"mod\", \"run\", \"multiplayer\", \"zombie\", \"fps\", \"pc\", \"online\", \"map\", \"mode\", \"fix\", \"server\", \"problem\", \"crash\", \"issue\", \"computer\", \"download\", \"load\", \"single_player\", \"cod\", \"campaign\", \"join\", \"controller\", \"lag\", \"low\", \"fine\", \"console\", \"leave_dead\", \"singleplayer\", \"coop\", \"gamemode\", \"high\", \"bug\", \"gun\", \"setting\", \"work\", \"again\", \"kill\", \"die\", \"shoot\", \"car\", \"man\", \"hit\", \"cry\", \"kick\", \"death\", \"fly\", \"name\", \"throw\", \"head\", \"kid\", \"jump\", \"face\", \"goal\", \"ball\", \"wall\", \"destroy\", \"dead\", \"shot\", \"fall\", \"blow\", \"year_old\", \"walk\", \"spawn\", \"eye\", \"up\", \"guy\", \"save\", \"leave\", \"drive\", \"weapon\", \"minecraft\", \"terraria\", \"boss\", \"item\", \"fight\", \"build\", \"explore\", \"sandbox\", \"space\", \"adventure\", \"warframe\", \"ship\", \"craft\", \"planet\", \"building\", \"survival\", \"upgrade\", \"hero\", \"ability\", \"exploration\", \"npc\", \"sword\", \"class\", \"loot\", \"crew\", \"farm\", \"block\", \"armor\", \"survive\", \"enemy\", \"monster\", \"discover\", \"different\", \"choose\", \"world\", \"grind\", \"dlc\", \"money\", \"pay\", \"heist\", \"microtransaction\", \"overkill\", \"dota\", \"support\", \"devs\", \"ban\", \"launch\", \"promise\", \"pay_win\", \"steal\", \"refund\", \"payday\", \"skin\", \"lie\", \"rockstar\", \"sell\", \"stealth\", \"company\", \"mask\", \"drill\", \"waste_money\", \"noob\", \"account\", \"earn\", \"ign\", \"cash\", \"hacker\", \"developer\", \"realistic\", \"simulator\", \"ai\", \"war\", \"insurgency\", \"army\", \"teammate\", \"tactical\", \"battlefield\", \"hardcore\", \"city\", \"bullet\", \"king\", \"scream\", \"bot\", \"rock\", \"tactic\", \"military\", \"faction\", \"counter_strike\", \"dude\", \"medieval\", \"cover\", \"corner\", \"girl\", \"horse\", \"aim\", \"blood\", \"blade\", \"wear\", \"modern\", \"fire\", \"team\", \"land\", \"battle\"], \"Freq\": [91653.0, 42425.0, 5551.0, 7724.0, 4497.0, 30620.0, 3806.0, 5761.0, 27152.0, 4162.0, 4032.0, 3298.0, 5158.0, 3292.0, 4945.0, 3278.0, 8659.0, 3387.0, 21235.0, 2913.0, 4132.0, 2907.0, 2882.0, 2880.0, 3595.0, 3394.0, 2430.0, 2507.0, 16147.0, 15799.0, 91652.73890494899, 42424.93491317793, 30619.35926231119, 27151.506534914522, 21234.883253079803, 16146.989919510559, 15798.743231966346, 14806.697443349058, 13364.940393671646, 12530.684891590878, 12021.728876130668, 11431.214381522082, 10580.755779527413, 10364.221626729466, 9867.177488852409, 9563.127865828503, 9421.017693061112, 9290.202758277603, 8891.550518780166, 8316.046357898156, 7913.565901912423, 7881.499590464425, 7515.89912825921, 7426.396415911715, 7208.991496444152, 7003.987241409332, 6503.904627691166, 6467.431342451804, 6349.665280280472, 6274.168494667229, 14871.96653513108, 13913.791728461358, 18190.826086997866, 7188.090465658347, 7723.354625112975, 5760.823333379201, 4131.462179390416, 2459.1646393146007, 1982.0320863798527, 1981.0457569693733, 1702.8330846803647, 1699.2404177384406, 1687.063548903631, 1463.2020782596273, 1460.604339497402, 1449.4166326088146, 1436.9393126612745, 1412.2310022138372, 1366.8487215127998, 1311.8521063663734, 1137.0932497977442, 1129.5597163414989, 1024.482857640429, 980.3907969702893, 954.2177620577925, 930.3981596996946, 927.3308269760903, 910.0113883380279, 906.982800656907, 903.5772833979968, 895.0898935303247, 867.7035216999521, 839.6904007554642, 782.8111609599077, 4932.108351074592, 3565.0145140580394, 1341.685384430661, 4807.288212435451, 1226.4766465391756, 1076.8240716898636, 2758.625173831122, 1227.1745631138317, 3080.785447467382, 1061.2357170386854, 1090.965000576412, 1179.9395005509555, 4161.223793583691, 4031.2391504866305, 3387.0677825926373, 2906.42538235497, 2881.5860179454216, 2879.4559781062035, 2507.0844361502686, 2383.742343464759, 2338.5348071319413, 2203.019707382273, 2156.679726591411, 1803.8541060900257, 1702.6296259812943, 1339.1745681081543, 1244.3732003171342, 1155.2040426742258, 1122.6963703933986, 1091.7823223022583, 1085.2620816479296, 1000.5012143304439, 841.6822515309062, 782.2032221564491, 749.2131971944092, 711.1712139619021, 671.5448568574811, 664.8224967598102, 636.9600771113597, 593.8515406625658, 562.2299974337467, 545.2991922043054, 1093.4654690117272, 1318.560029388195, 1832.1070433204636, 645.9247656278832, 1514.077212591735, 5550.778379671635, 4496.306345585981, 2430.0823683983667, 1753.6815474211428, 1317.4638715654485, 1047.1913006101279, 841.9211510976867, 811.0389093219392, 686.3210415744924, 678.7143726561621, 664.4626777240217, 627.434172787245, 622.7998362971761, 593.0354165093154, 568.691926235281, 565.7088855386907, 547.4426001971023, 542.6370930480055, 515.5329707901498, 473.4976836682475, 459.418654511845, 453.23097257708974, 451.2595197648488, 449.52728562622565, 419.4733789164396, 412.8583764625106, 409.41657738727434, 402.36087918090016, 400.4832550443586, 396.32602241905414, 1492.6508181622974, 918.358467590857, 513.0468341525929, 422.5124662853793, 3291.5974281656104, 3277.651159952527, 2912.4358558883646, 2132.959453464451, 1951.5762406394122, 1869.190570773204, 1838.202170094686, 1458.4590799201778, 1310.03991894234, 1158.2085137178708, 1049.3941183281413, 1034.1886446732697, 978.9252830847315, 937.9988925101959, 736.2388919186942, 627.2809315762954, 589.9142695678165, 555.8323635150873, 547.4657856553509, 536.7765837976922, 530.0214100313253, 460.683058064103, 440.22508859917707, 390.6160667845218, 380.1275510209634, 352.40743044164515, 323.38869301037687, 322.37005684847816, 316.2480785558655, 306.3432581155455, 1434.2881999717997, 604.8968473836352, 362.2310691835018, 924.9405060291664, 445.31787021390846, 611.5223917235778, 445.40754387367735, 3805.2783649048074, 3297.56051251209, 1971.2145543712152, 1276.9957413873974, 1140.4478980072493, 1008.2523112115516, 1007.4065097612962, 954.0342100136502, 806.5807735653765, 729.4562847649703, 629.9867034655389, 606.782637388843, 604.9370888758509, 585.6292452454637, 575.499473074012, 566.5293703580593, 549.5218327849597, 494.80893541757916, 484.3389799995493, 471.9089307843065, 418.5053835009193, 392.49759818899327, 376.38364729490075, 374.14035275825506, 317.36375439762486, 315.8813968339432, 302.38724862070484, 300.61226093122474, 278.72302848936255, 276.37592366220457, 411.8649485007221, 334.71875760492645, 1205.6264552167256, 925.0033390235512, 609.8726087920294, 468.881332079809, 431.44988171271257, 419.5441088817342, 404.3187346251575, 378.570266793825, 367.4741909352906, 332.75919452868754, 328.82179249123124, 302.5333965437512, 300.7810311481331, 298.88845882257107, 295.0782242363317, 283.06076996180605, 273.7978470078086, 259.0227121574135, 258.11229106785737, 241.1012890328023, 235.7476330334193, 226.11307192225289, 221.776313075244, 217.02757437041393, 215.7377070525949, 205.98153523414, 199.8427906997109, 196.8652868956427, 196.18005057643649, 194.05859766020677, 230.77022195315072, 379.6566557789354, 836.4917738556893, 253.25790916112604, 215.67778010694875], \"Total\": [91653.0, 42425.0, 5551.0, 7724.0, 4497.0, 30620.0, 3806.0, 5761.0, 27152.0, 4162.0, 4032.0, 3298.0, 5158.0, 3292.0, 4945.0, 3278.0, 8659.0, 3387.0, 21235.0, 2913.0, 4132.0, 2907.0, 2882.0, 2880.0, 3595.0, 3394.0, 2430.0, 2507.0, 16147.0, 15799.0, 91653.56872221081, 42425.76486795581, 30620.189244773657, 27152.33713074326, 21235.71325289707, 16147.82027802473, 15799.573451264667, 14807.527744380033, 13365.770625413634, 12531.515106355468, 12022.558988042505, 11432.044735515943, 10581.585837518198, 10365.051607630088, 9868.008150417383, 9563.957987827345, 9421.847726109607, 9291.033259880534, 8892.380701610526, 8316.876637919546, 7914.39646909723, 7882.3298985273195, 7516.729693694464, 7427.226685103403, 7209.821815414832, 7004.817782274503, 6504.7350538899145, 6468.261885895274, 6350.4959630202, 6274.998747750497, 14888.704299017885, 13921.745448841888, 18351.421981512678, 7263.394882391442, 7724.188157386473, 5761.6575022243405, 4132.296254574287, 2459.9986234873236, 1982.8655235423919, 1981.879998340845, 1703.6671693515666, 1700.0744424822262, 1687.8979876085705, 1464.036643303165, 1461.4384528711978, 1450.250450898726, 1437.772532521032, 1413.0647956089717, 1367.6831241313696, 1312.6856238143205, 1137.9266900481896, 1130.3945616062315, 1025.3176839334362, 981.2246756264253, 955.0521026803578, 931.2316424302528, 928.1650842295793, 910.8454688464292, 907.816055975908, 904.4115608477076, 895.9243569784193, 868.5368266163865, 840.5249905080973, 783.64575397267, 4945.286950487913, 3595.962749434066, 1347.665277742083, 5158.749828087911, 1249.1407492545718, 1100.9621384114348, 3370.846140203461, 1331.6115487232662, 8659.20122002345, 1216.370324292477, 1322.3701347416904, 3144.735733324159, 4162.059881361585, 4032.0756240368255, 3387.9040288122615, 2907.2612677889597, 2882.422059488512, 2880.2916752598903, 2507.920554775923, 2384.5788833353254, 2339.3711051168707, 2203.855525071204, 2157.5156009520074, 1804.6901671378778, 1703.4652485122406, 1340.0105788456713, 1245.2091901771091, 1156.0399712203562, 1123.532724250396, 1092.6185062063696, 1086.097823125864, 1001.3369443974215, 842.5192682452492, 783.0394092691837, 750.0486808047444, 712.0078330567582, 672.3815865210516, 665.6582494095442, 637.7959302720548, 594.6876990350025, 563.0662760841144, 546.1349144716901, 1109.769594718029, 1351.0649840883168, 2019.56167749434, 653.8495115197192, 3394.8480663935, 5551.615538185613, 4497.143613311552, 2430.9192856966415, 1754.5186892487902, 1318.3010539194956, 1048.028660355093, 842.7585303928678, 811.8758754884452, 687.1585220921712, 679.5515760880966, 665.3000546192793, 628.2716326097109, 623.6374522796542, 593.8727070345276, 569.5289289014011, 566.5462394006561, 548.2800563094954, 543.4745199214078, 516.369568477805, 474.3349562900983, 460.2562312201288, 454.0684173885246, 452.09653495573997, 450.36470445365666, 420.3102766550304, 413.6957409151705, 410.25366653274665, 403.1981084618867, 401.3207321764725, 397.1636472839108, 1503.773250702858, 920.8238557671644, 1436.035565154526, 547.030125370596, 3292.4376815240353, 3278.48999591993, 2913.2746985635426, 2133.798652995942, 1952.4156746155231, 1870.0306177130255, 1839.0417925755069, 1459.298753083777, 1310.8794557086978, 1159.04816106746, 1050.2335685960422, 1035.0283142818423, 979.7646455415852, 938.8380775091349, 737.0782159578066, 628.1205530519492, 590.7538932271448, 556.6726766137133, 548.305798286768, 537.6169638556639, 530.8610463928244, 461.52270483962786, 441.0651388875398, 391.45612004499594, 380.96731298936743, 353.24748637909414, 324.22843526277853, 323.2099400379328, 317.08741737112297, 307.1834383710406, 1833.3424126015884, 694.7833370026141, 402.45829590410415, 2904.9931161430145, 890.7690609855935, 3370.846140203461, 1382.9885231927362, 3806.1176169261776, 3298.4000559286455, 1972.0540067263469, 1277.8349108253337, 1141.2863512662655, 1009.0907383064997, 1008.2460723822308, 954.8740868331786, 807.4206308197441, 730.295378685255, 630.8268534149092, 607.6219240090854, 605.7761777685469, 586.469490754367, 576.339097736512, 567.3683078708892, 550.360900864054, 495.6484720961303, 485.1781551918195, 472.7491087109285, 419.3449979889615, 393.3369697012929, 377.2227541192777, 374.9793216877152, 318.20356464519176, 316.7213446183559, 303.2267881920951, 301.4526787439638, 279.562663909379, 277.2156017520878, 575.7437178899651, 1236.5024470591786, 1206.4643815130119, 925.8414832506671, 610.7113582725513, 469.7193935319562, 432.287512151696, 420.3821772262774, 405.15738167026706, 379.4080577849787, 368.3125370240228, 333.597371349845, 329.66057656582154, 303.3715733573201, 301.61888699754803, 299.72705667074405, 295.91674309104883, 283.8996154419393, 274.63735185309235, 259.8607653032411, 258.950811809766, 241.93892841046952, 236.58618952131283, 226.95068562206623, 222.6148772468263, 217.86661653343685, 216.57602030172828, 206.81988630204214, 200.6817136421756, 197.70366558420065, 197.01845556296504, 194.89710777123537, 236.09701345309338, 484.64510512285545, 1972.8227302343062, 305.30862465525945, 928.4196774567181], \"Category\": [\"Default\", \"Default\", \"Default\", \"Default\", \"Default\", \"Default\", \"Default\", \"Default\", \"Default\", \"Default\", \"Default\", \"Default\", \"Default\", \"Default\", \"Default\", \"Default\", \"Default\", \"Default\", \"Default\", \"Default\", \"Default\", \"Default\", \"Default\", \"Default\", \"Default\", \"Default\", \"Default\", \"Default\", \"Default\", \"Default\", \"Topic1\", \"Topic1\", \"Topic1\", \"Topic1\", \"Topic1\", \"Topic1\", \"Topic1\", \"Topic1\", \"Topic1\", \"Topic1\", \"Topic1\", \"Topic1\", \"Topic1\", \"Topic1\", \"Topic1\", \"Topic1\", \"Topic1\", \"Topic1\", \"Topic1\", \"Topic1\", \"Topic1\", \"Topic1\", \"Topic1\", \"Topic1\", \"Topic1\", \"Topic1\", \"Topic1\", \"Topic1\", \"Topic1\", \"Topic1\", \"Topic1\", \"Topic1\", \"Topic1\", \"Topic1\", \"Topic2\", \"Topic2\", \"Topic2\", \"Topic2\", \"Topic2\", \"Topic2\", \"Topic2\", \"Topic2\", \"Topic2\", \"Topic2\", \"Topic2\", \"Topic2\", \"Topic2\", \"Topic2\", \"Topic2\", \"Topic2\", \"Topic2\", \"Topic2\", \"Topic2\", \"Topic2\", \"Topic2\", \"Topic2\", \"Topic2\", \"Topic2\", \"Topic2\", \"Topic2\", \"Topic2\", \"Topic2\", \"Topic2\", \"Topic2\", \"Topic2\", \"Topic2\", \"Topic2\", \"Topic2\", \"Topic2\", \"Topic2\", \"Topic2\", \"Topic2\", \"Topic2\", \"Topic2\", \"Topic2\", \"Topic2\", \"Topic3\", \"Topic3\", \"Topic3\", \"Topic3\", \"Topic3\", \"Topic3\", \"Topic3\", \"Topic3\", \"Topic3\", \"Topic3\", \"Topic3\", \"Topic3\", \"Topic3\", \"Topic3\", \"Topic3\", \"Topic3\", \"Topic3\", \"Topic3\", \"Topic3\", \"Topic3\", \"Topic3\", \"Topic3\", \"Topic3\", \"Topic3\", \"Topic3\", \"Topic3\", \"Topic3\", \"Topic3\", \"Topic3\", \"Topic3\", \"Topic3\", \"Topic3\", \"Topic3\", \"Topic3\", \"Topic3\", \"Topic4\", \"Topic4\", \"Topic4\", \"Topic4\", \"Topic4\", \"Topic4\", \"Topic4\", \"Topic4\", \"Topic4\", \"Topic4\", \"Topic4\", \"Topic4\", \"Topic4\", \"Topic4\", \"Topic4\", \"Topic4\", \"Topic4\", \"Topic4\", \"Topic4\", \"Topic4\", \"Topic4\", \"Topic4\", \"Topic4\", \"Topic4\", \"Topic4\", \"Topic4\", \"Topic4\", \"Topic4\", \"Topic4\", \"Topic4\", \"Topic4\", \"Topic4\", \"Topic4\", \"Topic4\", \"Topic5\", \"Topic5\", \"Topic5\", \"Topic5\", \"Topic5\", \"Topic5\", \"Topic5\", \"Topic5\", \"Topic5\", \"Topic5\", \"Topic5\", \"Topic5\", \"Topic5\", \"Topic5\", \"Topic5\", \"Topic5\", \"Topic5\", \"Topic5\", \"Topic5\", \"Topic5\", \"Topic5\", \"Topic5\", \"Topic5\", \"Topic5\", \"Topic5\", \"Topic5\", \"Topic5\", \"Topic5\", \"Topic5\", \"Topic5\", \"Topic5\", \"Topic5\", \"Topic5\", \"Topic5\", \"Topic5\", \"Topic5\", \"Topic5\", \"Topic6\", \"Topic6\", \"Topic6\", \"Topic6\", \"Topic6\", \"Topic6\", \"Topic6\", \"Topic6\", \"Topic6\", \"Topic6\", \"Topic6\", \"Topic6\", \"Topic6\", \"Topic6\", \"Topic6\", \"Topic6\", \"Topic6\", \"Topic6\", \"Topic6\", \"Topic6\", \"Topic6\", \"Topic6\", \"Topic6\", \"Topic6\", \"Topic6\", \"Topic6\", \"Topic6\", \"Topic6\", \"Topic6\", \"Topic6\", \"Topic6\", \"Topic6\", \"Topic7\", \"Topic7\", \"Topic7\", \"Topic7\", \"Topic7\", \"Topic7\", \"Topic7\", \"Topic7\", \"Topic7\", \"Topic7\", \"Topic7\", \"Topic7\", \"Topic7\", \"Topic7\", \"Topic7\", \"Topic7\", \"Topic7\", \"Topic7\", \"Topic7\", \"Topic7\", \"Topic7\", \"Topic7\", \"Topic7\", \"Topic7\", \"Topic7\", \"Topic7\", \"Topic7\", \"Topic7\", \"Topic7\", \"Topic7\", \"Topic7\", \"Topic7\", \"Topic7\", \"Topic7\", \"Topic7\"], \"logprob\": [30.0, 29.0, 28.0, 27.0, 26.0, 25.0, 24.0, 23.0, 22.0, 21.0, 20.0, 19.0, 18.0, 17.0, 16.0, 15.0, 14.0, 13.0, 12.0, 11.0, 10.0, 9.0, 8.0, 7.0, 6.0, 5.0, 4.0, 3.0, 2.0, 1.0, -2.5119, -3.2821, -3.6082, -3.7284, -3.9742, -4.2481, -4.2699, -4.3348, -4.4372, -4.5017, -4.5432, -4.5935, -4.6708, -4.6915, -4.7407, -4.772, -4.7869, -4.8009, -4.8448, -4.9117, -4.9613, -4.9654, -5.0128, -5.0248, -5.0545, -5.0834, -5.1575, -5.1631, -5.1815, -5.1934, -4.3304, -4.397, -4.129, -5.0574, -3.3368, -3.6299, -3.9624, -4.4812, -4.6969, -4.6974, -4.8487, -4.8508, -4.858, -5.0004, -5.0022, -5.0099, -5.0185, -5.0358, -5.0685, -5.1096, -5.2525, -5.2592, -5.3568, -5.4008, -5.4279, -5.4532, -5.4565, -5.4753, -5.4787, -5.4824, -5.4919, -5.5229, -5.5557, -5.6259, -3.7853, -4.1099, -5.0871, -3.8109, -5.1769, -5.307, -4.3663, -5.1763, -4.2558, -5.3216, -5.294, -5.2156, -3.2779, -3.3097, -3.4838, -3.6368, -3.6454, -3.6462, -3.7846, -3.8351, -3.8542, -3.9139, -3.9352, -4.1138, -4.1716, -4.4117, -4.4851, -4.5595, -4.588, -4.6159, -4.6219, -4.7033, -4.8761, -4.9494, -4.9925, -5.0446, -5.1019, -5.112, -5.1548, -5.2249, -5.2796, -5.3102, -4.6144, -4.4272, -4.0983, -5.1408, -4.2889, -2.7494, -2.9601, -3.5754, -3.9016, -4.1876, -4.4172, -4.6354, -4.6728, -4.8397, -4.8509, -4.8721, -4.9295, -4.9369, -4.9858, -5.0278, -5.033, -5.0658, -5.0747, -5.1259, -5.2109, -5.2411, -5.2547, -5.2591, -5.2629, -5.3321, -5.348, -5.3564, -5.3737, -5.3784, -5.3889, -4.0628, -4.5485, -5.1307, -5.3249, -3.1645, -3.1687, -3.2869, -3.5983, -3.6872, -3.7303, -3.7471, -3.9785, -4.0858, -4.209, -4.3076, -4.3222, -4.3772, -4.4199, -4.6621, -4.8222, -4.8836, -4.9431, -4.9583, -4.978, -4.9907, -5.1309, -5.1763, -5.2959, -5.3231, -5.3988, -5.4848, -5.4879, -5.5071, -5.5389, -3.9952, -4.8585, -5.3713, -4.4339, -5.1648, -4.8477, -5.1646, -2.7957, -2.9389, -3.4534, -3.8875, -4.0006, -4.1238, -4.1247, -4.1791, -4.347, -4.4475, -4.5941, -4.6316, -4.6347, -4.6671, -4.6846, -4.7003, -4.7308, -4.8356, -4.857, -4.883, -5.0031, -5.0673, -5.1092, -5.1152, -5.2798, -5.2844, -5.3281, -5.334, -5.4096, -5.4181, -5.0191, -5.2265, -3.8364, -4.1014, -4.5179, -4.7808, -4.864, -4.892, -4.929, -4.9948, -5.0245, -5.1238, -5.1357, -5.219, -5.2248, -5.2311, -5.2439, -5.2855, -5.3188, -5.3743, -5.3778, -5.446, -5.4684, -5.5101, -5.5295, -5.5512, -5.5571, -5.6034, -5.6337, -5.6487, -5.6521, -5.663, -5.4898, -4.9919, -4.202, -5.3968, -5.5574], \"loglift\": [30.0, 29.0, 28.0, 27.0, 26.0, 25.0, 24.0, 23.0, 22.0, 21.0, 20.0, 19.0, 18.0, 17.0, 16.0, 15.0, 14.0, 13.0, 12.0, 11.0, 10.0, 9.0, 8.0, 7.0, 6.0, 5.0, 4.0, 3.0, 2.0, 1.0, 0.432, 0.432, 0.432, 0.432, 0.432, 0.4319, 0.4319, 0.4319, 0.4319, 0.4319, 0.4319, 0.4319, 0.4319, 0.4319, 0.4319, 0.4319, 0.4319, 0.4319, 0.4319, 0.4319, 0.4319, 0.4319, 0.4319, 0.4319, 0.4319, 0.4319, 0.4319, 0.4319, 0.4319, 0.4319, 0.4309, 0.4314, 0.4232, 0.4216, 2.0807, 2.0807, 2.0806, 2.0805, 2.0804, 2.0804, 2.0804, 2.0804, 2.0804, 2.0803, 2.0803, 2.0803, 2.0803, 2.0803, 2.0802, 2.0802, 2.0801, 2.0801, 2.08, 2.08, 2.08, 2.08, 2.0799, 2.0799, 2.0799, 2.0799, 2.0799, 2.0799, 2.0799, 2.0798, 2.0782, 2.0722, 2.0764, 2.0103, 2.0625, 2.0587, 1.8804, 1.9992, 1.0474, 1.9444, 1.8885, 1.1006, 2.7579, 2.7579, 2.7579, 2.7578, 2.7578, 2.7578, 2.7578, 2.7578, 2.7578, 2.7577, 2.7577, 2.7577, 2.7576, 2.7575, 2.7574, 2.7574, 2.7574, 2.7573, 2.7573, 2.7573, 2.7571, 2.757, 2.757, 2.7569, 2.7569, 2.7569, 2.7568, 2.7567, 2.7566, 2.7566, 2.7433, 2.7338, 2.6607, 2.7459, 1.9507, 2.9984, 2.9983, 2.9982, 2.9981, 2.9979, 2.9977, 2.9975, 2.9975, 2.9973, 2.9973, 2.9973, 2.9972, 2.9972, 2.9971, 2.9971, 2.9971, 2.997, 2.997, 2.9969, 2.9968, 2.9967, 2.9967, 2.9967, 2.9967, 2.9965, 2.9965, 2.9965, 2.9965, 2.9964, 2.9964, 2.9911, 2.9958, 1.9693, 2.7402, 3.1058, 3.1058, 3.1057, 3.1056, 3.1056, 3.1056, 3.1056, 3.1054, 3.1054, 3.1053, 3.1052, 3.1052, 3.1052, 3.1051, 3.1049, 3.1047, 3.1046, 3.1045, 3.1045, 3.1045, 3.1044, 3.1042, 3.1041, 3.1039, 3.1038, 3.1036, 3.1034, 3.1034, 3.1034, 3.1033, 2.8605, 2.9675, 3.0007, 1.9616, 2.4127, 1.399, 1.973, 3.3296, 3.3296, 3.3294, 3.3292, 3.3291, 3.329, 3.329, 3.3289, 3.3288, 3.3287, 3.3285, 3.3284, 3.3284, 3.3284, 3.3284, 3.3283, 3.3283, 3.3281, 3.3281, 3.328, 3.3278, 3.3277, 3.3276, 3.3276, 3.3272, 3.3272, 3.327, 3.327, 3.3268, 3.3268, 2.9948, 2.0231, 3.4377, 3.4375, 3.4371, 3.4367, 3.4365, 3.4364, 3.4364, 3.4362, 3.4362, 3.4359, 3.4359, 3.4357, 3.4357, 3.4356, 3.4356, 3.4355, 3.4354, 3.4352, 3.4352, 3.435, 3.4349, 3.4347, 3.4347, 3.4346, 3.4346, 3.4344, 3.4343, 3.4342, 3.4342, 3.4341, 3.4156, 3.1943, 2.5804, 3.2515, 1.9787]}, \"token.table\": {\"Topic\": [5, 6, 2, 5, 4, 7, 7, 1, 2, 5, 7, 4, 6, 2, 5, 7, 7, 2, 2, 7, 5, 7, 4, 5, 7, 1, 3, 5, 5, 7, 1, 3, 4, 6, 2, 2, 2, 1, 2, 5, 7, 5, 3, 2, 6, 3, 2, 3, 3, 3, 7, 7, 7, 5, 3, 5, 4, 4, 4, 1, 2, 4, 1, 6, 6, 4, 1, 2, 5, 2, 1, 2, 5, 6, 6, 3, 6, 2, 4, 7, 6, 1, 2, 2, 2, 4, 5, 1, 1, 2, 1, 2, 5, 5, 4, 4, 7, 4, 1, 2, 2, 5, 1, 2, 5, 3, 1, 2, 5, 7, 3, 4, 3, 1, 1, 1, 3, 2, 1, 7, 1, 4, 1, 1, 2, 3, 1, 2, 1, 5, 3, 5, 6, 1, 4, 3, 6, 7, 4, 6, 5, 1, 3, 4, 7, 1, 6, 7, 2, 3, 5, 3, 4, 1, 4, 4, 4, 7, 3, 5, 7, 6, 1, 2, 4, 3, 6, 1, 3, 5, 1, 1, 3, 1, 2, 4, 3, 6, 2, 7, 6, 7, 5, 3, 3, 1, 7, 6, 2, 5, 1, 5, 1, 3, 2, 4, 1, 6, 1, 5, 3, 1, 2, 1, 6, 6, 6, 6, 3, 5, 1, 2, 2, 3, 6, 2, 2, 7, 1, 6, 7, 6, 2, 3, 5, 1, 4, 1, 7, 6, 2, 3, 2, 3, 5, 4, 2, 2, 4, 1, 2, 7, 3, 3, 6, 1, 2, 5, 4, 6, 6, 1, 2, 2, 2, 5, 6, 5, 5, 5, 7, 7, 1, 7, 7, 5, 1, 4, 1, 1, 4, 1, 2, 2, 2, 5, 4, 5, 1, 4, 4, 1, 7, 5, 6, 5, 7, 1, 1, 3, 2, 5, 4, 3], \"Freq\": [0.9988524099923499, 0.9959542222525606, 0.9995005245591493, 0.998825434043504, 0.9998891244933336, 0.9988351972451218, 0.9966030106590025, 0.644170271398878, 0.35580649088919736, 0.9965706069949466, 0.9990908814717145, 0.9992842946208188, 0.9982262263694082, 0.6333342714264174, 0.13356028853210164, 0.23265340583011251, 0.9964363498602895, 0.9991377689984849, 0.9991010778334046, 0.9948306590869628, 0.9962564887769515, 0.9964408065873672, 0.9968825966724915, 0.9996257130470952, 0.996902023584496, 0.023685019134437293, 0.9762668824475872, 0.9994335133765243, 0.998216022312111, 0.9987751872952103, 0.9999423433608707, 0.9996635054770457, 0.999013082849606, 0.9956149590989654, 0.9994679846678158, 0.9996863113159296, 0.9988983819025108, 0.07184802751140353, 0.42772028877882406, 0.49956831629022763, 0.9979961918021774, 0.9988348118176221, 0.9989892041927639, 0.9995559779897967, 0.9966009559124122, 0.9990289260739096, 0.9987148530118185, 0.9990111300954686, 0.998672596478696, 0.9981063044806556, 0.9960222610181131, 0.9961191511567062, 0.9972379328172908, 0.999107324756833, 0.9997268811250204, 0.9964685201531615, 0.9989211706926033, 0.997647012327637, 0.9991883234363582, 0.12660617981581948, 0.8722672518479511, 0.9972705829168275, 0.7286681899763991, 0.27092546464161343, 0.9994790437552765, 0.9996218361909215, 0.3927720150727641, 0.2888130768151175, 0.3184172777759043, 0.998744744604839, 0.06708769647634107, 0.02981675398948492, 0.8994720786827951, 0.9997063630085399, 0.9987641187837344, 0.9991004020222083, 0.9973883314863672, 0.2266785579971374, 0.7732663712321703, 0.9975223003401049, 0.9984983422743167, 0.6245357850543275, 0.37523025782286484, 0.9993819184173481, 0.015818103481742837, 0.2018171823532707, 0.7821779445799735, 0.99988878956176, 0.9998985429431616, 0.9987518907169314, 0.00834268931309742, 0.9913895800397434, 0.9983780192600773, 0.9991100156283746, 0.9967090357647116, 0.9976653239621526, 0.996328214601372, 0.9991902019628757, 0.17468634078394635, 0.8250337566895475, 0.999608392200326, 0.9962112044189372, 0.06803974057608024, 0.9318149086872299, 0.9994488765567454, 0.9994324851710679, 0.07810085463716052, 0.9214398907672687, 0.2145900142200682, 0.7840788981117877, 0.9996118052832995, 0.9980459123514979, 0.9998535747091157, 0.9999100254924246, 0.999966412576372, 0.9999937948710701, 0.9979219155530682, 0.9998858831466315, 0.9999875837302094, 0.9973403320417201, 0.9998978364831063, 0.9991268773346054, 0.9999611614166016, 0.00161770188061801, 0.9973132094010032, 0.0010110636753862562, 0.9912583350939078, 0.008718670420264155, 0.6775182760279621, 0.3217669507283278, 0.9071275318874901, 0.07278807160887611, 0.019806277988809826, 0.006649938742643572, 0.9928358542766853, 0.28311207736208804, 0.7155961710011061, 0.9982093043856196, 0.9985304813233707, 0.9993466207424287, 0.9976184853582653, 0.014417407069136084, 0.9848891204103587, 0.9990999433817488, 0.9960357472547646, 0.9998998335387331, 0.9979873424386835, 0.9970216300135819, 0.999368002685425, 0.9992458426361516, 0.9997870972759912, 0.9993836719647602, 0.9990358432151382, 0.9999492019349604, 0.9983140395484816, 0.9990712870329145, 0.9997457022924136, 0.9979481159031229, 0.9986018496777845, 0.16704408549737784, 0.8286696790360116, 0.9986892545705162, 0.6399562951639781, 0.0027854463336843445, 0.35723349229501716, 0.9987520612247945, 0.9986916693329289, 0.9998945952960816, 0.9995258489237583, 0.9974609029268754, 0.9998860144625108, 0.9999446361323158, 0.9985845197061507, 0.9988780555592748, 0.0010746401888749595, 0.999018480701907, 0.9997572387563394, 0.9967585356240439, 0.9996999854011392, 0.9958110475874509, 0.9988728934987804, 0.996687590363106, 0.9998505421945652, 0.9997453469215252, 0.9998413654353262, 0.02117773506268166, 0.9784113598958928, 0.9998787121265273, 0.12809748774914148, 0.8707750571711304, 0.9994436438397506, 0.0005028105150839625, 0.9999571878866526, 0.999733159852058, 0.9992464637062076, 0.9979759827696998, 0.9998049111310683, 0.9977224628822378, 0.9998869971053663, 0.9988674341822262, 0.9996329410139528, 0.9999029240475314, 0.9993754016667845, 0.9999219016871929, 0.9989190879817902, 0.9994655284679062, 0.9987187053617624, 0.9993508487065988, 0.9995515470634502, 0.998537175655903, 0.9999819716165828, 0.9995634986174727, 0.9996509523137913, 0.9996175702896568, 0.9989764621971143, 0.9994626879401588, 0.9991759618815053, 0.9996150889159036, 0.9999535050696727, 0.9976765453848765, 0.9968312199347684, 0.997571706023422, 0.9995940552658082, 0.9997332331689383, 0.9993291101596963, 0.0021719680560770695, 0.9969333377393749, 0.9998312810368964, 0.9975742708088489, 0.9984154201517774, 0.9995449407487429, 0.9997610209855354, 0.01070582737567571, 0.9879949263837869, 0.9992195620192413, 0.9997043694934864, 0.9992919280347887, 0.9989682644843626, 0.9975745557177356, 0.017612106572560828, 0.9814746662708898, 0.9990911152007225, 0.9994339229997878, 0.998843596334482, 0.9993442469050993, 0.9999637046363032, 0.999477693819539, 0.9990956708248477, 0.9970284868982714, 0.9991994626118349, 0.999177293181948, 0.9998348394151126, 0.9998461770528807, 0.9986774048752912, 0.9782352747879146, 0.020890818310234018, 0.9990846051377543, 0.9987238455204647, 0.9961474538558581, 0.9975850757776362, 0.9976792965385375, 0.9989244883533549, 0.5758246712136578, 0.42375829677343124, 0.9971433775549251, 0.9995624516410446, 0.989619883868049, 0.010325750040359443, 0.9998832543115437, 0.9998408369801101, 0.9989778479831125, 0.9999643597237065, 0.9990717757563201, 0.9991856329091373, 0.9957962278648488, 0.0037101200740121045, 0.9970701062600552, 0.9987916119436556, 0.9999588951255218, 0.9969441673895519, 0.9971856253215252, 0.9999499053277432, 0.998468461081526, 0.9990064868104059, 0.9962176267681546, 0.9998670645988256, 0.9953970185525362, 0.99990861341605, 0.5537803056963337, 0.4459698844809837, 0.818488855689352, 0.1815567885762535, 0.9983182304134158, 0.9995661663425527], \"Term\": [\"ability\", \"account\", \"action\", \"adventure\", \"again\", \"ai\", \"aim\", \"amazing\", \"amazing\", \"armor\", \"army\", \"ball\", \"ban\", \"battle\", \"battle\", \"battle\", \"battlefield\", \"beautiful\", \"bioshock\", \"blade\", \"block\", \"blood\", \"blow\", \"boss\", \"bot\", \"bug\", \"bug\", \"build\", \"building\", \"bullet\", \"buy\", \"campaign\", \"car\", \"cash\", \"challenge\", \"character\", \"choice\", \"choose\", \"choose\", \"choose\", \"city\", \"class\", \"cod\", \"combat\", \"company\", \"computer\", \"con\", \"console\", \"controller\", \"coop\", \"corner\", \"counter_strike\", \"cover\", \"craft\", \"crash\", \"crew\", \"cry\", \"dead\", \"death\", \"definitely\", \"definitely\", \"destroy\", \"developer\", \"developer\", \"devs\", \"die\", \"different\", \"different\", \"different\", \"difficult\", \"discover\", \"discover\", \"discover\", \"dlc\", \"dota\", \"download\", \"drill\", \"drive\", \"drive\", \"dude\", \"earn\", \"end\", \"end\", \"ending\", \"enemy\", \"enemy\", \"enemy\", \"even\", \"ever\", \"excellent\", \"experience\", \"experience\", \"exploration\", \"explore\", \"eye\", \"face\", \"faction\", \"fall\", \"fan\", \"fan\", \"fantastic\", \"farm\", \"feel\", \"feel\", \"fight\", \"fine\", \"finish\", \"finish\", \"fire\", \"fire\", \"fix\", \"fly\", \"fps\", \"friend\", \"fun\", \"game\", \"gamemode\", \"gameplay\", \"get\", \"girl\", \"go\", \"goal\", \"good\", \"graphic\", \"graphic\", \"graphic\", \"great\", \"great\", \"grind\", \"grind\", \"gun\", \"gun\", \"gun\", \"guy\", \"guy\", \"hacker\", \"hacker\", \"hardcore\", \"head\", \"heist\", \"hero\", \"high\", \"high\", \"hit\", \"horse\", \"hour\", \"ign\", \"insurgency\", \"interesting\", \"issue\", \"item\", \"join\", \"jump\", \"just\", \"kick\", \"kid\", \"kill\", \"king\", \"lag\", \"land\", \"land\", \"launch\", \"leave\", \"leave\", \"leave\", \"leave_dead\", \"lie\", \"like\", \"load\", \"loot\", \"lot\", \"love\", \"low\", \"make\", \"make\", \"man\", \"map\", \"mask\", \"mechanic\", \"medieval\", \"microtransaction\", \"military\", \"minecraft\", \"mod\", \"mode\", \"modern\", \"modern\", \"money\", \"monster\", \"monster\", \"more\", \"more\", \"much\", \"multiplayer\", \"music\", \"name\", \"new\", \"noob\", \"now\", \"npc\", \"online\", \"only\", \"original\", \"other\", \"overkill\", \"pay\", \"pay_win\", \"payday\", \"pc\", \"planet\", \"play\", \"portal\", \"pro\", \"problem\", \"promise\", \"puzzle\", \"quest\", \"realistic\", \"really\", \"refund\", \"rock\", \"rockstar\", \"rpg\", \"run\", \"sandbox\", \"save\", \"save\", \"say\", \"scream\", \"sell\", \"series\", \"server\", \"setting\", \"setting\", \"ship\", \"shoot\", \"shooter\", \"short\", \"shot\", \"simple\", \"simple\", \"simulator\", \"single_player\", \"singleplayer\", \"skin\", \"so\", \"soundtrack\", \"space\", \"spawn\", \"steal\", \"stealth\", \"still\", \"story\", \"storyline\", \"style\", \"style\", \"support\", \"survival\", \"survive\", \"sword\", \"tactic\", \"tactical\", \"team\", \"team\", \"teammate\", \"terraria\", \"then\", \"then\", \"thing\", \"think\", \"throw\", \"time\", \"truly\", \"undertale\", \"unique\", \"unique\", \"up\", \"upgrade\", \"very\", \"walk\", \"wall\", \"want\", \"war\", \"warframe\", \"waste_money\", \"weapon\", \"wear\", \"well\", \"work\", \"work\", \"world\", \"world\", \"year_old\", \"zombie\"]}, \"R\": 30, \"lambda.step\": 0.01, \"plot.opts\": {\"xlab\": \"PC1\", \"ylab\": \"PC2\"}, \"topic.order\": [5, 3, 7, 2, 6, 4, 1]};\n",
       "\n",
       "function LDAvis_load_lib(url, callback){\n",
       "  var s = document.createElement('script');\n",
       "  s.src = url;\n",
       "  s.async = true;\n",
       "  s.onreadystatechange = s.onload = callback;\n",
       "  s.onerror = function(){console.warn(\"failed to load library \" + url);};\n",
       "  document.getElementsByTagName(\"head\")[0].appendChild(s);\n",
       "}\n",
       "\n",
       "if(typeof(LDAvis) !== \"undefined\"){\n",
       "   // already loaded: just create the visualization\n",
       "   !function(LDAvis){\n",
       "       new LDAvis(\"#\" + \"ldavis_el132851403843404141287763706301\", ldavis_el132851403843404141287763706301_data);\n",
       "   }(LDAvis);\n",
       "}else if(typeof define === \"function\" && define.amd){\n",
       "   // require.js is available: use it to load d3/LDAvis\n",
       "   require.config({paths: {d3: \"https://d3js.org/d3.v5\"}});\n",
       "   require([\"d3\"], function(d3){\n",
       "      window.d3 = d3;\n",
       "      LDAvis_load_lib(\"https://cdn.jsdelivr.net/gh/bmabey/pyLDAvis@3.4.0/pyLDAvis/js/ldavis.v3.0.0.js\", function(){\n",
       "        new LDAvis(\"#\" + \"ldavis_el132851403843404141287763706301\", ldavis_el132851403843404141287763706301_data);\n",
       "      });\n",
       "    });\n",
       "}else{\n",
       "    // require.js not available: dynamically load d3 & LDAvis\n",
       "    LDAvis_load_lib(\"https://d3js.org/d3.v5.js\", function(){\n",
       "         LDAvis_load_lib(\"https://cdn.jsdelivr.net/gh/bmabey/pyLDAvis@3.4.0/pyLDAvis/js/ldavis.v3.0.0.js\", function(){\n",
       "                 new LDAvis(\"#\" + \"ldavis_el132851403843404141287763706301\", ldavis_el132851403843404141287763706301_data);\n",
       "            })\n",
       "         });\n",
       "}\n",
       "</script>"
      ],
      "text/plain": [
       "<IPython.core.display.HTML object>"
      ]
     },
     "execution_count": 22,
     "metadata": {},
     "output_type": "execute_result"
    }
   ],
   "source": [
    "pyLDAvis.display(vis)"
   ]
  },
  {
   "cell_type": "markdown",
   "id": "129ff146",
   "metadata": {},
   "source": [
    "## 2. Training on Full Dataset"
   ]
  },
  {
   "cell_type": "code",
   "execution_count": 23,
   "id": "c7b916fa",
   "metadata": {},
   "outputs": [],
   "source": [
    "data_words = df['clean_tokens'].map(lambda x: [word for word in x.split() if len(word) >=2])"
   ]
  },
  {
   "cell_type": "markdown",
   "id": "a78e8db0",
   "metadata": {},
   "source": [
    "### Form Bigrams and Trigrams"
   ]
  },
  {
   "cell_type": "code",
   "execution_count": 26,
   "id": "458a4600",
   "metadata": {},
   "outputs": [],
   "source": [
    "bigram = gensim.models.Phrases(data_words, min_count=20, threshold=20) # higher threshold fewer phrases.\n",
    "trigram = gensim.models.Phrases(bigram[data_words], threshold=20) \n",
    "\n",
    "# Faster way to get a sentence clubbed as a trigram/bigram\n",
    "bigram_mod = gensim.models.phrases.Phraser(bigram)\n",
    "trigram_mod = gensim.models.phrases.Phraser(trigram)"
   ]
  },
  {
   "cell_type": "code",
   "execution_count": 27,
   "id": "9f5403e0",
   "metadata": {},
   "outputs": [],
   "source": [
    "def make_bigrams(texts):\n",
    "    return [bigram_mod[doc] for doc in texts]\n",
    "\n",
    "def make_trigrams(texts):\n",
    "    return [trigram_mod[bigram_mod[doc]] for doc in texts]\n",
    "\n",
    "# Form Bigrams\n",
    "data_words_bigrams = make_bigrams(data_words)\n",
    "# Form Trigrams using data_words_bigrams\n",
    "data_words_bigrams_trigrams = make_trigrams(data_words_bigrams)"
   ]
  },
  {
   "cell_type": "code",
   "execution_count": 32,
   "id": "b6916202",
   "metadata": {},
   "outputs": [
    {
     "name": "stdout",
     "output_type": "stream",
     "text": [
      "['spend', 'several', 'year', 'army', 'get', 'say', 'game', 'spot', 'training', 'atmosphere', 'military', 'provide', 'love', 'difficult', 'game', 'love', 'different', 'feature', 'game', 'provide', 'easy', 'hit_target', 'assault_rifle', 'yard', 'real_life', 'game', 'seem', 'match', 'same', 'difficulty', 'fatigue', 'real', 'thing', 'seriously', 'hinder', 'accuracy', 'real_life', 'make', 'stop', 'catch_breath', 'run', 'too', 'far', 'carry', 'too', 'much', 'gear', 'hard', 'time', 'hit_target', 'enemy', 'stupid', 'great', 'vision', 'engage', 'enemy', 'yard_away', 'use', 'bush', 'cover', 'as', 'well', 'second', 'rush', 'move', 'ai', 'more', 'advanced', 'average', 'taliban', 'real_life', 'haha', 'give', 'love', 'military', 'videogame', 'one', 'definitely', 'favorite', 'time']\n"
     ]
    }
   ],
   "source": [
    "print(data_words_bigrams_trigrams[0])"
   ]
  },
  {
   "cell_type": "markdown",
   "id": "3cf8c6ce",
   "metadata": {},
   "source": [
    "### TF-IDF Model"
   ]
  },
  {
   "cell_type": "code",
   "execution_count": 29,
   "id": "2aa964e3",
   "metadata": {},
   "outputs": [
    {
     "name": "stdout",
     "output_type": "stream",
     "text": [
      "[(0, 1), (1, 1), (2, 1), (3, 1), (4, 1), (5, 1), (6, 1), (7, 1), (8, 1), (9, 1), (10, 1), (11, 1), (12, 1), (13, 1), (14, 1), (15, 1), (16, 1), (17, 2), (18, 1), (19, 1)]\n"
     ]
    }
   ],
   "source": [
    "# TF-IDF Removal\n",
    "from gensim.models import TfidfModel\n",
    "\n",
    "id2word = corpora.Dictionary(data_words_bigrams_trigrams)\n",
    "\n",
    "texts = data_words_bigrams_trigrams\n",
    "\n",
    "corpus = [id2word.doc2bow(text) for text in texts]\n",
    "print(corpus[0][:20])\n",
    "\n",
    "# create TF-IDF model using the corpus and id2word dictionary\n",
    "tfidf = TfidfModel(corpus, id2word = id2word)"
   ]
  },
  {
   "cell_type": "code",
   "execution_count": 33,
   "id": "408c3a5b",
   "metadata": {},
   "outputs": [],
   "source": [
    "low_value = 0.03\n",
    "words = []\n",
    "words_missing_in_tfidf = []\n",
    "\n",
    "for i in range(0, len(corpus)):\n",
    "    bow = corpus[i]\n",
    "    low_value_words = []\n",
    "    tfidf_ids = [id for id, value in tfidf[bow]]\n",
    "    bow_ids = [id for id, value in bow]\n",
    "    low_value_words = [id for id, value in tfidf[bow] if value < low_value]\n",
    "    drops = low_value_words + words_missing_in_tfidf\n",
    "    \n",
    "    for item in drops:\n",
    "        words.append(id2word[item])\n",
    "    words_missing_in_tfidf = [id for id in bow_ids if id not in tfidf_ids]\n",
    "    \n",
    "    new_bow = [b for b in bow if b[0] not in low_value_words and b[0] not in words_missing_in_tfidf]\n",
    "    corpus[i] = new_bow"
   ]
  },
  {
   "cell_type": "markdown",
   "id": "11a068f9",
   "metadata": {},
   "source": [
    "### Build LDA Model for 10 topics"
   ]
  },
  {
   "cell_type": "code",
   "execution_count": 35,
   "id": "30af3e97",
   "metadata": {},
   "outputs": [],
   "source": [
    "lda_model = gensim.models.ldamodel.LdaModel(corpus = corpus, \n",
    "                                            id2word = id2word,\n",
    "                                            num_topics = 10,\n",
    "                                            random_state = 42,\n",
    "                                            update_every = 1,\n",
    "                                            iterations=200,\n",
    "                                            eval_every = None,\n",
    "                                            chunksize = 5000,\n",
    "                                            passes = 40,\n",
    "                                            alpha = 'auto')"
   ]
  },
  {
   "cell_type": "code",
   "execution_count": 36,
   "id": "4604a51e",
   "metadata": {},
   "outputs": [
    {
     "name": "stderr",
     "output_type": "stream",
     "text": [
      "/home/ubuntu/.local/lib/python3.10/site-packages/pyLDAvis/_prepare.py:244: FutureWarning: In a future version of pandas all arguments of DataFrame.drop except for the argument 'labels' will be keyword-only.\n",
      "  by='saliency', ascending=False).head(R).drop('saliency', 1)\n",
      "/home/ubuntu/.local/lib/python3.10/site-packages/sklearn/manifold/_mds.py:299: FutureWarning: The default value of `normalized_stress` will change to `'auto'` in version 1.4. To suppress this warning, manually set the value of `normalized_stress`.\n",
      "  warnings.warn(\n"
     ]
    }
   ],
   "source": [
    "pyLDAvis.enable_notebook()\n",
    "vis = pyLDAvis.gensim_models.prepare(lda_model, corpus, id2word, mds = 'mmds', R = 30)"
   ]
  },
  {
   "cell_type": "code",
   "execution_count": 37,
   "id": "d9b6e7f9",
   "metadata": {},
   "outputs": [
    {
     "data": {
      "text/html": [
       "\n",
       "<link rel=\"stylesheet\" type=\"text/css\" href=\"https://cdn.jsdelivr.net/gh/bmabey/pyLDAvis@3.4.0/pyLDAvis/js/ldavis.v1.0.0.css\">\n",
       "\n",
       "\n",
       "<div id=\"ldavis_el132851403779233510728538121409\" style=\"background-color:white;\"></div>\n",
       "<script type=\"text/javascript\">\n",
       "\n",
       "var ldavis_el132851403779233510728538121409_data = {\"mdsDat\": {\"x\": [-0.004037725831500911, 0.05272993908850579, -0.3739286314684973, -0.22264397215789, 0.35552021498367326, 0.39933461582149915, 0.10332573086896478, -0.24960837239690437, -0.44502482363834855, 0.38433302473049824], \"y\": [0.0530787762222174, -0.4417607713989978, -0.13870533543211813, 0.39618181429627664, -0.3155753412259166, -0.03029049653309257, 0.44909712075856184, -0.38760035819732325, 0.1503406983045018, 0.2652338932058907], \"topics\": [1, 2, 3, 4, 5, 6, 7, 8, 9, 10], \"cluster\": [1, 1, 1, 1, 1, 1, 1, 1, 1, 1], \"Freq\": [30.66582616352496, 26.05008238051089, 18.872797984857137, 4.601616127711772, 3.8224731627149637, 3.730448655738051, 3.424349772328471, 3.2484902636484985, 2.982309889515399, 2.601605599449855]}, \"tinfo\": {\"Term\": [\"game\", \"good\", \"play\", \"get\", \"buy\", \"ever\", \"free\", \"fun\", \"just\", \"time\", \"great\", \"warframe\", \"kill\", \"money\", \"so\", \"worth\", \"new\", \"story\", \"weapon\", \"really\", \"run\", \"very\", \"well\", \"hour\", \"love\", \"amazing\", \"pay\", \"character\", \"go\", \"soundtrack\", \"game\", \"play\", \"fun\", \"great\", \"so\", \"really\", \"very\", \"love\", \"amazing\", \"much\", \"like\", \"friend\", \"lot\", \"still\", \"awesome\", \"need\", \"recommend\", \"too\", \"people\", \"pretty\", \"enjoy\", \"nice\", \"hard\", \"cool\", \"stuff\", \"always\", \"probably\", \"favorite\", \"pay_win\", \"ton\", \"well\", \"many\", \"far\", \"more\", \"make\", \"other\", \"also\", \"most\", \"even\", \"get\", \"just\", \"hour\", \"go\", \"say\", \"grind\", \"only\", \"then\", \"now\", \"try\", \"give\", \"again\", \"know\", \"first\", \"take\", \"see\", \"start\", \"spend\", \"bad\", \"never\", \"keep\", \"undertale\", \"end\", \"do\", \"come\", \"year\", \"few\", \"life\", \"day\", \"review\", \"think\", \"time\", \"look\", \"find\", \"use\", \"want\", \"thing\", \"even\", \"story\", \"character\", \"gameplay\", \"graphic\", \"feel\", \"player\", \"rpg\", \"mission\", \"experience\", \"different\", \"world\", \"level\", \"combat\", \"music\", \"unique\", \"real\", \"interesting\", \"system\", \"action\", \"own\", \"however\", \"fantastic\", \"mechanic\", \"beautiful\", \"absolutely\", \"style\", \"choice\", \"perfect\", \"base\", \"quest\", \"part\", \"bit\", \"finish\", \"way\", \"little\", \"make\", \"enemy\", \"gun\", \"ninja\", \"platinum\", \"shoot\", \"destiny\", \"hit\", \"power\", \"wall\", \"meet\", \"team\", \"man\", \"jump\", \"win\", \"throw\", \"dream\", \"speed\", \"emotional\", \"alien\", \"attack\", \"ninja_space\", \"squad\", \"face\", \"match\", \"war\", \"head\", \"shot\", \"skeleton\", \"route\", \"step\", \"free\", \"warframe\", \"new\", \"weapon\", \"update\", \"content\", \"item\", \"community\", \"add\", \"developer\", \"devs\", \"space_ninja\", \"thank\", \"space_ninjas\", \"release\", \"beta\", \"plat\", \"support\", \"constantly\", \"tenno\", \"market\", \"archwing\", \"event\", \"archwe\", \"pun\", \"microtransaction\", \"blueprint\", \"balance\", \"digital_extreme\", \"grinding\", \"kill\", \"ing\", \"guy\", \"die\", \"dog\", \"call\", \"parkour\", \"join\", \"robot\", \"simulator\", \"server\", \"random\", \"clan\", \"unlock\", \"genocide\", \"stupid\", \"card\", \"rage\", \"kick\", \"blind\", \"wanna\", \"potato\", \"trading\", \"bunch\", \"pet\", \"sorry\", \"quit\", \"crap\", \"screen\", \"zombie\", \"buy\", \"money\", \"worth\", \"pay\", \"farm\", \"witcher\", \"adventure\", \"check\", \"dlc\", \"regret\", \"price\", \"purchase\", \"sale\", \"waste\", \"dollar\", \"hype\", \"cost\", \"sell\", \"earn\", \"cash\", \"currency\", \"buck\", \"hilarious\", \"message\", \"extra\", \"goty\", \"promise\", \"expensive\", \"omg\", \"value\", \"run\", \"soundtrack\", \"pc\", \"fix\", \"bug\", \"problem\", \"frame\", \"high\", \"computer\", \"grindy\", \"sword\", \"fps\", \"fine\", \"drop\", \"issue\", \"crash\", \"glitch\", \"lag\", \"low\", \"patch\", \"ban\", \"laptop\", \"console\", \"ps\", \"setting\", \"skip\", \"launch\", \"constant\", \"machine\", \"buggy\", \"good\", \"ever\", \"ve\", \"out_there\", \"awsome\", \"skyrim\", \"possibly\", \"personality\", \"tho\", \"classic\", \"info\", \"ign\", \"pink\", \"dig\", \"farming_simulator\", \"creature\", \"wit\", \"comedy\", \"mmorpg\", \"couse\", \"bullet_sponge\", \"recomende\", \"hand_down\", \"hooked\", \"approve\", \"mixture\", \"weekend\", \"co_op_shooter\", \"sim\", \"gam\", \"space\", \"minecraft\", \"terraria\", \"boss\", \"fight\", \"craft\", \"monster\", \"hate\", \"spoil\", \"planet\", \"emotion\", \"fanbase\", \"sick\", \"star\", \"npc\", \"obtain\", \"diablo\", \"ship\", \"herpe\", \"okay\", \"addicted\", \"clever\", \"borderland\", \"pirate\", \"journey\", \"delete\", \"daily\", \"praise\", \"giant\", \"stop_read\", \"build\", \"explore\"], \"Freq\": [553977.0, 176641.0, 289921.0, 167261.0, 65150.0, 56661.0, 47910.0, 121856.0, 99485.0, 97586.0, 104395.0, 37189.0, 36366.0, 34921.0, 93902.0, 32269.0, 32301.0, 56747.0, 28876.0, 76818.0, 25990.0, 74991.0, 74558.0, 60831.0, 68684.0, 63692.0, 22261.0, 44128.0, 54446.0, 20990.0, 553976.0749172872, 289920.80408577516, 121856.01525608846, 104394.3348246558, 93901.18337958194, 76817.97302255813, 74990.49289681045, 68683.88738333048, 63691.15849709808, 57060.68418690213, 48698.08527988822, 47665.98501596951, 46293.9893575225, 44985.58032429655, 37310.13795143667, 35348.43471005617, 34144.263174409556, 30343.07349919082, 29381.98590993642, 26757.28807562981, 25208.454230499054, 21838.831170371875, 21437.798655717277, 20248.693155803052, 18594.93979965801, 17067.97633061376, 13116.835592043479, 12001.745779633951, 11750.19984128626, 11593.891694812137, 74522.41056450304, 32332.15204194116, 16440.6072478937, 74279.32087483979, 72834.20476126004, 29368.262363807553, 25024.41111030677, 24037.844934940553, 21962.74224286832, 167260.88333999782, 99484.91921372782, 60830.639167266236, 54445.825843492945, 48315.2960019954, 45129.25374537791, 44054.77918375026, 38724.271428593725, 38185.05091225524, 36473.628427660835, 35060.245016493165, 32672.544096799124, 30952.120211114947, 30256.99737942494, 28971.63145546323, 28078.56805774962, 27868.501213997766, 27810.314108254068, 26247.00736115792, 25308.136833454155, 22425.429596541428, 21821.78929701091, 20748.6808016733, 19876.47918773197, 19117.378104990104, 17946.604407828505, 17876.289804654512, 17318.25416457473, 15494.225128108954, 15301.842744302976, 37351.01621469616, 96573.44164498507, 30349.67521958822, 26096.979130853597, 21329.293126600183, 48588.64586663364, 47206.51854006304, 27100.56460964421, 56746.07808224941, 44127.399048985906, 42976.17807881333, 41862.28961059643, 40324.92714178256, 26381.488618320192, 23613.27052026715, 23388.139132905508, 21704.967123221017, 19194.289209199906, 17218.651579787216, 14936.213738553803, 14902.634987504864, 14669.70095878106, 14097.129350664703, 13201.777579833702, 12643.323185579393, 12067.1118175796, 11838.239934081374, 11575.053217965164, 11247.704577805178, 10204.742384665728, 10081.321917882666, 9861.867990402325, 9464.616343420537, 9420.576044117168, 9328.552593216207, 8773.657546573086, 8514.156540210168, 7785.693813046423, 15054.253652306945, 17990.250630930037, 9799.947006165394, 24475.495085885686, 12830.602483995448, 13721.171933756004, 17830.689220663546, 15188.286076422091, 10588.21317207743, 8892.78568999441, 8187.734971391252, 6705.0961256062665, 5850.2633456953035, 5776.945130964984, 5378.324630573696, 5316.12471624345, 4871.210425956762, 4615.523127615904, 4560.8167116174645, 4221.991225372994, 4158.666209021797, 3906.824768795451, 3570.804496705096, 3555.2586117530204, 3515.5952105195825, 3430.0226052021962, 3446.219161947315, 3262.600012858883, 3249.844475718631, 3220.4157970629913, 3029.702601796495, 2986.3088259190977, 2873.4836297307534, 2868.546280456122, 2839.331116948464, 2744.070827358756, 47909.70269659165, 37188.82310078714, 32300.39981725426, 28875.147691250055, 21749.349034043273, 16685.39841689369, 15384.217026078662, 14020.685510892696, 10199.95530998533, 7693.355601434102, 6026.281195992779, 5884.929238833925, 5253.403890490327, 4552.98657291275, 3694.7878750329237, 3467.3023430719727, 3442.808725196719, 3304.8937780167953, 3192.0845385958955, 3328.3092586230905, 2467.5066731061343, 2302.3501466253956, 2268.502291947459, 2274.1166953550314, 2227.875810267234, 1844.9858470526785, 1760.6049612072384, 1750.8952827352077, 1723.7829224098557, 1661.2325265243144, 36365.917823017226, 10144.147968576443, 9488.672400466465, 8520.820479691763, 8416.810307658274, 7833.979281853555, 6079.364547922299, 5675.668129152912, 5349.4083597477675, 5043.0411793842995, 4956.539420078333, 4839.575048739679, 4715.3414722843645, 4345.0399404166765, 4053.518929895728, 3755.975472538735, 3248.493151507827, 2918.3755577619713, 2741.4576233715416, 2722.6091812900113, 2687.196390435389, 2651.6746086635476, 2651.832156431706, 2597.3524176663223, 2524.15313953881, 2458.070409377881, 2428.1770303567555, 2402.83891274758, 2400.250727793505, 2338.3431881537126, 65149.12439736216, 34920.56154223048, 32268.44171393062, 22260.48495596628, 12994.835100273958, 8063.804363161929, 7442.448145086137, 7211.494310161145, 6968.726502535266, 6960.2474550851575, 6557.625777549141, 5953.961337928737, 5552.5517774550235, 5355.279725565244, 4852.147569627276, 4361.090729090139, 4351.644553317304, 3727.04960975758, 3663.8191063368986, 3522.185792933933, 3520.2419163117956, 2730.2577682574192, 2339.8648447503574, 1937.305216063959, 1790.7543309125954, 1732.210680132818, 1666.049931813903, 1636.3064069005625, 1591.3977904081335, 1582.9395862408421, 25989.33279607546, 20989.35841061022, 12440.687946489441, 10485.717535082404, 10387.01504988821, 10374.806979644569, 9864.170036921492, 9192.10621819495, 8437.063295485048, 8133.255374185643, 7136.271082899114, 6465.332188017907, 5622.6401151176215, 5527.92444764029, 4860.557748734142, 4803.182069653515, 4704.819373516984, 4013.37845256654, 3984.8477312431323, 3724.6207225186067, 3399.875772148658, 2646.3124680390033, 2254.109807488933, 2210.609203160447, 2076.334271484993, 1994.3257109111912, 1919.8927428150257, 1781.4110583388315, 1772.8268977137623, 1738.6873754546361, 176640.50432910197, 56660.98034997431, 7603.5056213495545, 6837.580901547735, 4173.425320185867, 2724.4034912291913, 1932.0928723851596, 1845.438397346675, 1816.0950076888143, 1553.6929793575116, 1546.213655946466, 1520.0190582330272, 1366.8379402992389, 1147.6650551926793, 939.519016057876, 911.522764771803, 876.4538101253343, 853.0255413347759, 787.6608794667675, 654.7024065245087, 636.0188295955699, 523.4812149559319, 491.2895649484333, 462.80256291785156, 457.35120813682033, 367.475784247604, 354.82322607128316, 346.6280237644029, 343.17119478985234, 323.2310683482807, 17918.518063539545, 17392.58542422703, 16175.226898580697, 14623.033629315813, 12962.554378503619, 12962.053492131867, 8284.507594282315, 7933.695647340728, 4846.013279514006, 3637.254115321983, 3233.788193902529, 2829.8291820081604, 2477.750158208851, 2466.269482008095, 2354.020748650037, 2307.787913325981, 2121.0284342215778, 2041.1658052969149, 1894.140428827055, 1580.7098072169063, 1572.8799251425464, 1533.1243837917023, 1515.139127978806, 1407.641384688208, 1382.9004970228561, 1374.8418541006977, 1326.4713595018718, 1289.0309558897181, 1257.545155730061, 1244.0849307872516, 13197.367765708748, 7187.7096897525025], \"Total\": [553977.0, 176641.0, 289921.0, 167261.0, 65150.0, 56661.0, 47910.0, 121856.0, 99485.0, 97586.0, 104395.0, 37189.0, 36366.0, 34921.0, 93902.0, 32269.0, 32301.0, 56747.0, 28876.0, 76818.0, 25990.0, 74991.0, 74558.0, 60831.0, 68684.0, 63692.0, 22261.0, 44128.0, 54446.0, 20990.0, 553977.0314317808, 289921.76063925534, 121856.97179990048, 104395.29134992448, 93902.13991306897, 76818.92957436417, 74991.4494445395, 68684.84391300542, 63692.11502713782, 57061.640718082665, 48699.04182253514, 47666.94152735502, 46294.94591891557, 44986.53691966051, 37311.094496862184, 35349.3913470535, 34145.21969265925, 30344.03008699795, 29382.942469495796, 26758.244679346393, 25209.410774774766, 21839.787763194974, 21438.755217538597, 20249.649772237797, 18595.896427428663, 17068.93293133377, 13117.792165729375, 12002.702273925364, 11751.156972634237, 11594.84825010843, 74558.53036729986, 32460.428264832837, 16466.498313933334, 79905.23345653617, 86556.2365478184, 35461.80811052105, 32540.70885965139, 30765.949535237414, 49064.1650363637, 167261.84035593303, 99485.87618130149, 60831.5961276328, 54446.78279699636, 48316.252964949155, 45130.21124725321, 44055.73804095337, 38725.22840316443, 38186.007871888476, 36474.58545151968, 35061.20202207775, 32673.501056937337, 30953.077190826134, 30257.95431233325, 28972.588455386096, 28079.52502756744, 27869.458204528004, 27811.27117342781, 26247.96436071202, 25309.09377786937, 22426.386619691253, 21822.751367573353, 20749.637773522023, 19877.436170942092, 19118.335065995718, 17947.561369809195, 17877.246801935467, 17319.211111819845, 15495.18208572989, 15302.799686392844, 37364.97518220702, 97586.96253951431, 30370.89647408507, 26116.904492419995, 21334.316043856685, 49129.91981712346, 49723.82111301137, 49064.1650363637, 56747.03670177317, 44128.3576921572, 42977.136741021684, 41863.24833744237, 40325.88578886943, 26382.44738395958, 23614.229129469186, 23389.09819511632, 21705.925735007007, 19195.247853034514, 17219.610133567734, 14937.172478091892, 14903.593610784284, 14670.659574511767, 14098.087992255361, 13202.736343706176, 12644.281796937046, 12068.070582461594, 11839.198609271394, 11576.011831964253, 11248.663321397178, 10205.700961005046, 10082.280534745792, 9862.826594786397, 9465.574954687578, 9421.534692120995, 9329.511224188469, 8774.616147784272, 8515.115156014153, 7786.652530881342, 15155.696312331127, 18570.92291766496, 9959.020310949061, 34203.89224867162, 17207.43638521042, 86556.2365478184, 17831.62813357604, 15189.225054392247, 10589.152957770224, 8893.72600847622, 8188.673838635909, 6706.0356253283035, 5851.20223039982, 5777.884124297601, 5379.263522348203, 5317.063596921319, 4872.149290777681, 4616.4619466317, 4561.755589340694, 4222.930071221593, 4159.605092846391, 3907.763695997953, 3571.7436165923314, 3556.197689914746, 3516.5342276934784, 3430.96145918733, 3447.170915989064, 3263.5396341842707, 3250.783314823455, 3221.354629650816, 3030.641565079167, 2987.247660599803, 2874.4225007512828, 2869.485215119373, 2840.2701713056513, 2745.009616976116, 47910.68157303404, 37189.81751700501, 32301.378531867813, 28876.126493765034, 21750.327728734905, 16686.377100923895, 15385.195767194828, 14021.6683703432, 10200.933985998889, 7694.3343401421, 6027.259932507298, 5885.973243150341, 5254.382637462572, 4554.005720324078, 3695.766527150696, 3468.2812808772624, 3443.788067341324, 3305.8724684166928, 3193.063263580213, 3329.3407738599894, 2468.4855483747006, 2303.3323092977334, 2269.4809969597104, 2275.0998450357056, 2228.8549534561257, 1845.9645361106382, 1761.5843460683423, 1751.874097954604, 1724.7762575817821, 1662.2115825422043, 36366.84077609795, 10145.070936740107, 9489.595375105302, 8521.743389653433, 8417.733334196173, 7834.902270244961, 6080.290132604989, 5676.591134384587, 5350.33146368897, 5043.964156611375, 4957.4623303039725, 4840.498089687038, 4716.266876292715, 4345.963105929252, 4054.4429495313975, 3756.898431513534, 3249.416227135846, 2919.298597527988, 2742.3805703107737, 2723.5322964703137, 2688.119371255902, 2652.597799715412, 2652.755779671145, 2598.2754073549727, 2525.0762160282206, 2458.9933671416356, 2429.1000282269483, 2403.761898911166, 2401.1736952838924, 2339.2660671497338, 65150.064086292114, 34921.50133094733, 32269.381431391994, 22261.42479489457, 12995.775187482323, 8064.747262362932, 7443.387839543197, 7212.434072243439, 6969.6661191658195, 6961.1871599000315, 6558.565457191707, 5954.90107185635, 5553.491415170036, 5356.219477812498, 4853.0872798096025, 4362.030491120117, 4352.584310092425, 3727.9894081764837, 3664.7589521446625, 3523.125736074651, 3521.1822314302344, 2731.19745959825, 2340.804603307813, 1938.2451368157215, 1791.6940663609194, 1733.1504073696879, 1666.989646787007, 1637.2462021075644, 1592.3375148214668, 1583.8792767121024, 25990.26612494109, 20990.291770357224, 12441.621195777772, 10486.650796063366, 10387.948356702054, 10375.74026597835, 9865.103834262825, 9193.0395336259, 8437.99655468386, 8134.188994479043, 7137.2045140631335, 6466.26544289554, 5623.573448350307, 5528.857827730732, 4861.491011122993, 4804.1152766778, 4705.7527225566255, 4014.311716065128, 3985.7810023582288, 3725.5540328519605, 3400.8092429755484, 2647.245726087247, 2255.043041174285, 2211.542482069193, 2077.267515727707, 1995.2591616178304, 1920.8259762476914, 1782.3444062581502, 1773.7603617041725, 1739.620710347201, 176641.46285406034, 56661.93884660606, 7604.464165560632, 6838.539505081848, 4174.383853158095, 2725.3620124348727, 1933.0514007593022, 1846.397070111172, 1817.0536009929938, 1554.6515019678693, 1547.1729529884049, 1520.9775680974446, 1367.7973460879823, 1148.6235939870282, 940.4789659450136, 912.4813367615629, 877.412775590523, 853.9841526746903, 788.6198831831232, 655.6620748734492, 636.9812658470646, 524.4397449467574, 492.2480327382058, 463.7611947528916, 458.30975473468914, 368.43442545047867, 355.78182267550585, 347.5870422125354, 344.12970796563144, 324.18957656438545, 17919.47183269035, 17393.538756464324, 16176.180451041431, 14623.987013419037, 12963.50780648985, 12963.007009764888, 8285.46104921512, 7934.649166615624, 4846.967025783802, 3638.207788192793, 3234.742035842982, 2830.7829328684356, 2478.703801575357, 2467.2229445641287, 2354.974118141466, 2308.7417827110958, 2121.9823208416633, 2042.1194638851487, 1895.1026088172737, 1581.6633416456082, 1573.8334108047368, 1534.0779560780281, 1516.093090157101, 1408.594857269576, 1383.8540252483401, 1375.795396992639, 1327.4252934868052, 1289.9845616833222, 1258.4985632080782, 1245.0384378450137, 13221.828395859202, 7446.579589990047], \"Category\": [\"Default\", \"Default\", \"Default\", \"Default\", \"Default\", \"Default\", \"Default\", \"Default\", \"Default\", \"Default\", \"Default\", \"Default\", \"Default\", \"Default\", \"Default\", \"Default\", \"Default\", \"Default\", \"Default\", \"Default\", \"Default\", \"Default\", \"Default\", \"Default\", \"Default\", \"Default\", \"Default\", \"Default\", \"Default\", \"Default\", \"Topic1\", \"Topic1\", \"Topic1\", \"Topic1\", \"Topic1\", \"Topic1\", \"Topic1\", \"Topic1\", \"Topic1\", \"Topic1\", \"Topic1\", \"Topic1\", \"Topic1\", \"Topic1\", \"Topic1\", \"Topic1\", \"Topic1\", \"Topic1\", \"Topic1\", \"Topic1\", \"Topic1\", \"Topic1\", \"Topic1\", \"Topic1\", \"Topic1\", \"Topic1\", \"Topic1\", \"Topic1\", \"Topic1\", \"Topic1\", \"Topic1\", \"Topic1\", \"Topic1\", \"Topic1\", \"Topic1\", \"Topic1\", \"Topic1\", \"Topic1\", \"Topic1\", \"Topic2\", \"Topic2\", \"Topic2\", \"Topic2\", \"Topic2\", \"Topic2\", \"Topic2\", \"Topic2\", \"Topic2\", \"Topic2\", \"Topic2\", \"Topic2\", \"Topic2\", \"Topic2\", \"Topic2\", \"Topic2\", \"Topic2\", \"Topic2\", \"Topic2\", \"Topic2\", \"Topic2\", \"Topic2\", \"Topic2\", \"Topic2\", \"Topic2\", \"Topic2\", \"Topic2\", \"Topic2\", \"Topic2\", \"Topic2\", \"Topic2\", \"Topic2\", \"Topic2\", \"Topic2\", \"Topic2\", \"Topic2\", \"Topic2\", \"Topic2\", \"Topic3\", \"Topic3\", \"Topic3\", \"Topic3\", \"Topic3\", \"Topic3\", \"Topic3\", \"Topic3\", \"Topic3\", \"Topic3\", \"Topic3\", \"Topic3\", \"Topic3\", \"Topic3\", \"Topic3\", \"Topic3\", \"Topic3\", \"Topic3\", \"Topic3\", \"Topic3\", \"Topic3\", \"Topic3\", \"Topic3\", \"Topic3\", \"Topic3\", \"Topic3\", \"Topic3\", \"Topic3\", \"Topic3\", \"Topic3\", \"Topic3\", \"Topic3\", \"Topic3\", \"Topic3\", \"Topic3\", \"Topic3\", \"Topic4\", \"Topic4\", \"Topic4\", \"Topic4\", \"Topic4\", \"Topic4\", \"Topic4\", \"Topic4\", \"Topic4\", \"Topic4\", \"Topic4\", \"Topic4\", \"Topic4\", \"Topic4\", \"Topic4\", \"Topic4\", \"Topic4\", \"Topic4\", \"Topic4\", \"Topic4\", \"Topic4\", \"Topic4\", \"Topic4\", \"Topic4\", \"Topic4\", \"Topic4\", \"Topic4\", \"Topic4\", \"Topic4\", \"Topic4\", \"Topic5\", \"Topic5\", \"Topic5\", \"Topic5\", \"Topic5\", \"Topic5\", \"Topic5\", \"Topic5\", \"Topic5\", \"Topic5\", \"Topic5\", \"Topic5\", \"Topic5\", \"Topic5\", \"Topic5\", \"Topic5\", \"Topic5\", \"Topic5\", \"Topic5\", \"Topic5\", \"Topic5\", \"Topic5\", \"Topic5\", \"Topic5\", \"Topic5\", \"Topic5\", \"Topic5\", \"Topic5\", \"Topic5\", \"Topic5\", \"Topic6\", \"Topic6\", \"Topic6\", \"Topic6\", \"Topic6\", \"Topic6\", \"Topic6\", \"Topic6\", \"Topic6\", \"Topic6\", \"Topic6\", \"Topic6\", \"Topic6\", \"Topic6\", \"Topic6\", \"Topic6\", \"Topic6\", \"Topic6\", \"Topic6\", \"Topic6\", \"Topic6\", \"Topic6\", \"Topic6\", \"Topic6\", \"Topic6\", \"Topic6\", \"Topic6\", \"Topic6\", \"Topic6\", \"Topic6\", \"Topic7\", \"Topic7\", \"Topic7\", \"Topic7\", \"Topic7\", \"Topic7\", \"Topic7\", \"Topic7\", \"Topic7\", \"Topic7\", \"Topic7\", \"Topic7\", \"Topic7\", \"Topic7\", \"Topic7\", \"Topic7\", \"Topic7\", \"Topic7\", \"Topic7\", \"Topic7\", \"Topic7\", \"Topic7\", \"Topic7\", \"Topic7\", \"Topic7\", \"Topic7\", \"Topic7\", \"Topic7\", \"Topic7\", \"Topic7\", \"Topic8\", \"Topic8\", \"Topic8\", \"Topic8\", \"Topic8\", \"Topic8\", \"Topic8\", \"Topic8\", \"Topic8\", \"Topic8\", \"Topic8\", \"Topic8\", \"Topic8\", \"Topic8\", \"Topic8\", \"Topic8\", \"Topic8\", \"Topic8\", \"Topic8\", \"Topic8\", \"Topic8\", \"Topic8\", \"Topic8\", \"Topic8\", \"Topic8\", \"Topic8\", \"Topic8\", \"Topic8\", \"Topic8\", \"Topic8\", \"Topic9\", \"Topic9\", \"Topic9\", \"Topic9\", \"Topic9\", \"Topic9\", \"Topic9\", \"Topic9\", \"Topic9\", \"Topic9\", \"Topic9\", \"Topic9\", \"Topic9\", \"Topic9\", \"Topic9\", \"Topic9\", \"Topic9\", \"Topic9\", \"Topic9\", \"Topic9\", \"Topic9\", \"Topic9\", \"Topic9\", \"Topic9\", \"Topic9\", \"Topic9\", \"Topic9\", \"Topic9\", \"Topic9\", \"Topic9\", \"Topic10\", \"Topic10\", \"Topic10\", \"Topic10\", \"Topic10\", \"Topic10\", \"Topic10\", \"Topic10\", \"Topic10\", \"Topic10\", \"Topic10\", \"Topic10\", \"Topic10\", \"Topic10\", \"Topic10\", \"Topic10\", \"Topic10\", \"Topic10\", \"Topic10\", \"Topic10\", \"Topic10\", \"Topic10\", \"Topic10\", \"Topic10\", \"Topic10\", \"Topic10\", \"Topic10\", \"Topic10\", \"Topic10\", \"Topic10\", \"Topic10\", \"Topic10\"], \"logprob\": [30.0, 29.0, 28.0, 27.0, 26.0, 25.0, 24.0, 23.0, 22.0, 21.0, 20.0, 19.0, 18.0, 17.0, 16.0, 15.0, 14.0, 13.0, 12.0, 11.0, 10.0, 9.0, 8.0, 7.0, 6.0, 5.0, 4.0, 3.0, 2.0, 1.0, -1.7167, -2.3642, -3.2309, -3.3856, -3.4915, -3.6923, -3.7164, -3.8043, -3.8797, -3.9897, -4.1481, -4.1696, -4.1988, -4.2274, -4.4145, -4.4685, -4.5032, -4.6212, -4.6534, -4.747, -4.8066, -4.9501, -4.9686, -5.0257, -5.1109, -5.1966, -5.4599, -5.5487, -5.5699, -5.5833, -3.7227, -4.5577, -5.234, -3.726, -3.7456, -4.6539, -4.8139, -4.8542, -4.9444, -2.7511, -3.2707, -3.7626, -3.8735, -3.9929, -4.0611, -4.0852, -4.2142, -4.2282, -4.2741, -4.3136, -4.3841, -4.4382, -4.4609, -4.5043, -4.5357, -4.5432, -4.5453, -4.6031, -4.6395, -4.7605, -4.7877, -4.8382, -4.8811, -4.9201, -4.9833, -4.9872, -5.0189, -5.1302, -5.1427, -4.2503, -3.3004, -4.4579, -4.6088, -4.8106, -3.9873, -4.0161, -4.5711, -3.5098, -3.7613, -3.7877, -3.814, -3.8514, -4.2757, -4.3866, -4.3961, -4.4708, -4.5937, -4.7024, -4.8446, -4.8468, -4.8626, -4.9024, -4.968, -5.0112, -5.0579, -5.077, -5.0995, -5.1282, -5.2255, -5.2377, -5.2597, -5.3008, -5.3055, -5.3153, -5.3766, -5.4066, -5.4961, -4.8367, -4.6585, -5.266, -4.3507, -4.9965, -4.9294, -3.2561, -3.4165, -3.7773, -3.9518, -4.0344, -4.2342, -4.3706, -4.3832, -4.4547, -4.4663, -4.5537, -4.6076, -4.6195, -4.6967, -4.7119, -4.7743, -4.8643, -4.8686, -4.8798, -4.9045, -4.8998, -4.9545, -4.9584, -4.9675, -5.0286, -5.043, -5.0815, -5.0832, -5.0935, -5.1276, -2.0822, -2.3355, -2.4765, -2.5886, -2.872, -3.137, -3.2182, -3.311, -3.6292, -3.9112, -4.1554, -4.1791, -4.2927, -4.4358, -4.6446, -4.7082, -4.7152, -4.7561, -4.7909, -4.7491, -5.0483, -5.1176, -5.1324, -5.1299, -5.1505, -5.3391, -5.3859, -5.3914, -5.407, -5.444, -2.3335, -3.6103, -3.6771, -3.7847, -3.7969, -3.8687, -4.1223, -4.191, -4.2502, -4.3092, -4.3265, -4.3503, -4.3763, -4.4581, -4.5276, -4.6038, -4.749, -4.8561, -4.9187, -4.9256, -4.9387, -4.952, -4.9519, -4.9727, -5.0013, -5.0278, -5.04, -5.0505, -5.0516, -5.0777, -1.6649, -2.2885, -2.3675, -2.7387, -3.277, -3.7542, -3.8343, -3.8659, -3.9001, -3.9013, -3.9609, -4.0575, -4.1273, -4.1635, -4.2621, -4.3688, -4.371, -4.5259, -4.543, -4.5825, -4.583, -4.8372, -4.9915, -5.1803, -5.2589, -5.2922, -5.3311, -5.3491, -5.3769, -5.3823, -2.5311, -2.7448, -3.2679, -3.4388, -3.4483, -3.4494, -3.4999, -3.5705, -3.6562, -3.6929, -3.8236, -3.9224, -4.062, -4.079, -4.2077, -4.2195, -4.2402, -4.3992, -4.4063, -4.4739, -4.5651, -4.8157, -4.9761, -4.9956, -5.0582, -5.0985, -5.1366, -5.2114, -5.2163, -5.2357, -0.5292, -1.6663, -3.6747, -3.7809, -4.2746, -4.7011, -5.0447, -5.0906, -5.1066, -5.2627, -5.2675, -5.2846, -5.3908, -5.5656, -5.7657, -5.796, -5.8352, -5.8623, -5.942, -6.1269, -6.1559, -6.3506, -6.4141, -6.4738, -6.4856, -6.7044, -6.7395, -6.7628, -6.7729, -6.8327, -2.6809, -2.7107, -2.7833, -2.8842, -3.0047, -3.0047, -3.4524, -3.4956, -3.9886, -4.2755, -4.3931, -4.5266, -4.6594, -4.6641, -4.7106, -4.7305, -4.8149, -4.8532, -4.928, -5.1089, -5.1139, -5.1395, -5.1513, -5.2249, -5.2426, -5.2484, -5.2842, -5.3129, -5.3376, -5.3484, -2.9867, -3.5944], \"loglift\": [30.0, 29.0, 28.0, 27.0, 26.0, 25.0, 24.0, 23.0, 22.0, 21.0, 20.0, 19.0, 18.0, 17.0, 16.0, 15.0, 14.0, 13.0, 12.0, 11.0, 10.0, 9.0, 8.0, 7.0, 6.0, 5.0, 4.0, 3.0, 2.0, 1.0, 1.182, 1.182, 1.182, 1.182, 1.182, 1.182, 1.182, 1.182, 1.182, 1.182, 1.182, 1.182, 1.182, 1.182, 1.182, 1.182, 1.182, 1.182, 1.182, 1.182, 1.182, 1.182, 1.182, 1.182, 1.182, 1.182, 1.1819, 1.1819, 1.1819, 1.1819, 1.1815, 1.1781, 1.1804, 1.109, 1.0094, 0.9935, 0.9194, 0.9352, 0.3782, 1.3451, 1.3451, 1.3451, 1.3451, 1.3451, 1.3451, 1.3451, 1.3451, 1.3451, 1.3451, 1.3451, 1.3451, 1.3451, 1.3451, 1.3451, 1.3451, 1.3451, 1.3451, 1.3451, 1.3451, 1.3451, 1.3451, 1.3451, 1.3451, 1.3451, 1.3451, 1.3451, 1.3451, 1.3451, 1.3451, 1.3448, 1.3347, 1.3445, 1.3444, 1.3449, 1.3341, 1.2932, 0.7516, 1.6674, 1.6674, 1.6674, 1.6674, 1.6674, 1.6674, 1.6674, 1.6674, 1.6674, 1.6674, 1.6674, 1.6674, 1.6674, 1.6674, 1.6674, 1.6674, 1.6674, 1.6674, 1.6674, 1.6674, 1.6674, 1.6674, 1.6674, 1.6674, 1.6673, 1.6673, 1.6673, 1.6673, 1.6673, 1.6673, 1.6607, 1.6357, 1.6513, 1.3328, 1.3739, -0.1744, 3.0787, 3.0787, 3.0787, 3.0787, 3.0786, 3.0786, 3.0786, 3.0786, 3.0786, 3.0786, 3.0786, 3.0786, 3.0786, 3.0785, 3.0785, 3.0785, 3.0785, 3.0785, 3.0785, 3.0785, 3.0785, 3.0785, 3.0785, 3.0785, 3.0785, 3.0784, 3.0784, 3.0784, 3.0784, 3.0784, 3.2643, 3.2642, 3.2642, 3.2642, 3.2642, 3.2642, 3.2642, 3.2642, 3.2642, 3.2641, 3.2641, 3.2641, 3.2641, 3.264, 3.264, 3.264, 3.264, 3.264, 3.264, 3.264, 3.2639, 3.2638, 3.2638, 3.2638, 3.2638, 3.2637, 3.2637, 3.2637, 3.2637, 3.2637, 3.2886, 3.2886, 3.2885, 3.2885, 3.2885, 3.2885, 3.2885, 3.2885, 3.2885, 3.2885, 3.2885, 3.2885, 3.2884, 3.2884, 3.2884, 3.2884, 3.2884, 3.2883, 3.2883, 3.2883, 3.2883, 3.2883, 3.2883, 3.2883, 3.2883, 3.2883, 3.2883, 3.2883, 3.2883, 3.2882, 3.3742, 3.3742, 3.3742, 3.3742, 3.3742, 3.3741, 3.3741, 3.3741, 3.3741, 3.3741, 3.3741, 3.3741, 3.3741, 3.3741, 3.3741, 3.374, 3.374, 3.374, 3.374, 3.374, 3.374, 3.3739, 3.3739, 3.3738, 3.3737, 3.3737, 3.3737, 3.3737, 3.3737, 3.3737, 3.4269, 3.4269, 3.4269, 3.4269, 3.4269, 3.4269, 3.4269, 3.4269, 3.4269, 3.4269, 3.4268, 3.4268, 3.4268, 3.4268, 3.4268, 3.4268, 3.4268, 3.4267, 3.4267, 3.4267, 3.4267, 3.4266, 3.4266, 3.4266, 3.4265, 3.4265, 3.4265, 3.4265, 3.4265, 3.4264, 3.5125, 3.5125, 3.5123, 3.5123, 3.5122, 3.5121, 3.512, 3.512, 3.5119, 3.5119, 3.5119, 3.5118, 3.5118, 3.5116, 3.5115, 3.5114, 3.5114, 3.5113, 3.5113, 3.511, 3.511, 3.5106, 3.5105, 3.5104, 3.5104, 3.5099, 3.5098, 3.5097, 3.5097, 3.5095, 3.649, 3.649, 3.649, 3.649, 3.649, 3.649, 3.6489, 3.6489, 3.6488, 3.6488, 3.6487, 3.6487, 3.6487, 3.6487, 3.6486, 3.6486, 3.6486, 3.6486, 3.6485, 3.6484, 3.6484, 3.6484, 3.6484, 3.6484, 3.6484, 3.6483, 3.6483, 3.6483, 3.6483, 3.6483, 3.6472, 3.6137]}, \"token.table\": {\"Topic\": [3, 3, 5, 10, 7, 2, 4, 1, 3, 1, 1, 9, 5, 5, 4, 1, 9, 2, 5, 8, 3, 3, 5, 1, 3, 6, 5, 10, 10, 7, 8, 8, 3, 10, 9, 6, 7, 6, 6, 7, 3, 7, 3, 6, 9, 10, 9, 3, 2, 9, 5, 8, 8, 8, 5, 5, 1, 7, 9, 10, 6, 8, 9, 7, 10, 2, 10, 4, 5, 5, 10, 6, 3, 9, 5, 7, 2, 6, 7, 4, 8, 7, 10, 4, 2, 4, 1, 1, 2, 5, 9, 7, 3, 3, 10, 7, 4, 10, 3, 1, 3, 7, 9, 1, 3, 2, 10, 2, 3, 8, 1, 3, 2, 8, 8, 8, 5, 1, 1, 9, 1, 3, 6, 2, 10, 2, 8, 2, 9, 7, 3, 1, 2, 5, 8, 4, 6, 9, 1, 10, 4, 10, 8, 7, 4, 9, 2, 3, 7, 9, 9, 6, 3, 8, 5, 6, 10, 4, 2, 2, 6, 6, 2, 8, 8, 8, 3, 2, 1, 1, 2, 3, 2, 3, 1, 1, 8, 8, 1, 3, 4, 1, 3, 5, 4, 3, 4, 7, 5, 10, 3, 9, 9, 7, 10, 1, 3, 1, 3, 1, 3, 1, 2, 5, 1, 4, 4, 2, 10, 10, 10, 7, 2, 1, 3, 9, 3, 6, 2, 3, 8, 7, 1, 8, 1, 3, 9, 6, 9, 10, 10, 5, 4, 1, 3, 9, 6, 4, 10, 1, 7, 1, 8, 7, 8, 5, 7, 3, 6, 6, 6, 3, 1, 9, 1, 7, 5, 2, 6, 4, 3, 8, 7, 2, 6, 2, 7, 6, 8, 10, 4, 4, 10, 9, 6, 4, 8, 9, 1, 6, 8, 10, 5, 5, 4, 2, 10, 4, 10, 2, 4, 1, 10, 3, 1, 6, 3, 5, 8, 3, 2, 4, 5, 10, 5, 2, 1, 2, 1, 2, 9, 4, 1, 2, 1, 1, 6, 2, 2, 3, 6, 5, 2, 3, 7, 9, 1, 4, 6, 1, 2, 4, 5, 7, 1, 2, 3, 5, 9, 1, 3, 4, 9, 7, 3, 7, 2, 6], \"Freq\": [0.9999392583450736, 0.9998987592563524, 0.9999084411290015, 0.9994704580554618, 0.9998135473291041, 0.9999846647307106, 0.9998480811904883, 0.7690059890191366, 0.23094149646254844, 0.9999453433124659, 0.9999824934823197, 0.997142206289178, 0.9995165728492728, 0.9994215731302186, 0.9997197697500345, 0.9999706656457833, 0.9996684892413409, 0.9999632595999154, 0.99950104978684, 0.9997620439966693, 0.999869038058356, 0.999916190883166, 0.9996305718096375, 0.03123161959001481, 0.968718683490287, 0.9998045565786007, 0.9996682837982488, 0.999279008548883, 0.9999325072281499, 0.9995615624223573, 0.9999087060630752, 0.9996431921375107, 0.001815180115899575, 0.9981221662302789, 0.9984595059546065, 0.9995091331152339, 0.9999836671489578, 0.9998848396299227, 0.999564159517633, 0.9996804723535343, 0.9999692331138477, 0.9998011666756224, 0.9999452035400157, 0.9997313815511409, 0.999580933754578, 0.9992973264013362, 0.998311092931432, 0.9999601699563349, 0.9999301682917937, 0.9988475750145855, 0.9999523330373, 0.9998818967657309, 0.9995374628531516, 0.9992457090484702, 0.9996670082950311, 0.9999174715448677, 0.9999679119271145, 0.9998657555946544, 0.9989902193541131, 0.9999223166535257, 0.9996830389434531, 0.9997678497260019, 0.9994724968696114, 0.9996642515631023, 0.9989262721647699, 0.9999237126918967, 0.999421863894604, 0.9998455681737819, 0.9998265814711043, 0.9997909609803781, 0.9995370739746439, 0.9999127655434525, 0.9999349915643669, 0.9994570945692803, 0.9995499372290348, 0.9999044259575093, 0.9999277486829921, 0.9999128822252905, 0.9997759612084196, 0.9998045695550283, 0.9998448453989123, 0.99979290530303, 0.9997706043218408, 0.999663210535752, 0.9999692633900897, 0.9999647741882383, 0.9999440377727441, 0.4476383116623347, 0.552358324653323, 0.9997880586088385, 0.9999834307363078, 0.9992388425723876, 0.9999573510469764, 0.034646779354485464, 0.9652753875970602, 0.9996126200482826, 0.9997590381309381, 0.9997234217928387, 0.999931316721142, 0.9984515035651654, 0.001518234145680259, 0.9999403508085405, 0.9994907212576176, 0.9999414903486451, 0.9999780342365182, 0.9999302576090557, 0.9999608280029272, 0.9992378693874011, 0.0007274981614116803, 0.9998980277655171, 0.01586501433542544, 0.9840325347289198, 0.9999684607781676, 0.9999379405230495, 0.9998043008121588, 0.9998881071825122, 0.99998577409021, 0.9999802477917641, 0.9999920250775468, 0.9963306143985502, 0.9999981381325899, 0.9999735500987761, 0.9998907495957123, 0.9999949758060103, 0.9996038428468228, 0.9999657164612613, 0.9998400420504423, 0.99998562271348, 0.9999973796975361, 0.99933623339048, 0.9999701805881783, 0.9999876301899465, 0.9999731610550951, 0.9992711020937832, 0.9998538275321793, 0.9999193471432637, 0.9999372602221941, 0.9974646262550539, 0.999964773256146, 0.9999181858451467, 0.9995823377431141, 0.9994181798852771, 0.9998869216626233, 0.9996562706230686, 0.9997945327554099, 0.9983586493188651, 0.9999902003618062, 0.9999410310915862, 0.9997637588452866, 0.99935727645302, 0.9992418733884022, 0.9998944377277611, 0.9998986263547719, 0.9998989998908011, 0.9999222780643859, 0.9998958645478258, 0.9993828646426874, 0.9998343643525182, 0.9999911929076255, 0.9999381701691509, 0.9994965796046983, 0.9999768806946105, 0.9999651992330361, 0.999673240107419, 0.999529425593185, 0.9995699890266452, 0.9999215060217312, 0.9999300711901931, 0.9999786069192298, 0.1318034801482293, 0.12250517467040005, 0.7456659849126674, 0.9993119572844054, 0.0006585251777821452, 0.9999795675554471, 0.9999877132572873, 0.9998040528674891, 0.9995713278295147, 0.8414644964347834, 0.15852121750256287, 0.9998999349204997, 0.9960435437331561, 0.00391245608233672, 0.9998033011070208, 0.9995794844695621, 0.999872991557676, 0.9997999653564544, 0.999357595800412, 0.9994774893602938, 0.9999690254828607, 0.9999530467097466, 0.9961067008091743, 0.9992139645520715, 0.9999856440608731, 0.9999443544285126, 0.929588673818261, 0.0703958896892489, 0.7813183198675003, 0.21865081694603025, 0.9999887714745913, 0.9999550412502984, 0.99996064014116, 0.9999567832068991, 0.9999573228162243, 0.9999639299061184, 0.9998911189804489, 0.9996603255197958, 0.9999736062514872, 0.9995863571773625, 0.9996787069404424, 0.9995806050325994, 0.9991600305783056, 0.9999832475635141, 0.8281585616974477, 0.17181865010972994, 0.9999211081428356, 0.9999125923522764, 0.9997878172625233, 0.006664160980701585, 0.9932898950839768, 0.9998512884668763, 0.9999359971382021, 0.9999015439384453, 0.9999500711548762, 0.9999679246046657, 0.9999297806566242, 0.9992433533751828, 0.9995737886954108, 0.9994170583162317, 0.9995776945609973, 0.9996680266045517, 0.9997711626482484, 0.9999183684683418, 0.9999973763981922, 0.9999451383740668, 0.9994560927045762, 0.9997746361263378, 0.9998469813034354, 0.9992367647547367, 0.9999534842676974, 0.9999137834034901, 0.9999396113523246, 0.9999286541529209, 0.999406326974547, 0.9997547042059598, 0.9996164158395323, 0.9998486839923153, 0.9999161987929018, 0.9995471457683234, 0.999555167967714, 0.9998970994972398, 0.9999442279473735, 0.9999878991497366, 0.9972546990180854, 0.9999642792557719, 0.9998294601376515, 0.9997925931887025, 0.9999477424778974, 0.9997511437005341, 0.999552799125068, 0.9999479496255225, 0.9999512846488373, 0.9999115123922415, 0.9999740674230251, 0.9995111993413065, 0.9999813021207828, 0.9997346000569869, 0.9999067405311087, 0.9993898158431158, 0.9994518127342957, 0.9999177108956605, 0.9995051177233302, 0.999716060638262, 0.996717203021181, 0.9998088494324229, 0.9998309051683498, 0.9993689232747042, 0.9995002453146927, 0.9999878606273508, 0.9995960269129192, 0.9999384586754984, 0.9999736692746999, 0.9998346504290564, 0.9997791569914836, 0.9997918057195155, 0.9999542928685322, 0.9998004884748221, 0.999834647577551, 0.9995043234472089, 0.9999835589007636, 0.9996321991114814, 0.999988064881245, 0.9991659391281035, 0.999981731173407, 0.9999517943417161, 0.9997608581839749, 0.9999432478743148, 0.9997360852770251, 0.9998312344755205, 0.9999112880178916, 0.9999796892367072, 0.9997641101064254, 0.9995972854835058, 0.9999270253540381, 0.9997368601493324, 0.9999682789949838, 0.05059949021781094, 0.949383996308506, 0.0003479194067868811, 0.999625981761292, 0.9994201596516371, 0.9998545311795508, 0.010380484991423135, 0.9896096516058306, 0.9999268425002092, 0.9999660530590367, 0.9997150964001524, 0.999983949056242, 0.9999655695305922, 0.9999228269637728, 0.9997783906798614, 0.9999389559205055, 0.9997508219224953, 0.0001874913632936369, 0.9994448587559478, 0.9999389614375811, 0.9999806718692567, 0.9997651123907662, 0.9995835857336279, 0.010991265648510004, 0.9889900122138011, 0.9997883071734516, 0.9999780177193761, 0.9997723248986436, 0.023096786595410975, 0.2613152893541561, 0.7155618378768147, 0.9999609887508535, 0.9978025221479094, 0.9995100444292572, 0.00046942985366769545, 0.9997797568972475, 0.9983898392753945, 0.9999073421226206, 0.9999645675155825, 0.9999571906454132, 0.9999687216665469, 0.9994587759094559], \"Term\": [\"absolutely\", \"action\", \"add\", \"addicted\", \"adventure\", \"again\", \"alien\", \"also\", \"also\", \"always\", \"amazing\", \"approve\", \"archwe\", \"archwing\", \"attack\", \"awesome\", \"awsome\", \"bad\", \"balance\", \"ban\", \"base\", \"beautiful\", \"beta\", \"bit\", \"bit\", \"blind\", \"blueprint\", \"borderland\", \"boss\", \"buck\", \"bug\", \"buggy\", \"build\", \"build\", \"bullet_sponge\", \"bunch\", \"buy\", \"call\", \"card\", \"cash\", \"character\", \"check\", \"choice\", \"clan\", \"classic\", \"clever\", \"co_op_shooter\", \"combat\", \"come\", \"comedy\", \"community\", \"computer\", \"console\", \"constant\", \"constantly\", \"content\", \"cool\", \"cost\", \"couse\", \"craft\", \"crap\", \"crash\", \"creature\", \"currency\", \"daily\", \"day\", \"delete\", \"destiny\", \"developer\", \"devs\", \"diablo\", \"die\", \"different\", \"dig\", \"digital_extreme\", \"dlc\", \"do\", \"dog\", \"dollar\", \"dream\", \"drop\", \"earn\", \"emotion\", \"emotional\", \"end\", \"enemy\", \"enjoy\", \"even\", \"even\", \"event\", \"ever\", \"expensive\", \"experience\", \"explore\", \"explore\", \"extra\", \"face\", \"fanbase\", \"fantastic\", \"far\", \"far\", \"farm\", \"farming_simulator\", \"favorite\", \"feel\", \"few\", \"fight\", \"find\", \"find\", \"fine\", \"finish\", \"finish\", \"first\", \"fix\", \"fps\", \"frame\", \"free\", \"friend\", \"fun\", \"gam\", \"game\", \"gameplay\", \"genocide\", \"get\", \"giant\", \"give\", \"glitch\", \"go\", \"good\", \"goty\", \"graphic\", \"great\", \"grind\", \"grinding\", \"grindy\", \"gun\", \"guy\", \"hand_down\", \"hard\", \"hate\", \"head\", \"herpe\", \"high\", \"hilarious\", \"hit\", \"hooked\", \"hour\", \"however\", \"hype\", \"ign\", \"info\", \"ing\", \"interesting\", \"issue\", \"item\", \"join\", \"journey\", \"jump\", \"just\", \"keep\", \"kick\", \"kill\", \"know\", \"lag\", \"laptop\", \"launch\", \"level\", \"life\", \"like\", \"little\", \"little\", \"little\", \"look\", \"look\", \"lot\", \"love\", \"low\", \"machine\", \"make\", \"make\", \"man\", \"many\", \"many\", \"market\", \"match\", \"mechanic\", \"meet\", \"message\", \"microtransaction\", \"minecraft\", \"mission\", \"mixture\", \"mmorpg\", \"money\", \"monster\", \"more\", \"more\", \"most\", \"most\", \"much\", \"music\", \"need\", \"never\", \"new\", \"nice\", \"ninja\", \"ninja_space\", \"now\", \"npc\", \"obtain\", \"okay\", \"omg\", \"only\", \"other\", \"other\", \"out_there\", \"own\", \"parkour\", \"part\", \"part\", \"patch\", \"pay\", \"pay_win\", \"pc\", \"people\", \"perfect\", \"personality\", \"pet\", \"pink\", \"pirate\", \"planet\", \"plat\", \"platinum\", \"play\", \"player\", \"possibly\", \"potato\", \"power\", \"praise\", \"pretty\", \"price\", \"probably\", \"problem\", \"promise\", \"ps\", \"pun\", \"purchase\", \"quest\", \"quit\", \"rage\", \"random\", \"real\", \"really\", \"recomende\", \"recommend\", \"regret\", \"release\", \"review\", \"robot\", \"route\", \"rpg\", \"run\", \"sale\", \"say\", \"screen\", \"see\", \"sell\", \"server\", \"setting\", \"ship\", \"shoot\", \"shot\", \"sick\", \"sim\", \"simulator\", \"skeleton\", \"skip\", \"skyrim\", \"so\", \"sorry\", \"soundtrack\", \"space\", \"space_ninja\", \"space_ninjas\", \"speed\", \"spend\", \"spoil\", \"squad\", \"star\", \"start\", \"step\", \"still\", \"stop_read\", \"story\", \"stuff\", \"stupid\", \"style\", \"support\", \"sword\", \"system\", \"take\", \"team\", \"tenno\", \"terraria\", \"thank\", \"then\", \"thing\", \"thing\", \"think\", \"think\", \"tho\", \"throw\", \"time\", \"time\", \"ton\", \"too\", \"trading\", \"try\", \"undertale\", \"unique\", \"unlock\", \"update\", \"use\", \"use\", \"value\", \"ve\", \"very\", \"wall\", \"wanna\", \"want\", \"want\", \"war\", \"warframe\", \"waste\", \"way\", \"way\", \"way\", \"weapon\", \"weekend\", \"well\", \"well\", \"win\", \"wit\", \"witcher\", \"world\", \"worth\", \"year\", \"zombie\"]}, \"R\": 30, \"lambda.step\": 0.01, \"plot.opts\": {\"xlab\": \"PC1\", \"ylab\": \"PC2\"}, \"topic.order\": [2, 5, 4, 7, 1, 8, 10, 6, 9, 3]};\n",
       "\n",
       "function LDAvis_load_lib(url, callback){\n",
       "  var s = document.createElement('script');\n",
       "  s.src = url;\n",
       "  s.async = true;\n",
       "  s.onreadystatechange = s.onload = callback;\n",
       "  s.onerror = function(){console.warn(\"failed to load library \" + url);};\n",
       "  document.getElementsByTagName(\"head\")[0].appendChild(s);\n",
       "}\n",
       "\n",
       "if(typeof(LDAvis) !== \"undefined\"){\n",
       "   // already loaded: just create the visualization\n",
       "   !function(LDAvis){\n",
       "       new LDAvis(\"#\" + \"ldavis_el132851403779233510728538121409\", ldavis_el132851403779233510728538121409_data);\n",
       "   }(LDAvis);\n",
       "}else if(typeof define === \"function\" && define.amd){\n",
       "   // require.js is available: use it to load d3/LDAvis\n",
       "   require.config({paths: {d3: \"https://d3js.org/d3.v5\"}});\n",
       "   require([\"d3\"], function(d3){\n",
       "      window.d3 = d3;\n",
       "      LDAvis_load_lib(\"https://cdn.jsdelivr.net/gh/bmabey/pyLDAvis@3.4.0/pyLDAvis/js/ldavis.v3.0.0.js\", function(){\n",
       "        new LDAvis(\"#\" + \"ldavis_el132851403779233510728538121409\", ldavis_el132851403779233510728538121409_data);\n",
       "      });\n",
       "    });\n",
       "}else{\n",
       "    // require.js not available: dynamically load d3 & LDAvis\n",
       "    LDAvis_load_lib(\"https://d3js.org/d3.v5.js\", function(){\n",
       "         LDAvis_load_lib(\"https://cdn.jsdelivr.net/gh/bmabey/pyLDAvis@3.4.0/pyLDAvis/js/ldavis.v3.0.0.js\", function(){\n",
       "                 new LDAvis(\"#\" + \"ldavis_el132851403779233510728538121409\", ldavis_el132851403779233510728538121409_data);\n",
       "            })\n",
       "         });\n",
       "}\n",
       "</script>"
      ],
      "text/plain": [
       "<IPython.core.display.HTML object>"
      ]
     },
     "execution_count": 37,
     "metadata": {},
     "output_type": "execute_result"
    }
   ],
   "source": [
    "pyLDAvis.display(vis)"
   ]
  },
  {
   "cell_type": "code",
   "execution_count": null,
   "id": "fd2d28c2",
   "metadata": {},
   "outputs": [],
   "source": []
  }
 ],
 "metadata": {
  "kernelspec": {
   "display_name": "Python 3 (ipykernel)",
   "language": "python",
   "name": "python3"
  },
  "language_info": {
   "codemirror_mode": {
    "name": "ipython",
    "version": 3
   },
   "file_extension": ".py",
   "mimetype": "text/x-python",
   "name": "python",
   "nbconvert_exporter": "python",
   "pygments_lexer": "ipython3",
   "version": "3.9.12"
  }
 },
 "nbformat": 4,
 "nbformat_minor": 5
}
